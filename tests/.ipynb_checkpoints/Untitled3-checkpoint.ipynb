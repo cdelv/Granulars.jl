{
 "cells": [
  {
   "cell_type": "code",
   "execution_count": 1,
   "id": "1fa1d2f3",
   "metadata": {},
   "outputs": [],
   "source": [
    "using BenchmarkTools\n",
    "include(\"../src/Granulars.jl\")"
   ]
  },
  {
   "cell_type": "code",
   "execution_count": 28,
   "id": "c8703ed9",
   "metadata": {},
   "outputs": [
    {
     "data": {
      "text/plain": [
       "Mean_Free_Path (generic function with 4 methods)"
      ]
     },
     "execution_count": 28,
     "metadata": {},
     "output_type": "execute_result"
    }
   ],
   "source": [
    "function Steps_To_Update_NeighborList(cutoff::Float64, particles::StructVector{Particle{D}}, conf::Config{D})::Int64 where{D}\n",
    "    # Maximun velocity times 2\n",
    "    vmax_2::Float64 = 2*maximum(norm(particles.rad))\n",
    "\n",
    "    trunc(Int,cutoff/(dt*vmax_2))\n",
    "end"
   ]
  },
  {
   "cell_type": "code",
   "execution_count": 29,
   "id": "8bf7c4de",
   "metadata": {},
   "outputs": [
    {
     "data": {
      "text/plain": [
       "44"
      ]
     },
     "execution_count": 29,
     "metadata": {},
     "output_type": "execute_result"
    }
   ],
   "source": [
    "N = 20\n",
    "Lx = 25\n",
    "data = [Particle((Lx-2.0)*rand(3)+[1,1,1],4.0*rand(3)) for i = 1:N]\n",
    "particles = StructArray(data)\n",
    "\n",
    "Mean_Free_Path(4, 0.01, particles)"
   ]
  }
 ],
 "metadata": {
  "kernelspec": {
   "display_name": "Julia 1.8.3",
   "language": "julia",
   "name": "julia-1.8"
  },
  "language_info": {
   "file_extension": ".jl",
   "mimetype": "application/julia",
   "name": "julia",
   "version": "1.8.3"
  }
 },
 "nbformat": 4,
 "nbformat_minor": 5
}
