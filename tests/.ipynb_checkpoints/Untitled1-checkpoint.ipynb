{
 "cells": [
  {
   "cell_type": "code",
   "execution_count": 1,
   "id": "735bb549",
   "metadata": {},
   "outputs": [],
   "source": [
    "using StaticArrays\n",
    "using StructArrays\n",
    "using CellListMap\n",
    "using LinearAlgebra\n",
    "using BenchmarkTools"
   ]
  },
  {
   "cell_type": "code",
   "execution_count": 2,
   "id": "ffda6349",
   "metadata": {},
   "outputs": [
    {
     "name": "stdout",
     "output_type": "stream",
     "text": [
      "  31.833 ns (1 allocation: 48 bytes)\n"
     ]
    },
    {
     "data": {
      "text/plain": [
       "4-element Vector{Nothing}:\n",
       " nothing\n",
       " nothing\n",
       " nothing\n",
       " nothing"
      ]
     },
     "execution_count": 2,
     "metadata": {},
     "output_type": "execute_result"
    }
   ],
   "source": [
    "struct Particle{D}\n",
    "    r::SVector{D, Float64}\n",
    "    v::SVector{D, Float64}\n",
    "    a::SVector{D, Float64}\n",
    "    m::Float64\n",
    "    rad::Float64\n",
    "end\n",
    "function Particle(r::Vector{<:Real}, v::Vector{<:Real}; m::Real=1.0, rad::Real=1.0)::Particle\n",
    "    \n",
    "    n = length(r)\n",
    "    \n",
    "    if n!=length(v)\n",
    "        throw(DomainError(v,\"v is not the same size as r\"))\n",
    "    end\n",
    "    \n",
    "    Particle(SVector{n,Float64}(r),SVector{n,Float64}(v),zeros(SVector{n}),Float64(m),Float64(rad))\n",
    "end\n",
    "function Force_With_Pairs(particles::StructVector{Particle{D}}, pair::Tuple{Int64, Int64, Float64}) where {D}\n",
    "    @inbounds i,j,d = pair\n",
    "    @inbounds s = particles.rad[i] + particles.rad[j] - d\n",
    "    \n",
    "    # Check for contact. Remember that neighborlist hass a bigger cuttof. \n",
    "    if s > 0\n",
    "        # Force to add. \n",
    "        @inbounds F = normalize(particles.r[i]-particles.r[j])\n",
    "        #Newton 2 law. \n",
    "        @inbounds particles.a[i] += F/particles.m[i]\n",
    "        @inbounds particles.a[j] -= F/particles.m[j]\n",
    "    end\n",
    "    return nothing\n",
    "end\n",
    "\n",
    "N = 1000\n",
    "data = [Particle(N*rand(3),0.1*rand(3)) for i = 1:N]\n",
    "particles = StructArray(data)\n",
    "list = neighborlist(particles.r,10.0)\n",
    "@btime $map(x -> $Force_With_Pairs($particles, x), $list)"
   ]
  },
  {
   "cell_type": "code",
   "execution_count": 48,
   "id": "24d22c11",
   "metadata": {},
   "outputs": [
    {
     "data": {
      "text/plain": [
       "BenchmarkTools.Trial: 10000 samples with 1000 evaluations.\n",
       " Range \u001b[90m(\u001b[39m\u001b[36m\u001b[1mmin\u001b[22m\u001b[39m … \u001b[35mmax\u001b[39m\u001b[90m):  \u001b[39m\u001b[36m\u001b[1m4.605 ns\u001b[22m\u001b[39m … \u001b[35m76.942 ns\u001b[39m  \u001b[90m┊\u001b[39m GC \u001b[90m(\u001b[39mmin … max\u001b[90m): \u001b[39m0.00% … 0.00%\n",
       " Time  \u001b[90m(\u001b[39m\u001b[34m\u001b[1mmedian\u001b[22m\u001b[39m\u001b[90m):     \u001b[39m\u001b[34m\u001b[1m4.801 ns              \u001b[22m\u001b[39m\u001b[90m┊\u001b[39m GC \u001b[90m(\u001b[39mmedian\u001b[90m):    \u001b[39m0.00%\n",
       " Time  \u001b[90m(\u001b[39m\u001b[32m\u001b[1mmean\u001b[22m\u001b[39m ± \u001b[32mσ\u001b[39m\u001b[90m):   \u001b[39m\u001b[32m\u001b[1m5.041 ns\u001b[22m\u001b[39m ± \u001b[32m 1.625 ns\u001b[39m  \u001b[90m┊\u001b[39m GC \u001b[90m(\u001b[39mmean ± σ\u001b[90m):  \u001b[39m0.00% ± 0.00%\n",
       "\n",
       "  \u001b[39m▄\u001b[39m▂\u001b[39m▃\u001b[39m█\u001b[34m \u001b[39m\u001b[39m \u001b[39m \u001b[39m \u001b[32m \u001b[39m\u001b[39m▂\u001b[39m \u001b[39m▁\u001b[39m▆\u001b[39m \u001b[39m \u001b[39m \u001b[39m \u001b[39m \u001b[39m \u001b[39m \u001b[39m \u001b[39m \u001b[39m \u001b[39m \u001b[39m \u001b[39m \u001b[39m \u001b[39m \u001b[39m \u001b[39m \u001b[39m \u001b[39m \u001b[39m \u001b[39m \u001b[39m \u001b[39m \u001b[39m \u001b[39m \u001b[39m \u001b[39m \u001b[39m \u001b[39m \u001b[39m \u001b[39m \u001b[39m \u001b[39m \u001b[39m \u001b[39m \u001b[39m \u001b[39m \u001b[39m \u001b[39m \u001b[39m \u001b[39m \u001b[39m \u001b[39m \u001b[39m \u001b[39m \u001b[39m \u001b[39m▁\n",
       "  \u001b[39m█\u001b[39m█\u001b[39m█\u001b[39m█\u001b[34m▄\u001b[39m\u001b[39m▁\u001b[39m▃\u001b[39m▅\u001b[32m▇\u001b[39m\u001b[39m█\u001b[39m█\u001b[39m█\u001b[39m█\u001b[39m▆\u001b[39m▃\u001b[39m▄\u001b[39m▃\u001b[39m▅\u001b[39m▄\u001b[39m▄\u001b[39m▁\u001b[39m▁\u001b[39m▃\u001b[39m▄\u001b[39m▄\u001b[39m▃\u001b[39m▅\u001b[39m▅\u001b[39m▅\u001b[39m▅\u001b[39m▅\u001b[39m▆\u001b[39m▅\u001b[39m▆\u001b[39m▅\u001b[39m▄\u001b[39m▄\u001b[39m▅\u001b[39m▅\u001b[39m▅\u001b[39m▄\u001b[39m▄\u001b[39m▅\u001b[39m▄\u001b[39m▅\u001b[39m▅\u001b[39m▅\u001b[39m▆\u001b[39m▅\u001b[39m▄\u001b[39m▅\u001b[39m▆\u001b[39m▆\u001b[39m▅\u001b[39m▅\u001b[39m▆\u001b[39m▅\u001b[39m▅\u001b[39m \u001b[39m█\n",
       "  4.61 ns\u001b[90m      \u001b[39m\u001b[90mHistogram: \u001b[39m\u001b[90m\u001b[1mlog(\u001b[22m\u001b[39m\u001b[90mfrequency\u001b[39m\u001b[90m\u001b[1m)\u001b[22m\u001b[39m\u001b[90m by time\u001b[39m      7.8 ns \u001b[0m\u001b[1m<\u001b[22m\n",
       "\n",
       " Memory estimate\u001b[90m: \u001b[39m\u001b[33m0 bytes\u001b[39m, allocs estimate\u001b[90m: \u001b[39m\u001b[33m0\u001b[39m."
      ]
     },
     "execution_count": 48,
     "metadata": {},
     "output_type": "execute_result"
    }
   ],
   "source": [
    "function test(particles::StructVector{Particle{D}}, list::T) where {D, T}\n",
    "    for ii in eachindex(list)\n",
    "        @inbounds i,j,d = list[ii]\n",
    "        @inbounds s = particles.rad[i] + particles.rad[j] - d\n",
    "        if s > 0\n",
    "            @inbounds F = normalize(particles.r[i]-particles.r[j])\n",
    "            @inbounds particles.a[i] += F/particles.m[i]\n",
    "            @inbounds particles.a[j] -= F/particles.m[j]\n",
    "        end\n",
    "    end\n",
    "    return nothing\n",
    "end\n",
    "\n",
    "@benchmark $test($particles, $list)"
   ]
  },
  {
   "cell_type": "code",
   "execution_count": null,
   "id": "72b21070",
   "metadata": {},
   "outputs": [],
   "source": [
    "f(particles,list) = map(x -> Force_With_Pairs(particles, x), list)\n",
    "@btime $f($particles,$list)"
   ]
  },
  {
   "cell_type": "code",
   "execution_count": null,
   "id": "a7ac6546",
   "metadata": {},
   "outputs": [],
   "source": [
    "N = 90000\n",
    "@time data = [Particle(10*rand(3),0.1*rand(3)) for i = 1:N]\n",
    "@time particles = StructArray(data)\n",
    "@time system = InPlaceNeighborList(x=particles.r, cutoff=4.0, parallel=true)\n",
    "@time list = neighborlist!(system)\n",
    "@time update!(system, particles.r)\n",
    "@time list = neighborlist!(system)"
   ]
  },
  {
   "cell_type": "code",
   "execution_count": null,
   "id": "5528b1c6",
   "metadata": {},
   "outputs": [],
   "source": [
    "@time list = neighborlist(particles.r,10.0)"
   ]
  }
 ],
 "metadata": {
  "kernelspec": {
   "display_name": "Julia 1.8.3",
   "language": "julia",
   "name": "julia-1.8"
  },
  "language_info": {
   "file_extension": ".jl",
   "mimetype": "application/julia",
   "name": "julia",
   "version": "1.8.3"
  }
 },
 "nbformat": 4,
 "nbformat_minor": 5
}
