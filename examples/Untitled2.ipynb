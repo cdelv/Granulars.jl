{
 "cells": [
  {
   "cell_type": "code",
   "execution_count": 1,
   "id": "38e5ff41",
   "metadata": {},
   "outputs": [],
   "source": [
    "using StaticArrays\n",
    "using ReferenceFrameRotations\n",
    "\n",
    "struct Particle\n",
    "    r::SVector{3, Float64}\n",
    "    v::SVector{3, Float64}\n",
    "    a::SVector{3, Float64}\n",
    "\n",
    "    q::Quaternion{Float64}\n",
    "    w::SVector{3, Float64}\n",
    "    τ::SVector{3, Float64}\n",
    "\n",
    "    m::Float64\n",
    "    I::SVector{3, Float64}\n",
    "\n",
    "    rad::Float64\n",
    "\n",
    "    E::Float64\n",
    "    G::Float64 \n",
    "    ν::Float64\n",
    "end"
   ]
  },
  {
   "cell_type": "code",
   "execution_count": 2,
   "id": "a27bead1",
   "metadata": {},
   "outputs": [
    {
     "data": {
      "text/plain": [
       "Particle"
      ]
     },
     "execution_count": 2,
     "metadata": {},
     "output_type": "execute_result"
    }
   ],
   "source": [
    "function Particle(r::Vector{<:Real}, \n",
    "    v::Vector{<:Real}, \n",
    "    w::Vector{<:Real}, \n",
    "    m::Real; \n",
    "    rad::Real=1.0, \n",
    "    E::Real=1.0e6, \n",
    "    G::Real=1.0e6)::Particle\n",
    "\n",
    "    ν::Float64 = Float64(E/(2*G) - 1.0) # Poisson ratio\n",
    "    p = Particle(SVector{3,Float64}(r),\n",
    "        SVector{3,Float64}(v),\n",
    "        zeros(SVector{3}),\n",
    "        Quaternion(1.0I),\n",
    "        SVector{3,Float64}(w),\n",
    "        zeros(SVector{3}),\n",
    "        Float64(m),\n",
    "        ones(SVector{3}),\n",
    "        Float64(rad),\n",
    "        Float64(E),\n",
    "        Float64(G), \n",
    "        ν)\n",
    "end"
   ]
  },
  {
   "cell_type": "code",
   "execution_count": 3,
   "id": "ffe140e1",
   "metadata": {},
   "outputs": [
    {
     "data": {
      "text/plain": [
       "3-element SVector{3, Float64} with indices SOneTo(3):\n",
       " 1.0\n",
       " 1.0\n",
       " 1.0"
      ]
     },
     "execution_count": 3,
     "metadata": {},
     "output_type": "execute_result"
    }
   ],
   "source": [
    "SVector{3,Float64}([1.0,1.0,1])"
   ]
  },
  {
   "cell_type": "code",
   "execution_count": 4,
   "id": "ce355d6e",
   "metadata": {},
   "outputs": [
    {
     "data": {
      "text/plain": [
       "test (generic function with 1 method)"
      ]
     },
     "execution_count": 4,
     "metadata": {},
     "output_type": "execute_result"
    }
   ],
   "source": [
    "function test(v::Union{Vector{<:Real}, SVector{3}})\n",
    "    0\n",
    "end"
   ]
  },
  {
   "cell_type": "code",
   "execution_count": 5,
   "id": "f0655052",
   "metadata": {},
   "outputs": [
    {
     "data": {
      "text/plain": [
       "0"
      ]
     },
     "execution_count": 5,
     "metadata": {},
     "output_type": "execute_result"
    }
   ],
   "source": [
    "test([1,1,1])"
   ]
  },
  {
   "cell_type": "code",
   "execution_count": 7,
   "id": "6c3e0a5c",
   "metadata": {},
   "outputs": [
    {
     "data": {
      "text/plain": [
       "0"
      ]
     },
     "execution_count": 7,
     "metadata": {},
     "output_type": "execute_result"
    }
   ],
   "source": [
    "test(SVector(0,0,0))"
   ]
  },
  {
   "cell_type": "code",
   "execution_count": 8,
   "id": "d94072e0",
   "metadata": {},
   "outputs": [
    {
     "data": {
      "text/plain": [
       "3-element SVector{3, Float64} with indices SOneTo(3):\n",
       " 0.0\n",
       " 0.0\n",
       " 0.0"
      ]
     },
     "execution_count": 8,
     "metadata": {},
     "output_type": "execute_result"
    }
   ],
   "source": [
    "SVector{3, Float64}(SVector(0,0,0))"
   ]
  }
 ],
 "metadata": {
  "kernelspec": {
   "display_name": "Julia 1.8.3",
   "language": "julia",
   "name": "julia-1.8"
  },
  "language_info": {
   "file_extension": ".jl",
   "mimetype": "application/julia",
   "name": "julia",
   "version": "1.8.3"
  }
 },
 "nbformat": 4,
 "nbformat_minor": 5
}
