{
 "cells": [
  {
   "cell_type": "code",
   "execution_count": 1,
   "id": "613ea64c",
   "metadata": {},
   "outputs": [
    {
     "ename": "LoadError",
     "evalue": "LoadError: syntax: incomplete: \"function\" at /home/wind/Documents/Granulars.jl/src/Beams.jl:237 requires end\nin expression starting at /home/wind/Documents/Granulars.jl/src/Beams.jl:228\nin expression starting at /home/wind/Documents/Granulars.jl/src/Granulars.jl:17",
     "output_type": "error",
     "traceback": [
      "LoadError: syntax: incomplete: \"function\" at /home/wind/Documents/Granulars.jl/src/Beams.jl:237 requires end\nin expression starting at /home/wind/Documents/Granulars.jl/src/Beams.jl:228\nin expression starting at /home/wind/Documents/Granulars.jl/src/Granulars.jl:17",
      "",
      "Stacktrace:",
      " [1] top-level scope",
      "   @ ~/Documents/Granulars.jl/src/Beams.jl:228",
      " [2] include(fname::String)",
      "   @ Base.MainInclude ./client.jl:476",
      " [3] top-level scope",
      "   @ ~/Documents/Granulars.jl/src/Granulars.jl:17",
      " [4] include(fname::String)",
      "   @ Base.MainInclude ./client.jl:476",
      " [5] top-level scope",
      "   @ In[1]:3"
     ]
    }
   ],
   "source": [
    "using StaticArrays\n",
    "using LinearAlgebra\n",
    "include(\"../src/Granulars.jl\")"
   ]
  },
  {
   "cell_type": "code",
   "execution_count": 2,
   "id": "15500808",
   "metadata": {},
   "outputs": [],
   "source": [
    "using KrylovKit"
   ]
  },
  {
   "cell_type": "code",
   "execution_count": null,
   "id": "0ec8abcf",
   "metadata": {},
   "outputs": [],
   "source": [
    "A = 5.497787143782139\n",
    "L = 3.0\n",
    "E = 1.0e8\n",
    "G = 4.166666666666667e7\n",
    "II = 2.405281875404686\n",
    "J = 4.810563750809372\n",
    "ρ = 0.02984155182973038\n",
    "m1 = 1.0\n",
    "m2 = 1.0"
   ]
  },
  {
   "cell_type": "code",
   "execution_count": null,
   "id": "bec45ba4",
   "metadata": {},
   "outputs": [],
   "source": [
    "K = Stifness_Matrix(A, L, E, G, II, J)\n",
    "#M = Mass_Matrix(A, L, ρ)\n",
    "M = Mass_Matrix(m1, m2)"
   ]
  },
  {
   "cell_type": "code",
   "execution_count": null,
   "id": "9a09b77c",
   "metadata": {},
   "outputs": [],
   "source": [
    "K = reshape(reduce(hcat, K)', (12,12))\n",
    "M = reshape(reduce(hcat, M)', (12,12))\n",
    "\n",
    "geneigsolve((K,M))"
   ]
  },
  {
   "cell_type": "code",
   "execution_count": null,
   "id": "b41212be",
   "metadata": {},
   "outputs": [],
   "source": [
    "eigen(K,M).values"
   ]
  },
  {
   "cell_type": "code",
   "execution_count": null,
   "id": "7381e20d",
   "metadata": {},
   "outputs": [],
   "source": [
    "a = [-1, -2, 1, 2]\n",
    "all(a .> 10)"
   ]
  }
 ],
 "metadata": {
  "kernelspec": {
   "display_name": "Julia 1.8.5",
   "language": "julia",
   "name": "julia-1.8"
  },
  "language_info": {
   "file_extension": ".jl",
   "mimetype": "application/julia",
   "name": "julia",
   "version": "1.8.5"
  }
 },
 "nbformat": 4,
 "nbformat_minor": 5
}
