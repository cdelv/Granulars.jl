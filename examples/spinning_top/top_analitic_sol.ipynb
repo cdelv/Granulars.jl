{
 "cells": [
  {
   "cell_type": "markdown",
   "metadata": {},
   "source": [
    "# Useful Links"
   ]
  },
  {
   "cell_type": "markdown",
   "metadata": {},
   "source": [
    "https://hepweb.ucsd.edu/ph110b/110b_notes/node31.html\n",
    "\n",
    "https://hepweb.ucsd.edu/ph110b/110b_notes/node36.html"
   ]
  },
  {
   "cell_type": "markdown",
   "metadata": {},
   "source": [
    "# Import Packages"
   ]
  },
  {
   "cell_type": "code",
   "execution_count": null,
   "metadata": {},
   "outputs": [],
   "source": [
    "import numpy as np\n",
    "import matplotlib.pyplot as plt\n",
    "import sympy as smp\n",
    "from scipy.integrate import odeint\n",
    "import plotly.graph_objects as go\n",
    "from IPython.display import HTML"
   ]
  },
  {
   "cell_type": "markdown",
   "metadata": {},
   "source": [
    "# Solving Lagrange's Equations"
   ]
  },
  {
   "cell_type": "markdown",
   "metadata": {},
   "source": [
    "<p align=\"center\">\n",
    "  <img src=\"../images/eulerangles.JPG\" alt=\"drawing\" width=\"300\" align=\"center\"/>\n",
    "</p>"
   ]
  },
  {
   "cell_type": "markdown",
   "metadata": {},
   "source": [
    "Assume the top of the spinning top is pointed along $x_3$. The angular momentum vector in terms of the Euler angles $\\theta$, $\\phi$ and $\\psi$ is\n",
    "\n",
    "$$\\vec{\\omega} = \\begin{bmatrix}\\dot{\\phi}\\sin(\\theta)\\sin(\\psi) + \\dot{\\theta}\\cos(\\psi)\\\\\\dot{\\phi}\\sin(\\theta)\\cos(\\psi) - \\dot{\\theta}\\sin(\\psi)\\\\ \\dot{\\phi}\\cos(\\theta) + \\dot{\\psi} \\end{bmatrix}$$\n",
    "\n",
    "So the kinetic energy is\n",
    "\n",
    "$$T = \\frac{1}{2}\\omega^T I \\omega$$ \n",
    "\n",
    "where $I$ is the moment of inertia tensor for the spinning top (see last video). The potential energy is given by the location of the center of mass $V = mgh\\cos(\\theta)$ where $h$ is the $z$ location of the center of mass. Thus the Lagrangian $\\mathcal{L} = T-V$ is\n",
    "\n",
    "$$\\mathcal{L} = \\frac{1}{2}\\omega^T I \\omega - mgh\\cos(\\theta)$$\n",
    "\n",
    "Let $L$ (note: *not* the Lagrangian) be the length of the spinning top. We can turn this into a dimensionless quantity by dividing by $mL^2$\n",
    "\n",
    "$$\\frac{\\mathcal{L}}{mL^2} =  \\frac{1}{2}\\omega^T \\left(\\frac{I}{mL^2}\\right) \\omega - \\left(\\frac{g}{L}\\right)\\left(\\frac{h}{L}\\right)\\cos(\\theta)$$\n",
    "\n",
    "We can prime everything that is dimensionless\n",
    "\n",
    "$$\\mathcal{L}' = \\frac{1}{2}\\omega^T I' \\omega - g'h'\\cos(\\theta)$$\n",
    "\n",
    "Below, we will omit the primes, but note that everything we deal with in the code is dimensionless quantities. This works because $\\mathcal{L}$ and $\\mathcal{L}'$ yield the same equations of motion."
   ]
  },
  {
   "cell_type": "markdown",
   "metadata": {},
   "source": [
    "# Solve Lagranges Equation "
   ]
  },
  {
   "cell_type": "markdown",
   "metadata": {},
   "source": [
    "Define all appropriate symbols and declare appropriate functions"
   ]
  },
  {
   "cell_type": "code",
   "execution_count": null,
   "metadata": {},
   "outputs": [],
   "source": [
    "t, h, g = smp.symbols('t h g', real=True)\n",
    "the, phi, psi = smp.symbols(r'\\theta \\phi \\psi', cls=smp.Function)\n",
    "the = the(t)\n",
    "phi = phi(t)\n",
    "psi = psi(t)\n",
    "# Derivatives\n",
    "the_d = smp.diff(the,t)\n",
    "phi_d = smp.diff(phi,t)\n",
    "psi_d = smp.diff(psi,t)\n",
    "# Second derivatives\n",
    "the_dd = smp.diff(the_d,t)\n",
    "phi_dd = smp.diff(phi_d,t)\n",
    "psi_dd = smp.diff(psi_d,t)"
   ]
  },
  {
   "cell_type": "markdown",
   "metadata": {},
   "source": [
    "Transformation matrix. This matrix $R$ takes a vector in the $x_1,x_2,x_3$ coordinate system and transforms it into a vector into the $x,y,z$ coordinate system. We need this because the top of the spinning top is always at $\\left<1,0,0\\right>$ in the $x_1,x_2,x_3$ coordinate system, and so we rotate to get the position in the $x,y,z$ coodinate system."
   ]
  },
  {
   "cell_type": "code",
   "execution_count": null,
   "metadata": {},
   "outputs": [],
   "source": [
    "R3 = smp.Matrix([[smp.cos(psi),-smp.sin(psi),0],\n",
    "                 [smp.sin(psi),smp.cos(psi),0],\n",
    "                 [0,0,1]])\n",
    "\n",
    "R2 = smp.Matrix([[1,0,0],\n",
    "                 [0,smp.cos(the),-smp.sin(the)],\n",
    "                 [0,smp.sin(the),smp.cos(the)]])\n",
    "\n",
    "R1 = smp.Matrix([[smp.cos(phi),-smp.sin(phi),0],\n",
    "                 [smp.sin(phi),smp.cos(phi),0],\n",
    "                 [0,0,1]])\n",
    "\n",
    "R = R1*R2*R3"
   ]
  },
  {
   "cell_type": "markdown",
   "metadata": {},
   "source": [
    "Get the position of the top of the spinning top as a function of time."
   ]
  },
  {
   "cell_type": "code",
   "execution_count": null,
   "metadata": {},
   "outputs": [],
   "source": [
    "R@smp.Matrix([0,0,1])"
   ]
  },
  {
   "cell_type": "markdown",
   "metadata": {},
   "source": [
    "Define the angular momentum vector $\\omega$ in terms of the euler angles $\\theta$, $\\phi$ and $\\omega$. \n",
    "\n",
    "* This is non-trivial: see http://galileoandeinstein.physics.virginia.edu/7010/CM_26_Euler_Angles.html for where these definitions come from."
   ]
  },
  {
   "cell_type": "code",
   "execution_count": null,
   "metadata": {},
   "outputs": [],
   "source": [
    "omega = smp.Matrix([phi_d*smp.sin(the)*smp.sin(psi)+the_d*smp.cos(psi),\n",
    "                    phi_d*smp.sin(the)*smp.cos(psi)-the_d*smp.sin(psi),\n",
    "                    phi_d*smp.cos(the)+psi_d])\n",
    "omega"
   ]
  },
  {
   "cell_type": "markdown",
   "metadata": {},
   "source": [
    "Define the moment of inertia tensor"
   ]
  },
  {
   "cell_type": "code",
   "execution_count": null,
   "metadata": {},
   "outputs": [],
   "source": [
    "Ixx, Iyy, Izz, Ixy, Iyz, Ixz = smp.symbols('I_{xx}, I_{yy}, I_{zz}, I_{xy}, I_{yz}, I_{xz}', real=True)\n",
    "I = smp.Matrix([[Ixx,Ixy,Ixz],[Ixy,Iyy,Iyz],[Ixz,Iyz,Izz]])"
   ]
  },
  {
   "cell_type": "markdown",
   "metadata": {},
   "source": [
    "Define the Lagrangian"
   ]
  },
  {
   "cell_type": "code",
   "execution_count": null,
   "metadata": {},
   "outputs": [],
   "source": [
    "T = smp.Rational(1,2)*omega.T.dot(I*omega).simplify()\n",
    "V = g*h*smp.cos(the)\n",
    "L = T-V"
   ]
  },
  {
   "cell_type": "markdown",
   "metadata": {},
   "source": [
    "Obtain Lagrange's Equations \n",
    "\n",
    "$$\\frac{\\partial L}{ \\partial X} - \\frac{d}{dt}\\frac{\\partial L}{ \\partial \\dot{X}}$$\n",
    "\n",
    "for each of $X \\in \\left\\{ \\theta, \\phi, \\psi \\right\\}$"
   ]
  },
  {
   "cell_type": "code",
   "execution_count": null,
   "metadata": {},
   "outputs": [],
   "source": [
    "LE1 = smp.diff(L, the) - smp.diff(smp.diff(L, the_d), t)\n",
    "LE1 = LE1.simplify()\n",
    "\n",
    "LE2 = smp.diff(L, phi) - smp.diff(smp.diff(L, phi_d), t)\n",
    "LE2 = LE2.simplify()\n",
    "\n",
    "LE3 = smp.diff(L, psi) - smp.diff(smp.diff(L, psi_d), t)\n",
    "LE3 = LE3.simplify()"
   ]
  },
  {
   "cell_type": "code",
   "execution_count": null,
   "metadata": {},
   "outputs": [],
   "source": [
    "LE1"
   ]
  },
  {
   "cell_type": "markdown",
   "metadata": {},
   "source": [
    "Use the three equations\n",
    "\n",
    "$$\\frac{\\partial L}{ \\partial X} - \\frac{d}{dt}\\frac{\\partial L}{ \\partial \\dot{X}} = 0$$\n",
    "\n",
    "for each of $X \\in \\left\\{ \\theta, \\phi, \\psi \\right\\}$ to solve for $\\ddot{\\theta}$, $\\ddot{\\phi}$ and $\\ddot{\\psi}$. This is possible because each of these equations is **linear** in terms of second derivatives.\n"
   ]
  },
  {
   "cell_type": "code",
   "execution_count": null,
   "metadata": {},
   "outputs": [],
   "source": [
    "sols = smp.solve([LE1, LE2, LE3], (the_dd, phi_dd, psi_dd),\n",
    "                simplify=False, rational=False)"
   ]
  },
  {
   "cell_type": "markdown",
   "metadata": {},
   "source": [
    "We have three equations for second derivatives\n",
    "\n",
    "$$\\ddot{\\theta} = f_1(\\theta, \\phi, \\psi, \\dot{\\theta}, \\dot{\\phi}, \\dot{\\psi})$$\n",
    "$$\\ddot{\\phi} = f_2(\\theta, \\phi, \\psi, \\dot{\\theta}, \\dot{\\phi}, \\dot{\\psi})$$\n",
    "$$\\ddot{\\psi} = f_3(\\theta, \\phi, \\psi, \\dot{\\theta}, \\dot{\\phi}, \\dot{\\psi})$$\n",
    "\n",
    "but python can only work with first order ODEs. Defining $z_1 = \\dot{\\theta}$, $z_2 = \\dot{\\phi}$ and $z_3 = \\dot{\\psi}$, we get 6 first order ODEs.\n",
    "\n",
    "* $\\dot{\\theta} =z_1$\n",
    "* $\\dot{z_1} = f_1(\\theta, \\phi, \\psi, z_1, z_2, z_3)$\n",
    "* $\\dot{\\phi} =z_2$\n",
    "* $\\dot{z_2} = f_2(\\theta, \\phi, \\psi, z_1, z_2, z_3)$\n",
    "* $\\dot{\\psi} =z_3$\n",
    "* $\\dot{z_3} = f_3(\\theta, \\phi, \\psi, z_1, z_2, z_3)$\n",
    "\n",
    "Convert the sympy **symbolic** functions into typical python **numerical** functions"
   ]
  },
  {
   "cell_type": "code",
   "execution_count": null,
   "metadata": {},
   "outputs": [],
   "source": [
    "dz1dt_f = smp.lambdify((g, h, Ixx,Iyy,Izz,Ixy,Iyz,Ixz,the,phi,psi,the_d,phi_d,psi_d), sols[the_dd])\n",
    "dthedt_f = smp.lambdify(the_d, the_d)\n",
    "\n",
    "dz2dt_f = smp.lambdify((g, h, Ixx,Iyy,Izz,Ixy,Iyz,Ixz,the,phi,psi,the_d,phi_d,psi_d), sols[phi_dd])\n",
    "dphidt_f = smp.lambdify(phi_d, phi_d)\n",
    "\n",
    "dz3dt_f = smp.lambdify((g, h, Ixx,Iyy,Izz,Ixy,Iyz,Ixz,the,phi,psi,the_d,phi_d,psi_d), sols[psi_dd])\n",
    "dpsidt_f = smp.lambdify(psi_d, psi_d)"
   ]
  },
  {
   "cell_type": "markdown",
   "metadata": {},
   "source": [
    "Define the system of equations $S=(\\theta, z_1, \\phi, z_2, \\psi, z_3)$ and $dS/dt = f(S,t)$"
   ]
  },
  {
   "cell_type": "code",
   "execution_count": null,
   "metadata": {},
   "outputs": [],
   "source": [
    "def dSdt(S, t):\n",
    "    the, z1, phi, z2, psi, z3 = S\n",
    "    return [\n",
    "        dthedt_f(z1),\n",
    "        dz1dt_f(g, h, Ixx,Iyy,Izz,Ixy,Iyz,Ixz,the,phi,psi,z1,z2,z3),\n",
    "        dphidt_f(z2),\n",
    "        dz2dt_f(g, h, Ixx,Iyy,Izz,Ixy,Iyz,Ixz,the,phi,psi,z1,z2,z3),\n",
    "        dpsidt_f(z3),\n",
    "        dz3dt_f(g, h, Ixx,Iyy,Izz,Ixy,Iyz,Ixz,the,phi,psi,z1,z2,z3),\n",
    "    ]"
   ]
  },
  {
   "cell_type": "markdown",
   "metadata": {},
   "source": [
    "# Obtain Information About Spinning Top"
   ]
  },
  {
   "cell_type": "markdown",
   "metadata": {},
   "source": [
    "This is discussed more thoroughly in my previous video"
   ]
  },
  {
   "cell_type": "code",
   "execution_count": null,
   "metadata": {},
   "outputs": [],
   "source": [
    "coords = np.loadtxt('../Data/spinning_top2.txt', unpack=True, delimiter=',', dtype=int)\n",
    "# Get the correct xyz axes\n",
    "coords[[1, 2]] = coords[[2, 1]] \n",
    "# normalize coordinates\n",
    "coords = coords/max(coords.ravel()) \n",
    "# Adjust position so z axis is in center\n",
    "x_mean, y_mean, z_max = np.mean(coords[0]), np.mean(coords[1]), max(coords[2])\n",
    "P0 = x_mean, y_mean, z_max\n",
    "coords = coords.T - P0\n",
    "coords = coords.T\n",
    "# Make z positive\n",
    "coords[2] = -coords[2]\n",
    "x, y, z = coords"
   ]
  },
  {
   "cell_type": "markdown",
   "metadata": {},
   "source": [
    "Define the mass $m_i$ of each voxel as a function of $x,y,z$. If $m_i=1$ everywhere then all voxels weigh the same and the top is isotropic."
   ]
  },
  {
   "cell_type": "code",
   "execution_count": null,
   "metadata": {},
   "outputs": [],
   "source": [
    "# Mass Type 1\n",
    "#m = np.ones(len(z))\n",
    "# Mass 2\n",
    "m = z**2 + np.exp(x)"
   ]
  },
  {
   "cell_type": "markdown",
   "metadata": {},
   "source": [
    "Compute the momentum of inertia tensor"
   ]
  },
  {
   "cell_type": "code",
   "execution_count": null,
   "metadata": {},
   "outputs": [],
   "source": [
    "N = coords.shape[1]\n",
    "Ixx = sum(m*(coords[1]**2 + coords[2]**2))/sum(m)\n",
    "Iyy = sum(m*(coords[0]**2 + coords[2]**2))/sum(m)\n",
    "Izz = sum(m*(coords[0]**2 + coords[1]**2))/sum(m)\n",
    "Ixy = sum(m*coords[0]*coords[1])/sum(m)\n",
    "Iyz = sum(m*coords[1]*coords[2])/sum(m)\n",
    "Ixz = sum(m*coords[0]*coords[2])/sum(m)\n",
    "I = np.array([[Ixx, Ixy, Ixz],[Ixy, Iyy, Iyz],[Ixz, Iyz, Izz]])"
   ]
  },
  {
   "cell_type": "code",
   "execution_count": null,
   "metadata": {},
   "outputs": [],
   "source": [
    "Ixx = 0.2\n",
    "Iyy = 0.2\n",
    "Izz = 1.0\n",
    "Ixy = 0.0\n",
    "Iyz = 0.0\n",
    "Ixz = 0.0\n",
    "I = np.array([[Ixx, Ixy, Ixz],[Ixy, Iyy, Iyz],[Ixz, Iyz, Izz]])"
   ]
  },
  {
   "cell_type": "markdown",
   "metadata": {},
   "source": [
    "Define appropriate quantities \n",
    "\n",
    "* $g'=g/L$ and gravity is $9.8~$m/s$^2$ and $L=5~$cm. \n",
    "* $h$ is the location of the center of mass in the z direction."
   ]
  },
  {
   "cell_type": "code",
   "execution_count": null,
   "metadata": {},
   "outputs": [],
   "source": [
    "l = 1.0\n",
    "g = 1.0/l\n",
    "h = l/2"
   ]
  },
  {
   "cell_type": "markdown",
   "metadata": {},
   "source": [
    "Give the mass its appropriate initial condition\n",
    "\n",
    "* $\\theta_0 = \\pi/4$ (spinning top is slightly tipped)\n",
    "* $\\dot{\\theta_0}=0$ (no tipping velocity)\n",
    "* $\\phi_0 = 0$ (this is arbitrary so just set equal to zero)\n",
    "* $\\dot{\\phi_0}=10$ (slight initial movement in this direction)\n",
    "* $\\psi_0 = 0$ (arbitrary)\n",
    "* $\\dot{\\psi_0}=120\\pi$ (spinning top is spinning fast)\n",
    "\n",
    "and then solve differential equation between $t=0$ to $t=2$ seconds."
   ]
  },
  {
   "cell_type": "code",
   "execution_count": null,
   "metadata": {},
   "outputs": [],
   "source": [
    "t = np.linspace(0, 0.5, 10000)\n",
    "# Initial Condition 1\n",
    "ans = odeint(dSdt, y0=[np.pi/7, 0, -np.pi/2, 0.0, 1.0, 9.0], t=t)"
   ]
  },
  {
   "cell_type": "markdown",
   "metadata": {},
   "source": [
    "Get solutions for euler angles and top of spinning top."
   ]
  },
  {
   "cell_type": "code",
   "execution_count": null,
   "metadata": {},
   "outputs": [],
   "source": [
    "the_t = ans.T[0]\n",
    "phi_t = ans.T[2]\n",
    "psi_t = ans.T[4]\n",
    "x_t = np.sin(phi_t)*np.sin(the_t)\n",
    "y_t = -np.cos(phi_t)*np.sin(the_t)\n",
    "z_t = np.cos(the_t)"
   ]
  },
  {
   "cell_type": "markdown",
   "metadata": {},
   "source": [
    "Plot $\\theta$ (tip of spinning top) as function of time"
   ]
  },
  {
   "cell_type": "code",
   "execution_count": null,
   "metadata": {},
   "outputs": [],
   "source": [
    "plt.plot(t,the_t)"
   ]
  },
  {
   "cell_type": "markdown",
   "metadata": {},
   "source": [
    "Plot the location of the top of the spinning top as a function of time using an interactive 3D plotly plot."
   ]
  },
  {
   "cell_type": "code",
   "execution_count": null,
   "metadata": {},
   "outputs": [],
   "source": [
    "i = 0\n",
    "f= 10000"
   ]
  },
  {
   "cell_type": "code",
   "execution_count": null,
   "metadata": {},
   "outputs": [],
   "source": [
    "layout = go.Layout(title=r'Plot Title',\n",
    "                     scene=dict(xaxis_title=r'x',\n",
    "                                yaxis_title=r'y',\n",
    "                                zaxis_title=r'z',\n",
    "                                aspectratio=dict(x=1, y=1, z=1),\n",
    "                                camera_eye=dict(x=1.2, y=1.2, z=1.2)))\n",
    "\n",
    "fig = go.Figure(layout=layout)\n",
    "fig.add_scatter3d(x=[0],y=[0],z=[0])\n",
    "fig.add_scatter3d(x=x_t[i:f],y=y_t[i:f],z=z_t[i:f], mode='lines',\n",
    "                  line = dict(color='green', width=10))\n",
    "\n",
    "fig.update_layout(\n",
    "    scene = dict(xaxis = dict(range=[-1,1],),\n",
    "                 yaxis = dict(range=[-1,1],),\n",
    "                 zaxis = dict(range=[-1,1],),))\n",
    "\n",
    "HTML(fig.to_html(default_width=1000, default_height=600))"
   ]
  },
  {
   "cell_type": "code",
   "execution_count": null,
   "metadata": {},
   "outputs": [],
   "source": []
  }
 ],
 "metadata": {
  "kernelspec": {
   "display_name": "Python 3 (ipykernel)",
   "language": "python",
   "name": "python3"
  },
  "language_info": {
   "codemirror_mode": {
    "name": "ipython",
    "version": 3
   },
   "file_extension": ".py",
   "mimetype": "text/x-python",
   "name": "python",
   "nbconvert_exporter": "python",
   "pygments_lexer": "ipython3",
   "version": "3.10.6"
  }
 },
 "nbformat": 4,
 "nbformat_minor": 4
}
