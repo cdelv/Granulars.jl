{
 "cells": [
  {
   "cell_type": "code",
   "execution_count": 2,
   "id": "8cf298f6",
   "metadata": {},
   "outputs": [],
   "source": [
    "%display latex"
   ]
  },
  {
   "cell_type": "code",
   "execution_count": 3,
   "id": "ffa4958c",
   "metadata": {},
   "outputs": [],
   "source": [
    "r, L = var('r L')"
   ]
  },
  {
   "cell_type": "code",
   "execution_count": null,
   "id": "55e40ab0",
   "metadata": {},
   "outputs": [],
   "source": [
    "matrix([\n",
    "    [70, 0, 0,   0,      0,     0],\n",
    "    [0 ,54, 0,   0,      0,  13*L],\n",
    "    [0 , 0,54,   0,  -13*L,     0],\n",
    "    [0 , 0, 0,70*r,      0,     0],\n",
    "    [0 , 0, 0,   0,-3*L**2,     0],\n",
    "    [0 , 0, 0,   0,      0,-3*L**2],\n",
    "])"
   ]
  }
 ],
 "metadata": {
  "kernelspec": {
   "display_name": "SageMath 9.5",
   "language": "sage",
   "name": "sagemath"
  },
  "language_info": {
   "codemirror_mode": {
    "name": "ipython",
    "version": 3
   },
   "file_extension": ".py",
   "mimetype": "text/x-python",
   "name": "python",
   "nbconvert_exporter": "python",
   "pygments_lexer": "ipython3",
   "version": "3.10.6"
  }
 },
 "nbformat": 4,
 "nbformat_minor": 5
}
