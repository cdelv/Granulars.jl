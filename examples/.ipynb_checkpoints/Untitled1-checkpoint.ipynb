{
 "cells": [
  {
   "cell_type": "code",
   "execution_count": 1,
   "id": "b079c97f",
   "metadata": {},
   "outputs": [],
   "source": [
    "%display latex"
   ]
  },
  {
   "cell_type": "code",
   "execution_count": 2,
   "id": "ec2df94c",
   "metadata": {},
   "outputs": [],
   "source": [
    "A, L, Iz, Iy, E, G, J = var('A L I_z I_y E G J')"
   ]
  },
  {
   "cell_type": "code",
   "execution_count": 3,
   "id": "64ae9a1a",
   "metadata": {},
   "outputs": [
    {
     "data": {
      "text/html": [
       "<html><script type=\"math/tex; mode=display\">\\newcommand{\\Bold}[1]{\\mathbf{#1}}\\left(\\begin{array}{rrrrrrrrrrrr}\n",
       "\\frac{A E}{L} & 0 & 0 & 0 & 0 & 0 & -\\frac{A E}{L} & 0 & 0 & 0 & 0 & 0 \\\\\n",
       "0 & \\frac{12 \\, E I_{z}}{L^{3}} & 0 & 0 & 0 & \\frac{6 \\, E I_{z}}{L^{2}} & 0 & -\\frac{12 \\, E I_{z}}{L^{3}} & 0 & 0 & 0 & \\frac{6 \\, E I_{z}}{L^{2}} \\\\\n",
       "0 & 0 & \\frac{12 \\, E I_{y}}{L^{3}} & 0 & -\\frac{6 \\, E I_{y}}{L^{2}} & 0 & 0 & 0 & -\\frac{12 \\, E I_{y}}{L^{3}} & 0 & -\\frac{6 \\, E I_{y}}{L^{2}} & 0 \\\\\n",
       "0 & 0 & 0 & \\frac{G J}{L} & 0 & 0 & 0 & 0 & 0 & -\\frac{G J}{L} & 0 & 0 \\\\\n",
       "0 & 0 & -\\frac{6 \\, E I_{y}}{L^{2}} & 0 & \\frac{4 \\, E I_{y}}{L} & 0 & 0 & 0 & \\frac{6 \\, E I_{y}}{L^{2}} & 0 & \\frac{2 \\, E I_{y}}{L} & 0 \\\\\n",
       "0 & \\frac{6 \\, E I_{z}}{L^{2}} & 0 & 0 & 0 & \\frac{4 \\, E I_{z}}{L} & 0 & -\\frac{6 \\, E I_{z}}{L^{2}} & 0 & 0 & 0 & \\frac{2 \\, E I_{z}}{L} \\\\\n",
       "-\\frac{A E}{L} & 0 & 0 & 0 & 0 & 0 & \\frac{A E}{L} & 0 & 0 & 0 & 0 & 0 \\\\\n",
       "0 & -\\frac{12 \\, E I_{z}}{L^{3}} & 0 & 0 & 0 & -\\frac{6 \\, E I_{z}}{L^{2}} & 0 & \\frac{12 \\, E I_{z}}{L^{3}} & 0 & 0 & 0 & -\\frac{6 \\, E I_{z}}{L^{2}} \\\\\n",
       "0 & 0 & -\\frac{12 \\, E I_{y}}{L^{3}} & 0 & \\frac{6 \\, E I_{y}}{L^{2}} & 0 & 0 & 0 & \\frac{12 \\, E I_{y}}{L^{3}} & 0 & \\frac{6 \\, E I_{y}}{L^{2}} & 0 \\\\\n",
       "0 & 0 & 0 & -\\frac{G J}{L} & 0 & 0 & 0 & 0 & 0 & \\frac{G J}{L} & 0 & 0 \\\\\n",
       "0 & 0 & -\\frac{6 \\, E I_{y}}{L^{2}} & 0 & \\frac{2 \\, E I_{y}}{L} & 0 & 0 & 0 & \\frac{6 \\, E I_{y}}{L^{2}} & 0 & \\frac{4 \\, E I_{y}}{L} & 0 \\\\\n",
       "0 & \\frac{6 \\, E I_{z}}{L^{2}} & 0 & 0 & 0 & \\frac{2 \\, E I_{z}}{L} & 0 & -\\frac{6 \\, E I_{z}}{L^{2}} & 0 & 0 & 0 & \\frac{4 \\, E I_{z}}{L}\n",
       "\\end{array}\\right)</script></html>"
      ],
      "text/latex": [
       "$$\\newcommand{\\Bold}[1]{\\mathbf{#1}}\\left(\\begin{array}{rrrrrrrrrrrr}\n",
       "\\frac{A E}{L} & 0 & 0 & 0 & 0 & 0 & -\\frac{A E}{L} & 0 & 0 & 0 & 0 & 0 \\\\\n",
       "0 & \\frac{12 \\, E I_{z}}{L^{3}} & 0 & 0 & 0 & \\frac{6 \\, E I_{z}}{L^{2}} & 0 & -\\frac{12 \\, E I_{z}}{L^{3}} & 0 & 0 & 0 & \\frac{6 \\, E I_{z}}{L^{2}} \\\\\n",
       "0 & 0 & \\frac{12 \\, E I_{y}}{L^{3}} & 0 & -\\frac{6 \\, E I_{y}}{L^{2}} & 0 & 0 & 0 & -\\frac{12 \\, E I_{y}}{L^{3}} & 0 & -\\frac{6 \\, E I_{y}}{L^{2}} & 0 \\\\\n",
       "0 & 0 & 0 & \\frac{G J}{L} & 0 & 0 & 0 & 0 & 0 & -\\frac{G J}{L} & 0 & 0 \\\\\n",
       "0 & 0 & -\\frac{6 \\, E I_{y}}{L^{2}} & 0 & \\frac{4 \\, E I_{y}}{L} & 0 & 0 & 0 & \\frac{6 \\, E I_{y}}{L^{2}} & 0 & \\frac{2 \\, E I_{y}}{L} & 0 \\\\\n",
       "0 & \\frac{6 \\, E I_{z}}{L^{2}} & 0 & 0 & 0 & \\frac{4 \\, E I_{z}}{L} & 0 & -\\frac{6 \\, E I_{z}}{L^{2}} & 0 & 0 & 0 & \\frac{2 \\, E I_{z}}{L} \\\\\n",
       "-\\frac{A E}{L} & 0 & 0 & 0 & 0 & 0 & \\frac{A E}{L} & 0 & 0 & 0 & 0 & 0 \\\\\n",
       "0 & -\\frac{12 \\, E I_{z}}{L^{3}} & 0 & 0 & 0 & -\\frac{6 \\, E I_{z}}{L^{2}} & 0 & \\frac{12 \\, E I_{z}}{L^{3}} & 0 & 0 & 0 & -\\frac{6 \\, E I_{z}}{L^{2}} \\\\\n",
       "0 & 0 & -\\frac{12 \\, E I_{y}}{L^{3}} & 0 & \\frac{6 \\, E I_{y}}{L^{2}} & 0 & 0 & 0 & \\frac{12 \\, E I_{y}}{L^{3}} & 0 & \\frac{6 \\, E I_{y}}{L^{2}} & 0 \\\\\n",
       "0 & 0 & 0 & -\\frac{G J}{L} & 0 & 0 & 0 & 0 & 0 & \\frac{G J}{L} & 0 & 0 \\\\\n",
       "0 & 0 & -\\frac{6 \\, E I_{y}}{L^{2}} & 0 & \\frac{2 \\, E I_{y}}{L} & 0 & 0 & 0 & \\frac{6 \\, E I_{y}}{L^{2}} & 0 & \\frac{4 \\, E I_{y}}{L} & 0 \\\\\n",
       "0 & \\frac{6 \\, E I_{z}}{L^{2}} & 0 & 0 & 0 & \\frac{2 \\, E I_{z}}{L} & 0 & -\\frac{6 \\, E I_{z}}{L^{2}} & 0 & 0 & 0 & \\frac{4 \\, E I_{z}}{L}\n",
       "\\end{array}\\right)$$"
      ],
      "text/plain": [
       "[        A*E/L             0             0             0             0             0        -A*E/L             0             0             0             0             0]\n",
       "[            0  12*E*I_z/L^3             0             0             0   6*E*I_z/L^2             0 -12*E*I_z/L^3             0             0             0   6*E*I_z/L^2]\n",
       "[            0             0  12*E*I_y/L^3             0  -6*E*I_y/L^2             0             0             0 -12*E*I_y/L^3             0  -6*E*I_y/L^2             0]\n",
       "[            0             0             0         G*J/L             0             0             0             0             0        -G*J/L             0             0]\n",
       "[            0             0  -6*E*I_y/L^2             0     4*E*I_y/L             0             0             0   6*E*I_y/L^2             0     2*E*I_y/L             0]\n",
       "[            0   6*E*I_z/L^2             0             0             0     4*E*I_z/L             0  -6*E*I_z/L^2             0             0             0     2*E*I_z/L]\n",
       "[       -A*E/L             0             0             0             0             0         A*E/L             0             0             0             0             0]\n",
       "[            0 -12*E*I_z/L^3             0             0             0  -6*E*I_z/L^2             0  12*E*I_z/L^3             0             0             0  -6*E*I_z/L^2]\n",
       "[            0             0 -12*E*I_y/L^3             0   6*E*I_y/L^2             0             0             0  12*E*I_y/L^3             0   6*E*I_y/L^2             0]\n",
       "[            0             0             0        -G*J/L             0             0             0             0             0         G*J/L             0             0]\n",
       "[            0             0  -6*E*I_y/L^2             0     2*E*I_y/L             0             0             0   6*E*I_y/L^2             0     4*E*I_y/L             0]\n",
       "[            0   6*E*I_z/L^2             0             0             0     2*E*I_z/L             0  -6*E*I_z/L^2             0             0             0     4*E*I_z/L]"
      ]
     },
     "execution_count": 3,
     "metadata": {},
     "output_type": "execute_result"
    }
   ],
   "source": [
    "K = (E/L**3)*matrix([[A*L*L, 0, 0, 0, 0, 0, -A*L*L, 0, 0, 0, 0, 0],\n",
    "        [0, 12*Iz, 0, 0, 0, 6*L*Iz, 0, -12*Iz, 0, 0, 0, 6*L*Iz],\n",
    "        [0, 0, 12*Iy, 0, -6*L*Iy, 0, 0, 0, -12*Iy, 0, -6*L*Iy, 0],\n",
    "        [0, 0, 0, G*J*L*L/E, 0, 0, 0, 0, 0, -G*J*L*L/E, 0, 0],\n",
    "        [0, 0, -6*L*Iy, 0, 4*L*L*Iy, 0, 0, 0, 6*L*Iy, 0, 2*L*L*Iy, 0],\n",
    "        [0, 6*L*Iz, 0, 0, 0, 4*L*L*Iz, 0, -6*L*Iz, 0, 0, 0, 2*L*L*Iz],\n",
    "        [-A*L*L, 0, 0, 0, 0, 0, A*L*L, 0, 0, 0, 0, 0],\n",
    "        [0, -12*Iz, 0, 0, 0, -6*L*Iz, 0, 12*Iz, 0, 0, 0, -6*L*Iz],\n",
    "        [0, 0, -12*Iy, 0, 6*L*Iy, 0, 0, 0, 12*Iy, 0, 6*L*Iy, 0],\n",
    "        [0, 0, 0, -G*J*L*L/E, 0, 0, 0, 0, 0, G*J*L*L/E, 0, 0],\n",
    "        [0, 0, -6*L*Iy, 0, 2*L*L*Iy, 0, 0, 0, 6*L*Iy, 0, 4*L*L*Iy, 0],\n",
    "        [0, 6*L*Iz, 0, 0, 0, 2*L*L*Iz, 0, -6*L*Iz, 0, 0, 0, 4*L*L*Iz]])\n",
    "K"
   ]
  },
  {
   "cell_type": "code",
   "execution_count": 4,
   "id": "67475b26",
   "metadata": {},
   "outputs": [],
   "source": [
    "dx, dy, dz, phi, theta, psi = var('Delta_x Delta_y Delta_z Delta_phi Delta_theta Delta_psi')"
   ]
  },
  {
   "cell_type": "code",
   "execution_count": 8,
   "id": "cfe4cca8",
   "metadata": {},
   "outputs": [
    {
     "data": {
      "text/html": [
       "<html><script type=\"math/tex; mode=display\">\\newcommand{\\Bold}[1]{\\mathbf{#1}}\\left(\\begin{array}{r}\n",
       "\\frac{1}{2} \\, \\Delta_{x} \\\\\n",
       "\\frac{1}{2} \\, \\Delta_{y} \\\\\n",
       "\\frac{1}{2} \\, \\Delta_{z} \\\\\n",
       "\\frac{1}{2} \\, \\Delta_{\\phi} \\\\\n",
       "\\frac{1}{2} \\, \\Delta_{\\theta} \\\\\n",
       "\\frac{1}{2} \\, \\Delta_{\\psi} \\\\\n",
       "-\\frac{1}{2} \\, \\Delta_{x} \\\\\n",
       "-\\frac{1}{2} \\, \\Delta_{y} \\\\\n",
       "-\\frac{1}{2} \\, \\Delta_{z} \\\\\n",
       "-\\frac{1}{2} \\, \\Delta_{\\phi} \\\\\n",
       "-\\frac{1}{2} \\, \\Delta_{\\theta} \\\\\n",
       "-\\frac{1}{2} \\, \\Delta_{\\psi}\n",
       "\\end{array}\\right)</script></html>"
      ],
      "text/latex": [
       "$$\\newcommand{\\Bold}[1]{\\mathbf{#1}}\\left(\\begin{array}{r}\n",
       "\\frac{1}{2} \\, \\Delta_{x} \\\\\n",
       "\\frac{1}{2} \\, \\Delta_{y} \\\\\n",
       "\\frac{1}{2} \\, \\Delta_{z} \\\\\n",
       "\\frac{1}{2} \\, \\Delta_{\\phi} \\\\\n",
       "\\frac{1}{2} \\, \\Delta_{\\theta} \\\\\n",
       "\\frac{1}{2} \\, \\Delta_{\\psi} \\\\\n",
       "-\\frac{1}{2} \\, \\Delta_{x} \\\\\n",
       "-\\frac{1}{2} \\, \\Delta_{y} \\\\\n",
       "-\\frac{1}{2} \\, \\Delta_{z} \\\\\n",
       "-\\frac{1}{2} \\, \\Delta_{\\phi} \\\\\n",
       "-\\frac{1}{2} \\, \\Delta_{\\theta} \\\\\n",
       "-\\frac{1}{2} \\, \\Delta_{\\psi}\n",
       "\\end{array}\\right)$$"
      ],
      "text/plain": [
       "[     1/2*Delta_x]\n",
       "[     1/2*Delta_y]\n",
       "[     1/2*Delta_z]\n",
       "[   1/2*Delta_phi]\n",
       "[ 1/2*Delta_theta]\n",
       "[   1/2*Delta_psi]\n",
       "[    -1/2*Delta_x]\n",
       "[    -1/2*Delta_y]\n",
       "[    -1/2*Delta_z]\n",
       "[  -1/2*Delta_phi]\n",
       "[-1/2*Delta_theta]\n",
       "[  -1/2*Delta_psi]"
      ]
     },
     "execution_count": 8,
     "metadata": {},
     "output_type": "execute_result"
    }
   ],
   "source": [
    "x = (1/2)*Matrix([[dx,dy,dz,phi,theta,psi,-dx,-dy,-dz,-phi,-theta,-psi]]).T\n",
    "x"
   ]
  },
  {
   "cell_type": "code",
   "execution_count": 9,
   "id": "0e15cf6b",
   "metadata": {},
   "outputs": [
    {
     "data": {
      "text/html": [
       "<html><script type=\"math/tex; mode=display\">\\newcommand{\\Bold}[1]{\\mathbf{#1}}\\left(\\begin{array}{r}\n",
       "\\frac{A \\Delta_{x} E^{2}}{L^{4}} \\\\\n",
       "\\frac{12 \\, \\Delta_{y} E^{2} I_{z}}{L^{6}} \\\\\n",
       "\\frac{12 \\, \\Delta_{z} E^{2} I_{y}}{L^{6}} \\\\\n",
       "\\frac{\\Delta_{\\phi} E G J}{L^{4}} \\\\\n",
       "\\frac{\\Delta_{\\theta} E^{2} I_{y}}{L^{4}} - \\frac{6 \\, \\Delta_{z} E^{2} I_{y}}{L^{5}} \\\\\n",
       "\\frac{\\Delta_{\\psi} E^{2} I_{z}}{L^{4}} + \\frac{6 \\, \\Delta_{y} E^{2} I_{z}}{L^{5}} \\\\\n",
       "-\\frac{A \\Delta_{x} E^{2}}{L^{4}} \\\\\n",
       "-\\frac{12 \\, \\Delta_{y} E^{2} I_{z}}{L^{6}} \\\\\n",
       "-\\frac{12 \\, \\Delta_{z} E^{2} I_{y}}{L^{6}} \\\\\n",
       "-\\frac{\\Delta_{\\phi} E G J}{L^{4}} \\\\\n",
       "-\\frac{\\Delta_{\\theta} E^{2} I_{y}}{L^{4}} - \\frac{6 \\, \\Delta_{z} E^{2} I_{y}}{L^{5}} \\\\\n",
       "-\\frac{\\Delta_{\\psi} E^{2} I_{z}}{L^{4}} + \\frac{6 \\, \\Delta_{y} E^{2} I_{z}}{L^{5}}\n",
       "\\end{array}\\right)</script></html>"
      ],
      "text/latex": [
       "$$\\newcommand{\\Bold}[1]{\\mathbf{#1}}\\left(\\begin{array}{r}\n",
       "\\frac{A \\Delta_{x} E^{2}}{L^{4}} \\\\\n",
       "\\frac{12 \\, \\Delta_{y} E^{2} I_{z}}{L^{6}} \\\\\n",
       "\\frac{12 \\, \\Delta_{z} E^{2} I_{y}}{L^{6}} \\\\\n",
       "\\frac{\\Delta_{\\phi} E G J}{L^{4}} \\\\\n",
       "\\frac{\\Delta_{\\theta} E^{2} I_{y}}{L^{4}} - \\frac{6 \\, \\Delta_{z} E^{2} I_{y}}{L^{5}} \\\\\n",
       "\\frac{\\Delta_{\\psi} E^{2} I_{z}}{L^{4}} + \\frac{6 \\, \\Delta_{y} E^{2} I_{z}}{L^{5}} \\\\\n",
       "-\\frac{A \\Delta_{x} E^{2}}{L^{4}} \\\\\n",
       "-\\frac{12 \\, \\Delta_{y} E^{2} I_{z}}{L^{6}} \\\\\n",
       "-\\frac{12 \\, \\Delta_{z} E^{2} I_{y}}{L^{6}} \\\\\n",
       "-\\frac{\\Delta_{\\phi} E G J}{L^{4}} \\\\\n",
       "-\\frac{\\Delta_{\\theta} E^{2} I_{y}}{L^{4}} - \\frac{6 \\, \\Delta_{z} E^{2} I_{y}}{L^{5}} \\\\\n",
       "-\\frac{\\Delta_{\\psi} E^{2} I_{z}}{L^{4}} + \\frac{6 \\, \\Delta_{y} E^{2} I_{z}}{L^{5}}\n",
       "\\end{array}\\right)$$"
      ],
      "text/plain": [
       "[                               A*Delta_x*E^2/L^4]\n",
       "[                          12*Delta_y*E^2*I_z/L^6]\n",
       "[                          12*Delta_z*E^2*I_y/L^6]\n",
       "[                             Delta_phi*E*G*J/L^4]\n",
       "[ Delta_theta*E^2*I_y/L^4 - 6*Delta_z*E^2*I_y/L^5]\n",
       "[   Delta_psi*E^2*I_z/L^4 + 6*Delta_y*E^2*I_z/L^5]\n",
       "[                              -A*Delta_x*E^2/L^4]\n",
       "[                         -12*Delta_y*E^2*I_z/L^6]\n",
       "[                         -12*Delta_z*E^2*I_y/L^6]\n",
       "[                            -Delta_phi*E*G*J/L^4]\n",
       "[-Delta_theta*E^2*I_y/L^4 - 6*Delta_z*E^2*I_y/L^5]\n",
       "[  -Delta_psi*E^2*I_z/L^4 + 6*Delta_y*E^2*I_z/L^5]"
      ]
     },
     "execution_count": 9,
     "metadata": {},
     "output_type": "execute_result"
    }
   ],
   "source": [
    "v = (E/L**3)*K*x\n",
    "v"
   ]
  },
  {
   "cell_type": "code",
   "execution_count": null,
   "id": "c7322451",
   "metadata": {},
   "outputs": [],
   "source": [
    "v = v.substitute({Iy:Iz})\n",
    "v.simplify_full()"
   ]
  },
  {
   "cell_type": "code",
   "execution_count": null,
   "id": "20766335",
   "metadata": {},
   "outputs": [],
   "source": [
    "x = Matrix([[dx/2,dy/2,dz/2,phi/2,theta/2,psi/2,-dx/2,-dy/2,-dz/2,-phi/2,-theta/2,-psi/2]]).T\n",
    "K*x"
   ]
  },
  {
   "cell_type": "code",
   "execution_count": 4,
   "id": "125066b7",
   "metadata": {},
   "outputs": [],
   "source": [
    "x, y, z, a, b, c, d, e, f = var('x y z a b c d e f')"
   ]
  },
  {
   "cell_type": "code",
   "execution_count": 5,
   "id": "f2efb953",
   "metadata": {},
   "outputs": [],
   "source": [
    "eq1 = x == a*y*z + b \n",
    "eq2 = y == c*x*z + d\n",
    "eq3 = z == e*y*x + f"
   ]
  },
  {
   "cell_type": "code",
   "execution_count": 6,
   "id": "b47cd771",
   "metadata": {},
   "outputs": [
    {
     "data": {
      "text/plain": [
       "[x == a*y*z + b, y == c*x*z + d, z == e*x*y + f]"
      ]
     },
     "execution_count": 6,
     "metadata": {},
     "output_type": "execute_result"
    }
   ],
   "source": [
    "solve([eq1, eq2, eq3], x, y, z)"
   ]
  }
 ],
 "metadata": {
  "kernelspec": {
   "display_name": "SageMath 9.5",
   "language": "sage",
   "name": "sagemath"
  },
  "language_info": {
   "codemirror_mode": {
    "name": "ipython",
    "version": 3
   },
   "file_extension": ".py",
   "mimetype": "text/x-python",
   "name": "python",
   "nbconvert_exporter": "python",
   "pygments_lexer": "ipython3",
   "version": "3.10.6"
  }
 },
 "nbformat": 4,
 "nbformat_minor": 5
}
