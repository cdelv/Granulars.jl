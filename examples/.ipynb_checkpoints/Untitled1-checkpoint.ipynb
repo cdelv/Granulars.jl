{
 "cells": [
  {
   "cell_type": "code",
   "execution_count": 1,
   "id": "7d7dbac1",
   "metadata": {},
   "outputs": [
    {
     "data": {
      "text/plain": [
       "1.0"
      ]
     },
     "execution_count": 1,
     "metadata": {},
     "output_type": "execute_result"
    }
   ],
   "source": [
    "include(\"../src/Granulars.jl\")\n",
    "l = 1.0\n",
    "g = 1.0"
   ]
  },
  {
   "cell_type": "code",
   "execution_count": null,
   "id": "a063a507",
   "metadata": {},
   "outputs": [],
   "source": [
    "function Calculate_Forces(particles::StructVector{Particle}, \n",
    "    neighborlist::Vector{Tuple{Int64, Int64, Float64}}, \n",
    "    conf::Config,\n",
    "    kundall_particles::ExtendableSparseMatrix{Float64, Int64},\n",
    "    kundall_walls::ExtendableSparseMatrix{Float64, Int64})\n",
    "    q = particles.q[1]\n",
    "    \n",
    "    particles.τ[1] = particles.m[1]*g*l*SVector(\n",
    "            2.0*(q.q2*q.q3 + q.q0*q.q1),\n",
    "            -2.0*(q.q1*q.q3 - q.q0*q.q2), 0.0)\n",
    "    \n",
    "    return nothing\n",
    "end"
   ]
  },
  {
   "cell_type": "code",
   "execution_count": null,
   "id": "b04a3614",
   "metadata": {},
   "outputs": [],
   "source": [
    "function main()\n",
    "    W1 = Wall([1,0,0],[0,0,0])\n",
    "    walls = [W1]\n",
    "    p = Particle(w=[0, 1.0, 9.0])\n",
    "    p = Set_I(p,SVector{3,Float64}([0.2, 0.2, 1.0]))\n",
    "    p = Set_q(p,angle_to_quat(π/7, 0, -π/2,:XYZ))\n",
    "    data = [p]\n",
    "    conf = Config(0.5,0.0001,g=ones(3),walls=walls)\n",
    "    Propagate(data, conf; vis_steps=20, file=\"Paraview/data\", save=true)\n",
    "end"
   ]
  },
  {
   "cell_type": "code",
   "execution_count": null,
   "id": "0d15a8c6",
   "metadata": {},
   "outputs": [],
   "source": [
    "main()"
   ]
  },
  {
   "cell_type": "code",
   "execution_count": null,
   "id": "edefa429",
   "metadata": {},
   "outputs": [],
   "source": []
  }
 ],
 "metadata": {
  "kernelspec": {
   "display_name": "Julia 1.8.3",
   "language": "julia",
   "name": "julia-1.8"
  },
  "language_info": {
   "file_extension": ".jl",
   "mimetype": "application/julia",
   "name": "julia",
   "version": "1.8.3"
  }
 },
 "nbformat": 4,
 "nbformat_minor": 5
}
