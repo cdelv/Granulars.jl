{
 "cells": [
  {
   "cell_type": "code",
   "execution_count": 133,
   "id": "bac1a70e",
   "metadata": {},
   "outputs": [],
   "source": [
    "using StaticArrays\n",
    "using LinearAlgebra\n",
    "include(\"../src/Granulars.jl\")"
   ]
  },
  {
   "cell_type": "code",
   "execution_count": 134,
   "id": "f49db631",
   "metadata": {},
   "outputs": [],
   "source": [
    "using KrylovKit"
   ]
  },
  {
   "cell_type": "code",
   "execution_count": 140,
   "id": "44b0ef1d",
   "metadata": {},
   "outputs": [
    {
     "ename": "LoadError",
     "evalue": "MethodError: no method matching factorize(::Base.ReshapedArray{Float64, 2, Adjoint{Float64, Matrix{Float64}}, Tuple{Base.MultiplicativeInverses.SignedMultiplicativeInverse{Int64}}})\n\u001b[0mClosest candidates are:\n\u001b[0m  factorize(\u001b[91m::StridedMatrix{T}\u001b[39m) where T at /opt/julia-1.8.5/share/julia/stdlib/v1.8/LinearAlgebra/src/dense.jl:1319\n\u001b[0m  factorize(\u001b[91m::Adjoint\u001b[39m) at /opt/julia-1.8.5/share/julia/stdlib/v1.8/LinearAlgebra/src/dense.jl:1393\n\u001b[0m  factorize(\u001b[91m::Transpose\u001b[39m) at /opt/julia-1.8.5/share/julia/stdlib/v1.8/LinearAlgebra/src/dense.jl:1394\n\u001b[0m  ...",
     "output_type": "error",
     "traceback": [
      "MethodError: no method matching factorize(::Base.ReshapedArray{Float64, 2, Adjoint{Float64, Matrix{Float64}}, Tuple{Base.MultiplicativeInverses.SignedMultiplicativeInverse{Int64}}})\n\u001b[0mClosest candidates are:\n\u001b[0m  factorize(\u001b[91m::StridedMatrix{T}\u001b[39m) where T at /opt/julia-1.8.5/share/julia/stdlib/v1.8/LinearAlgebra/src/dense.jl:1319\n\u001b[0m  factorize(\u001b[91m::Adjoint\u001b[39m) at /opt/julia-1.8.5/share/julia/stdlib/v1.8/LinearAlgebra/src/dense.jl:1393\n\u001b[0m  factorize(\u001b[91m::Transpose\u001b[39m) at /opt/julia-1.8.5/share/julia/stdlib/v1.8/LinearAlgebra/src/dense.jl:1394\n\u001b[0m  ...",
      "",
      "Stacktrace:",
      " [1] top-level scope",
      "   @ In[140]:7"
     ]
    }
   ],
   "source": [
    "K = Stifness_Matrix(0.1, 1.0, 1e8, 5e7, 1.0, 1.0)\n",
    "M = Mass_Matrix(0.1, 1.0, 1.0)\n",
    "\n",
    "#K = reshape(reduce(hcat, K)', (12,12))\n",
    "#M = reshape(reduce(hcat, M)', (12,12))\n",
    "\n",
    "factorize(M)"
   ]
  },
  {
   "cell_type": "code",
   "execution_count": null,
   "id": "7f7dbbbd",
   "metadata": {},
   "outputs": [],
   "source": []
  }
 ],
 "metadata": {
  "kernelspec": {
   "display_name": "Julia 1.8.5",
   "language": "julia",
   "name": "julia-1.8"
  },
  "language_info": {
   "file_extension": ".jl",
   "mimetype": "application/julia",
   "name": "julia",
   "version": "1.8.5"
  }
 },
 "nbformat": 4,
 "nbformat_minor": 5
}
