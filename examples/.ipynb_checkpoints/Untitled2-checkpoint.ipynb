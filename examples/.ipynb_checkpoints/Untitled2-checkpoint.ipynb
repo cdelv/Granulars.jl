{
 "cells": [
  {
   "cell_type": "code",
   "execution_count": 68,
   "id": "9cb42fd8",
   "metadata": {},
   "outputs": [
    {
     "data": {
      "text/plain": [
       "γ (generic function with 2 methods)"
      ]
     },
     "execution_count": 68,
     "metadata": {},
     "output_type": "execute_result"
    }
   ],
   "source": [
    "function γ(en::Float64)::Float64\n",
    "    if en >= 1.0\n",
    "        return 0.0 \n",
    "    end\n",
    "    h1::Float64 = -6.918798\n",
    "    h2::Float64 = -16.41105\n",
    "    h3::Float64 = 146.8049\n",
    "    h4::Float64 = -796.4559\n",
    "    h5::Float64 = 2928.711\n",
    "    h6::Float64 = -7206.864\n",
    "    h7::Float64 = 11494.29\n",
    "    h8::Float64 = -11342.18\n",
    "    h9::Float64 = 6276.757\n",
    "    h10::Float64 = -1489.915\n",
    "    α::Float64 = en*(h1+en*(h2+en*(h3+en*(h4+en*(h5+en*(h6+en*(h7+en*(h8+en*(h9+en*h10)))))))))\n",
    "    return sqrt((1.0/(1.0-(1.0+en)^2*exp(α)))-1.0)\n",
    "end"
   ]
  },
  {
   "cell_type": "code",
   "execution_count": 69,
   "id": "04b5731d",
   "metadata": {},
   "outputs": [
    {
     "data": {
      "text/plain": [
       "0.32375873474809574"
      ]
     },
     "execution_count": 69,
     "metadata": {},
     "output_type": "execute_result"
    }
   ],
   "source": [
    "γ(0.4)"
   ]
  },
  {
   "cell_type": "code",
   "execution_count": 70,
   "id": "3e56a139",
   "metadata": {},
   "outputs": [],
   "source": [
    "using BenchmarkTools"
   ]
  },
  {
   "cell_type": "code",
   "execution_count": 71,
   "id": "e1e499b5",
   "metadata": {},
   "outputs": [
    {
     "name": "stdout",
     "output_type": "stream",
     "text": [
      "  1.930 ns (0 allocations: 0 bytes)\n"
     ]
    },
    {
     "data": {
      "text/plain": [
       "0.2330248576834424"
      ]
     },
     "execution_count": 71,
     "metadata": {},
     "output_type": "execute_result"
    }
   ],
   "source": [
    "@btime γ(0.5)"
   ]
  }
 ],
 "metadata": {
  "kernelspec": {
   "display_name": "Julia 1.8.3",
   "language": "julia",
   "name": "julia-1.8"
  },
  "language_info": {
   "file_extension": ".jl",
   "mimetype": "application/julia",
   "name": "julia",
   "version": "1.8.3"
  }
 },
 "nbformat": 4,
 "nbformat_minor": 5
}
