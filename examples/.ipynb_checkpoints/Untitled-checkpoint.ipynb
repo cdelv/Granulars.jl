{
 "cells": [
  {
   "cell_type": "code",
   "execution_count": 22,
   "id": "b81468ea",
   "metadata": {},
   "outputs": [],
   "source": [
    "using Roots\n",
    "using StaticArrays\n",
    "using BenchmarkTools"
   ]
  },
  {
   "cell_type": "code",
   "execution_count": 4,
   "id": "c3bb59a4",
   "metadata": {},
   "outputs": [
    {
     "data": {
      "text/plain": [
       "dfunc_dx (generic function with 1 method)"
      ]
     },
     "execution_count": 4,
     "metadata": {},
     "output_type": "execute_result"
    }
   ],
   "source": [
    "function func(x)\n",
    "    x + 1\n",
    "end\n",
    "\n",
    "function dfunc_dx(x)\n",
    "    1\n",
    "end"
   ]
  },
  {
   "cell_type": "code",
   "execution_count": 47,
   "id": "663b37d4",
   "metadata": {},
   "outputs": [
    {
     "data": {
      "text/plain": [
       "get_v_star (generic function with 1 method)"
      ]
     },
     "execution_count": 47,
     "metadata": {},
     "output_type": "execute_result"
    }
   ],
   "source": [
    "function Epsilon(v_star::Float64)::Float64\n",
    "    # 3/6 coefficients\n",
    "    a_i::SVector{4, Float64} = SVector(1.0, 1.07232, 0.574198, 0.141552)\n",
    "    b_i::SVector{7, Float64} = SVector(1.0, 1.07232, 1.72765, 1.37842, 1.19449, 0.467273, 0.235585)\n",
    "    \n",
    "    # Initialize sum to 0\n",
    "    A::Float64 = 0.0\n",
    "    B::Float64 = 0.0\n",
    "    n::Float64 = 0.0\n",
    "\n",
    "    for i in a_i\n",
    "        A += i*v_star^n\n",
    "        n += 1.0\n",
    "    end\n",
    "    \n",
    "    n = 0.0\n",
    "    for i in b_i\n",
    "        B += i*v_star^n\n",
    "        n += 1.0\n",
    "    end\n",
    "    \n",
    "    return A/B\n",
    "end\n",
    "\n",
    "function dEpsilon_dv(v_star::Float64)::Float64\n",
    "    # 3/6 coefficients\n",
    "    a_i::SVector{4, Float64} = SVector(1.0, 1.07232, 0.574198, 0.141552)\n",
    "    b_i::SVector{7, Float64} = SVector(1.0, 1.07232, 1.72765, 1.37842, 1.19449, 0.467273, 0.235585)\n",
    "    \n",
    "    # Initialize sum to 0\n",
    "    A::Float64 = 0.0\n",
    "    B::Float64 = 0.0\n",
    "    dA::Float64 = 0.0\n",
    "    dB::Float64 = 0.0\n",
    "    n::Float64 = 0.0\n",
    "\n",
    "    for i in a_i\n",
    "        A += i*v_star^n\n",
    "        n += 1.0\n",
    "    end\n",
    "    \n",
    "    n = 0.0\n",
    "    for i in b_i\n",
    "        B += i*v_star^n\n",
    "        n += 1.0\n",
    "    end\n",
    "    \n",
    "    # Derivative\n",
    "    da_i::SVector{3, Float64} = SVector(1.07232, 0.574198, 0.141552)\n",
    "    db_i::SVector{6, Float64} = SVector(1.07232, 1.72765, 1.37842, 1.19449, 0.467273, 0.235585)\n",
    "    \n",
    "    n = 0.0\n",
    "    for i in da_i\n",
    "        dA += (n+1)*i*v_star^n\n",
    "        n += 1.0\n",
    "    end\n",
    "    \n",
    "    n = 0.0\n",
    "    for i in db_i\n",
    "        dB += (n+1)*i*v_star^n\n",
    "        n += 1.0\n",
    "    end\n",
    "    \n",
    "    return (dA*B - A*dB)/(B*B)\n",
    "end\n",
    "\n",
    "function get_A(v, v_star, E1, E2, R1, R2, nu1, nu2, m1, m2)\n",
    "    Reff = R1*R2/(R1 + R2)\n",
    "    meff = m1*m2/(m1+m2)\n",
    "    Eeff = 1.0/( (1.0 - nu1*nu1)/E1 + (1.0 - nu2*nu2)/E2 )\n",
    "    rho = 4.0*Eeff*sqrt(Reff)/3.0\n",
    "    beta = v_star*v_star*v^(-0.2)      # ^-1/5 = ^-2/10\n",
    "    A = 2.0*beta*(rho/meff)^(-0.4)/3.0 # ^-2/5\n",
    "    A\n",
    "end\n",
    "        \n",
    "function get_v_star(v, A, E1, E2, R1, R2, nu1, nu2, m1, m2)\n",
    "    Reff = R1*R2/(R1 + R2)\n",
    "    meff = m1*m2/(m1+m2)\n",
    "    Eeff = 1.0/( (1.0 - nu1*nu1)/E1 + (1.0 - nu2*nu2)/E2 )\n",
    "    rho = 4.0*Eeff*sqrt(Reff)/3.0\n",
    "    beta = 3.0*A*(rho/meff)^(0.4)/2.0; # ^2/5\n",
    "    sqrt(beta)*v^(0.1)                 # ^1/10\n",
    "end "
   ]
  },
  {
   "cell_type": "code",
   "execution_count": 48,
   "id": "438cce81",
   "metadata": {},
   "outputs": [
    {
     "name": "stdout",
     "output_type": "stream",
     "text": [
      "1.389954680701426e-7\n"
     ]
    },
    {
     "ename": "LoadError",
     "evalue": "UndefVarError: v_star not defined",
     "output_type": "error",
     "traceback": [
      "UndefVarError: v_star not defined",
      "",
      "Stacktrace:",
      " [1] get_v_star(v::Float64, A::Float64, E1::Float64, E2::Float64, R1::Float64, R2::Float64, nu1::Float64, nu2::Float64, m1::Float64, m2::Float64)",
      "   @ Main ./In[47]:82",
      " [2] main()",
      "   @ Main ./In[48]:37",
      " [3] top-level scope",
      "   @ In[48]:40"
     ]
    }
   ],
   "source": [
    "function main()\n",
    "    e = 0.00015\n",
    "    v = 1.5\n",
    "\n",
    "    # Density\n",
    "    D1 = 2650.0\n",
    "    D2 = 2650.0\n",
    "\n",
    "    # Young Modulus\n",
    "    E1 = 3.0e8\n",
    "    E2 = 3.0e8\n",
    "\n",
    "    # Radius\n",
    "    R1 = 0.00000005\n",
    "    R2 = 0.00000005\n",
    "\n",
    "    # Poisson Ratio\n",
    "    nu1 = 0.3\n",
    "    nu2 = 0.3\n",
    "    \n",
    "    # Volume\n",
    "    V1 = 4*π*R1^3/3\n",
    "    V2 = 4*π*R2^3/3\n",
    "\n",
    "    # Mass\n",
    "    m1 = D1*V1\n",
    "    m2 = D2*V2\n",
    "    \n",
    "    function Target_Epsilon(v_star)\n",
    "        Epsilon(v_star)-e\n",
    "    end\n",
    "    \n",
    "    target_v_star = find_zero((Target_Epsilon, dEpsilon_dv), 1.0, Roots.Newton())\n",
    "    A = get_A(v, target_v_star, E1, E2, R1, R2, nu1, nu2, m1, m2)\n",
    "    \n",
    "    println(A)\n",
    "    println(Epsilon(get_v_star(v, A, E1, E2, R1, R2, nu1, nu2, m1, m2)))\n",
    "end\n",
    "\n",
    "main()"
   ]
  }
 ],
 "metadata": {
  "kernelspec": {
   "display_name": "Julia 1.8.5",
   "language": "julia",
   "name": "julia-1.8"
  },
  "language_info": {
   "file_extension": ".jl",
   "mimetype": "application/julia",
   "name": "julia",
   "version": "1.8.5"
  }
 },
 "nbformat": 4,
 "nbformat_minor": 5
}
