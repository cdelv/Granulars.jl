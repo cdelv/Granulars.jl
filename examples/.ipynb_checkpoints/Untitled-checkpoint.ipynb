{
 "cells": [
  {
   "cell_type": "code",
   "execution_count": 3,
   "id": "7f570c01",
   "metadata": {},
   "outputs": [],
   "source": [
    "include(\"../src/Granulars.jl\")"
   ]
  },
  {
   "cell_type": "code",
   "execution_count": 48,
   "id": "9b2949b4",
   "metadata": {},
   "outputs": [
    {
     "data": {
      "text/plain": [
       "1-element StructArray(::Vector{SVector{3, Float64}}, ::Vector{SVector{3, Float64}}, ::Vector{SVector{3, Float64}}, ::Vector{Quaternion{Float64}}, ::Vector{SVector{3, Float64}}, ::Vector{SVector{3, Float64}}, ::Vector{Float64}, ::Vector{SVector{3, Float64}}, ::Vector{Float64}) with eltype Particle:\n",
       " Particle([18.60813591287858, 0.997874387719687, 10.0], [-0.4785184450431762, 2.5621916646448898e-14, 0.0], [0.0, 0.0, 0.0], Quaternion{Float64}: - 0.73884 + 1.41272⋅i - 0.0649599⋅j + 0.67388⋅k, [0.0, 0.0, 0.47902755847362616], [0.0, 0.0, 0.0], 1.0, [0.04, 0.04, 0.04], 1.0)"
      ]
     },
     "execution_count": 48,
     "metadata": {},
     "output_type": "execute_result"
    }
   ],
   "source": [
    "include(\"../src/Granulars.jl\")\n",
    "\n",
    "Lx = 25\n",
    "Ly = 25\n",
    "Lz = 25\n",
    "\n",
    "dt = 0.001\n",
    "\n",
    "# X coordinate walls\n",
    "W1 = Wall([1,0,0],[0,0,0])\n",
    "W2 = Wall([-1,0,0],[Lx,0,0])\n",
    "    \n",
    "# Y coordinate walls\n",
    "W3 = Wall([0,1,0],[0,0,0])\n",
    "W4 = Wall([0,-1,0],[0,Ly,0])\n",
    "    \n",
    "# Z coordinate walls\n",
    "W5 = Wall([0,0,1],[0,0,0])\n",
    "W6 = Wall([0,0,-1],[0,0,Lz])\n",
    "\n",
    "walls = [W1,W2,W3,W4,W5,W6]\n",
    "\n",
    "conf = Config(100,dt,walls)\n",
    "\n",
    "p = Particle(r=[3,1,10], v=[50,0,0], w=[0,0,-20])\n",
    "p = Set_I(p,SVector(2/50,2/50,2/50))\n",
    "\n",
    "Propagate([p], conf, vis_steps=65, file=\"Paraview/data\", save=true)"
   ]
  }
 ],
 "metadata": {
  "kernelspec": {
   "display_name": "Julia 1.8.3",
   "language": "julia",
   "name": "julia-1.8"
  },
  "language_info": {
   "file_extension": ".jl",
   "mimetype": "application/julia",
   "name": "julia",
   "version": "1.8.3"
  }
 },
 "nbformat": 4,
 "nbformat_minor": 5
}
