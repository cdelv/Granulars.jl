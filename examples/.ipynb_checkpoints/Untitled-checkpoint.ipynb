{
 "cells": [
  {
   "cell_type": "code",
   "execution_count": 1,
   "id": "1a6c8c14",
   "metadata": {},
   "outputs": [],
   "source": [
    "using StaticArrays\n",
    "using BenchmarkTools\n",
    "include(\"../src/Granulars.jl\")"
   ]
  },
  {
   "cell_type": "code",
   "execution_count": 2,
   "id": "ce792e43",
   "metadata": {},
   "outputs": [
    {
     "data": {
      "text/plain": [
       "Proces_Particles (generic function with 1 method)"
      ]
     },
     "execution_count": 2,
     "metadata": {},
     "output_type": "execute_result"
    }
   ],
   "source": [
    "function Proces_Particles(p::Particle)::Vector{Float64}\n",
    "    ϕ::EulerAngles{Float64} = quat_to_angle(p.q, :XYZ)\n",
    "    w::SVector{3, Float64} = Body_to_lab(p.w,p.q)\n",
    "    τ::SVector{3, Float64} = Body_to_lab(p.w,p.q)\n",
    "    @inbounds [\n",
    "        p.r[1],p.r[2],p.r[3],p.v[1],p.v[2],p.v[3],p.a[1],p.a[2],p.a[3],\n",
    "        ϕ.a1,ϕ.a2,ϕ.a3,w[1],w[2],w[3],τ[1],τ[2],τ[3],\n",
    "        p.m, p.I[1], p.I[2], p.I[3], p.rad]\n",
    "end"
   ]
  },
  {
   "cell_type": "code",
   "execution_count": 3,
   "id": "e1de0dc5",
   "metadata": {},
   "outputs": [
    {
     "data": {
      "text/plain": [
       "10-element StructArray(::Vector{SVector{3, Float64}}, ::Vector{SVector{3, Float64}}, ::Vector{SVector{3, Float64}}, ::Vector{Quaternion{Float64}}, ::Vector{SVector{3, Float64}}, ::Vector{SVector{3, Float64}}, ::Vector{Float64}, ::Vector{SVector{3, Float64}}, ::Vector{Float64}) with eltype Particle:\n",
       " Particle([0.0, 0.0, 0.0], [0.0, 0.0, 0.0], [0.0, 0.0, 0.0], Quaternion{Float64}: + 0.0 + 1.0⋅i + 1.0⋅j + 1.0⋅k, [0.0, 0.0, 0.0], [0.0, 0.0, 0.0], 1.0, [1.0, 1.0, 1.0], 1.0)\n",
       " Particle([0.0, 0.0, 0.0], [0.0, 0.0, 0.0], [0.0, 0.0, 0.0], Quaternion{Float64}: + 0.0 + 1.0⋅i + 1.0⋅j + 1.0⋅k, [0.0, 0.0, 0.0], [0.0, 0.0, 0.0], 1.0, [1.0, 1.0, 1.0], 1.0)\n",
       " Particle([0.0, 0.0, 0.0], [0.0, 0.0, 0.0], [0.0, 0.0, 0.0], Quaternion{Float64}: + 0.0 + 1.0⋅i + 1.0⋅j + 1.0⋅k, [0.0, 0.0, 0.0], [0.0, 0.0, 0.0], 1.0, [1.0, 1.0, 1.0], 1.0)\n",
       " Particle([0.0, 0.0, 0.0], [0.0, 0.0, 0.0], [0.0, 0.0, 0.0], Quaternion{Float64}: + 0.0 + 1.0⋅i + 1.0⋅j + 1.0⋅k, [0.0, 0.0, 0.0], [0.0, 0.0, 0.0], 1.0, [1.0, 1.0, 1.0], 1.0)\n",
       " Particle([0.0, 0.0, 0.0], [0.0, 0.0, 0.0], [0.0, 0.0, 0.0], Quaternion{Float64}: + 0.0 + 1.0⋅i + 1.0⋅j + 1.0⋅k, [0.0, 0.0, 0.0], [0.0, 0.0, 0.0], 1.0, [1.0, 1.0, 1.0], 1.0)\n",
       " Particle([0.0, 0.0, 0.0], [0.0, 0.0, 0.0], [0.0, 0.0, 0.0], Quaternion{Float64}: + 0.0 + 1.0⋅i + 1.0⋅j + 1.0⋅k, [0.0, 0.0, 0.0], [0.0, 0.0, 0.0], 1.0, [1.0, 1.0, 1.0], 1.0)\n",
       " Particle([0.0, 0.0, 0.0], [0.0, 0.0, 0.0], [0.0, 0.0, 0.0], Quaternion{Float64}: + 0.0 + 1.0⋅i + 1.0⋅j + 1.0⋅k, [0.0, 0.0, 0.0], [0.0, 0.0, 0.0], 1.0, [1.0, 1.0, 1.0], 1.0)\n",
       " Particle([0.0, 0.0, 0.0], [0.0, 0.0, 0.0], [0.0, 0.0, 0.0], Quaternion{Float64}: + 0.0 + 1.0⋅i + 1.0⋅j + 1.0⋅k, [0.0, 0.0, 0.0], [0.0, 0.0, 0.0], 1.0, [1.0, 1.0, 1.0], 1.0)\n",
       " Particle([0.0, 0.0, 0.0], [0.0, 0.0, 0.0], [0.0, 0.0, 0.0], Quaternion{Float64}: + 0.0 + 1.0⋅i + 1.0⋅j + 1.0⋅k, [0.0, 0.0, 0.0], [0.0, 0.0, 0.0], 1.0, [1.0, 1.0, 1.0], 1.0)\n",
       " Particle([0.0, 0.0, 0.0], [0.0, 0.0, 0.0], [0.0, 0.0, 0.0], Quaternion{Float64}: + 0.0 + 1.0⋅i + 1.0⋅j + 1.0⋅k, [0.0, 0.0, 0.0], [0.0, 0.0, 0.0], 1.0, [1.0, 1.0, 1.0], 1.0)"
      ]
     },
     "execution_count": 3,
     "metadata": {},
     "output_type": "execute_result"
    }
   ],
   "source": [
    "data = Particle[]\n",
    "\n",
    "for i in 1:10\n",
    "    push!(data, Particle())\n",
    "end\n",
    "\n",
    "particles = StructArray(data)"
   ]
  },
  {
   "cell_type": "code",
   "execution_count": 4,
   "id": "df2dc844",
   "metadata": {},
   "outputs": [
    {
     "data": {
      "text/plain": [
       "10-element StructArray(::Vector{Float64}, ::Vector{Float64}, ::Vector{Float64}, ::Vector{Float64}, ::Vector{Float64}, ::Vector{Float64}, ::Vector{Float64}, ::Vector{Float64}, ::Vector{Float64}, ::Vector{Float64}, ::Vector{Float64}, ::Vector{Float64}, ::Vector{Float64}, ::Vector{Float64}, ::Vector{Float64}, ::Vector{Float64}, ::Vector{Float64}, ::Vector{Float64}, ::Vector{Float64}, ::Vector{Float64}, ::Vector{Float64}, ::Vector{Float64}, ::Vector{Float64}) with eltype NTuple{23, Float64}:\n",
       " (0.0, 0.0, 0.0, 0.0, 0.0, 0.0, 0.0, 0.0, 0.0, 2.0344439357957027, 1.5707963267948966, 0.0, 0.0, 0.0, 0.0, 0.0, 0.0, 0.0, 1.0, 1.0, 1.0, 1.0, 1.0)\n",
       " (0.0, 0.0, 0.0, 0.0, 0.0, 0.0, 0.0, 0.0, 0.0, 2.0344439357957027, 1.5707963267948966, 0.0, 0.0, 0.0, 0.0, 0.0, 0.0, 0.0, 1.0, 1.0, 1.0, 1.0, 1.0)\n",
       " (0.0, 0.0, 0.0, 0.0, 0.0, 0.0, 0.0, 0.0, 0.0, 2.0344439357957027, 1.5707963267948966, 0.0, 0.0, 0.0, 0.0, 0.0, 0.0, 0.0, 1.0, 1.0, 1.0, 1.0, 1.0)\n",
       " (0.0, 0.0, 0.0, 0.0, 0.0, 0.0, 0.0, 0.0, 0.0, 2.0344439357957027, 1.5707963267948966, 0.0, 0.0, 0.0, 0.0, 0.0, 0.0, 0.0, 1.0, 1.0, 1.0, 1.0, 1.0)\n",
       " (0.0, 0.0, 0.0, 0.0, 0.0, 0.0, 0.0, 0.0, 0.0, 2.0344439357957027, 1.5707963267948966, 0.0, 0.0, 0.0, 0.0, 0.0, 0.0, 0.0, 1.0, 1.0, 1.0, 1.0, 1.0)\n",
       " (0.0, 0.0, 0.0, 0.0, 0.0, 0.0, 0.0, 0.0, 0.0, 2.0344439357957027, 1.5707963267948966, 0.0, 0.0, 0.0, 0.0, 0.0, 0.0, 0.0, 1.0, 1.0, 1.0, 1.0, 1.0)\n",
       " (0.0, 0.0, 0.0, 0.0, 0.0, 0.0, 0.0, 0.0, 0.0, 2.0344439357957027, 1.5707963267948966, 0.0, 0.0, 0.0, 0.0, 0.0, 0.0, 0.0, 1.0, 1.0, 1.0, 1.0, 1.0)\n",
       " (0.0, 0.0, 0.0, 0.0, 0.0, 0.0, 0.0, 0.0, 0.0, 2.0344439357957027, 1.5707963267948966, 0.0, 0.0, 0.0, 0.0, 0.0, 0.0, 0.0, 1.0, 1.0, 1.0, 1.0, 1.0)\n",
       " (0.0, 0.0, 0.0, 0.0, 0.0, 0.0, 0.0, 0.0, 0.0, 2.0344439357957027, 1.5707963267948966, 0.0, 0.0, 0.0, 0.0, 0.0, 0.0, 0.0, 1.0, 1.0, 1.0, 1.0, 1.0)\n",
       " (0.0, 0.0, 0.0, 0.0, 0.0, 0.0, 0.0, 0.0, 0.0, 2.0344439357957027, 1.5707963267948966, 0.0, 0.0, 0.0, 0.0, 0.0, 0.0, 0.0, 1.0, 1.0, 1.0, 1.0, 1.0)"
      ]
     },
     "execution_count": 4,
     "metadata": {},
     "output_type": "execute_result"
    }
   ],
   "source": [
    "d = Proces_Particles.(particles)"
   ]
  },
  {
   "cell_type": "code",
   "execution_count": null,
   "id": "2c08f903",
   "metadata": {},
   "outputs": [],
   "source": [
    "d = [1 2 3;\n",
    " 2 3 4]"
   ]
  },
  {
   "cell_type": "code",
   "execution_count": 7,
   "id": "e108880d",
   "metadata": {},
   "outputs": [
    {
     "data": {
      "text/plain": [
       "Tables.MatrixTable{StructVector{NTuple{23, Float64}, NTuple{23, Vector{Float64}}, Int64}} with 10 rows, 1 columns, and schema:\n",
       " :Column1  NTuple{23, Float64}"
      ]
     },
     "execution_count": 7,
     "metadata": {},
     "output_type": "execute_result"
    }
   ],
   "source": [
    "table = CSV.Tables.table(d)"
   ]
  },
  {
   "cell_type": "code",
   "execution_count": 8,
   "id": "52433722",
   "metadata": {},
   "outputs": [
    {
     "data": {
      "text/plain": [
       "\"test.csv\""
      ]
     },
     "execution_count": 8,
     "metadata": {},
     "output_type": "execute_result"
    }
   ],
   "source": [
    "CSV.write(\"test.csv\",table) "
   ]
  },
  {
   "cell_type": "code",
   "execution_count": null,
   "id": "767df4c5",
   "metadata": {},
   "outputs": [],
   "source": [
    "@btime Proces_Particles.($particles)"
   ]
  }
 ],
 "metadata": {
  "kernelspec": {
   "display_name": "Julia 1.8.3",
   "language": "julia",
   "name": "julia-1.8"
  },
  "language_info": {
   "file_extension": ".jl",
   "mimetype": "application/julia",
   "name": "julia",
   "version": "1.8.3"
  }
 },
 "nbformat": 4,
 "nbformat_minor": 5
}
