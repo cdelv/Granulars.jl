{
 "cells": [
  {
   "cell_type": "code",
   "execution_count": 2,
   "id": "4ce47920",
   "metadata": {},
   "outputs": [],
   "source": [
    "%display latex"
   ]
  },
  {
   "cell_type": "code",
   "execution_count": 9,
   "id": "037fd9c9",
   "metadata": {},
   "outputs": [],
   "source": [
    "A, L, Iy, Iz, G, E, J = var('A L I_y I_z G E J')"
   ]
  },
  {
   "cell_type": "code",
   "execution_count": 11,
   "id": "8d28f10a",
   "metadata": {},
   "outputs": [
    {
     "data": {
      "text/html": [
       "<html><script type=\"math/tex; mode=display\">\\newcommand{\\Bold}[1]{\\mathbf{#1}}\\left(\\begin{array}{rrrrrr}\n",
       "-A L^{2} & 0 & 0 & 0 & 0 & 0 \\\\\n",
       "0 & -12 \\, I_{z} & 0 & 0 & 0 & -6 \\, I_{z} L \\\\\n",
       "0 & 0 & -12 \\, I_{y} & 0 & 6 \\, I_{y} L & 0 \\\\\n",
       "0 & 0 & 0 & -\\frac{G J L^{2}}{E} & 0 & 0 \\\\\n",
       "0 & 0 & -6 \\, I_{y} L & 0 & 2 \\, I_{y} L^{2} & 0 \\\\\n",
       "0 & 6 \\, I_{z} L & 0 & 0 & 0 & 2 \\, I_{z} L^{2}\n",
       "\\end{array}\\right)</script></html>"
      ],
      "text/latex": [
       "$$\\newcommand{\\Bold}[1]{\\mathbf{#1}}\\left(\\begin{array}{rrrrrr}\n",
       "-A L^{2} & 0 & 0 & 0 & 0 & 0 \\\\\n",
       "0 & -12 \\, I_{z} & 0 & 0 & 0 & -6 \\, I_{z} L \\\\\n",
       "0 & 0 & -12 \\, I_{y} & 0 & 6 \\, I_{y} L & 0 \\\\\n",
       "0 & 0 & 0 & -\\frac{G J L^{2}}{E} & 0 & 0 \\\\\n",
       "0 & 0 & -6 \\, I_{y} L & 0 & 2 \\, I_{y} L^{2} & 0 \\\\\n",
       "0 & 6 \\, I_{z} L & 0 & 0 & 0 & 2 \\, I_{z} L^{2}\n",
       "\\end{array}\\right)$$"
      ],
      "text/plain": [
       "[    -A*L^2          0          0          0          0          0]\n",
       "[         0    -12*I_z          0          0          0   -6*I_z*L]\n",
       "[         0          0    -12*I_y          0    6*I_y*L          0]\n",
       "[         0          0          0 -G*J*L^2/E          0          0]\n",
       "[         0          0   -6*I_y*L          0  2*I_y*L^2          0]\n",
       "[         0    6*I_z*L          0          0          0  2*I_z*L^2]"
      ]
     },
     "execution_count": 11,
     "metadata": {},
     "output_type": "execute_result"
    }
   ],
   "source": [
    "M = matrix([\n",
    "        [-L*L*A,      0,       0,        0,        0,        0],  \n",
    "        [0   , -12*Iz,       0,        0,        0,  -6*L*Iz], \n",
    "        [0   ,      0,  -12*Iy,        0,   6*L*Iy,        0],   \n",
    "        [0   ,      0,       0, -G*L*L*J/E,        0,        0],   \n",
    "        [0   ,      0, -6*L*Iy,        0, 2*L*L*Iy,        0],   \n",
    "        [0   , 6*L*Iz,       0,        0,        0, 2*L*L*Iz], \n",
    "])\n",
    "M"
   ]
  },
  {
   "cell_type": "code",
   "execution_count": 12,
   "id": "33c42ac4",
   "metadata": {},
   "outputs": [
    {
     "data": {
      "text/html": [
       "<html><script type=\"math/tex; mode=display\">\\newcommand{\\Bold}[1]{\\mathbf{#1}}\\left(\\begin{array}{rrrrrr}\n",
       "-A L^{2} & 0 & 0 & 0 & 0 & 0 \\\\\n",
       "0 & -12 \\, I_{z} & 0 & 0 & 0 & 6 \\, I_{z} L \\\\\n",
       "0 & 0 & -12 \\, I_{y} & 0 & -6 \\, I_{y} L & 0 \\\\\n",
       "0 & 0 & 0 & -\\frac{G J L^{2}}{E} & 0 & 0 \\\\\n",
       "0 & 0 & 6 \\, I_{y} L & 0 & 2 \\, I_{y} L^{2} & 0 \\\\\n",
       "0 & -6 \\, I_{z} L & 0 & 0 & 0 & 2 \\, I_{z} L^{2}\n",
       "\\end{array}\\right)</script></html>"
      ],
      "text/latex": [
       "$$\\newcommand{\\Bold}[1]{\\mathbf{#1}}\\left(\\begin{array}{rrrrrr}\n",
       "-A L^{2} & 0 & 0 & 0 & 0 & 0 \\\\\n",
       "0 & -12 \\, I_{z} & 0 & 0 & 0 & 6 \\, I_{z} L \\\\\n",
       "0 & 0 & -12 \\, I_{y} & 0 & -6 \\, I_{y} L & 0 \\\\\n",
       "0 & 0 & 0 & -\\frac{G J L^{2}}{E} & 0 & 0 \\\\\n",
       "0 & 0 & 6 \\, I_{y} L & 0 & 2 \\, I_{y} L^{2} & 0 \\\\\n",
       "0 & -6 \\, I_{z} L & 0 & 0 & 0 & 2 \\, I_{z} L^{2}\n",
       "\\end{array}\\right)$$"
      ],
      "text/plain": [
       "[    -A*L^2          0          0          0          0          0]\n",
       "[         0    -12*I_z          0          0          0    6*I_z*L]\n",
       "[         0          0    -12*I_y          0   -6*I_y*L          0]\n",
       "[         0          0          0 -G*J*L^2/E          0          0]\n",
       "[         0          0    6*I_y*L          0  2*I_y*L^2          0]\n",
       "[         0   -6*I_z*L          0          0          0  2*I_z*L^2]"
      ]
     },
     "execution_count": 12,
     "metadata": {},
     "output_type": "execute_result"
    }
   ],
   "source": [
    "M.T"
   ]
  },
  {
   "cell_type": "code",
   "execution_count": null,
   "id": "2dd44a77",
   "metadata": {},
   "outputs": [],
   "source": []
  }
 ],
 "metadata": {
  "kernelspec": {
   "display_name": "SageMath 9.5",
   "language": "sage",
   "name": "sagemath"
  },
  "language_info": {
   "codemirror_mode": {
    "name": "ipython",
    "version": 3
   },
   "file_extension": ".py",
   "mimetype": "text/x-python",
   "name": "python",
   "nbconvert_exporter": "python",
   "pygments_lexer": "ipython3",
   "version": "3.10.6"
  }
 },
 "nbformat": 4,
 "nbformat_minor": 5
}
