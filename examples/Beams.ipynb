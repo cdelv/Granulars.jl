{
 "cells": [
  {
   "cell_type": "code",
   "execution_count": 1,
   "id": "af0ee2a6",
   "metadata": {},
   "outputs": [],
   "source": [
    "using StaticArrays\n",
    "using BenchmarkTools\n",
    "include(\"../src/Granulars.jl\")"
   ]
  },
  {
   "cell_type": "code",
   "execution_count": null,
   "id": "666a5a27",
   "metadata": {},
   "outputs": [],
   "source": [
    "p1 = Particle(r=[0.0,0.0,0.0])\n",
    "p2 = Particle(r=[0.9,0,0])"
   ]
  },
  {
   "cell_type": "code",
   "execution_count": null,
   "id": "0137f670",
   "metadata": {},
   "outputs": [],
   "source": [
    "c = Config(0.001, 10.0)"
   ]
  },
  {
   "cell_type": "code",
   "execution_count": null,
   "id": "7802deaf",
   "metadata": {},
   "outputs": [],
   "source": [
    "beam = Beam(p1,p2,c) # falta la orientación de la otra esfera"
   ]
  },
  {
   "cell_type": "code",
   "execution_count": null,
   "id": "e92357eb",
   "metadata": {},
   "outputs": [],
   "source": [
    "Beam_Orientation(unitary(p2.r - p1.r ))"
   ]
  },
  {
   "cell_type": "code",
   "execution_count": null,
   "id": "2ec3354b",
   "metadata": {},
   "outputs": [],
   "source": [
    "quat_to_angle(p1.q)"
   ]
  },
  {
   "cell_type": "code",
   "execution_count": null,
   "id": "1a826b72",
   "metadata": {},
   "outputs": [],
   "source": [
    "quat_to_angle(p1.q)-Beam_Orientation(unitary(p2.r - p1.r ))"
   ]
  },
  {
   "cell_type": "code",
   "execution_count": null,
   "id": "d56b46a6",
   "metadata": {},
   "outputs": [],
   "source": [
    "θ_beam = quat_to_angle(p1.q)-beam.Δθ_0"
   ]
  },
  {
   "cell_type": "code",
   "execution_count": null,
   "id": "aa3ea1d4",
   "metadata": {},
   "outputs": [],
   "source": [
    "Δθ = quat_to_angle(p2.q) * quat_to_angle(p1.q) * beam.Δθ_0ij"
   ]
  },
  {
   "cell_type": "code",
   "execution_count": null,
   "id": "5668b014",
   "metadata": {},
   "outputs": [],
   "source": [
    "@btime Beam($p1,$p2,$c)"
   ]
  },
  {
   "cell_type": "code",
   "execution_count": null,
   "id": "7cb62273",
   "metadata": {},
   "outputs": [],
   "source": [
    "Beam_Orientation(normalize(SVector(1.0,1.0,1.0)), :ZYX)"
   ]
  },
  {
   "cell_type": "code",
   "execution_count": null,
   "id": "2b9e53ec",
   "metadata": {},
   "outputs": [],
   "source": [
    "@btime Beam_Orientation(SVector(1.0,1.0,1.0), :ZYX)"
   ]
  },
  {
   "cell_type": "code",
   "execution_count": null,
   "id": "609f69a7",
   "metadata": {},
   "outputs": [],
   "source": [
    "Lab_to_Beam(normalize(SVector(1.0,1.0,1.0)), SVector(0.785398, -0.61548, -8.261799))"
   ]
  },
  {
   "cell_type": "code",
   "execution_count": null,
   "id": "41f6dc19",
   "metadata": {},
   "outputs": [],
   "source": [
    "Beam_to_Lab(SVector(1.0,0.0,0.0), SVector(0.785398, -0.61548, 4.2661799))"
   ]
  },
  {
   "cell_type": "code",
   "execution_count": null,
   "id": "3e9be56a",
   "metadata": {},
   "outputs": [],
   "source": [
    "v = SVector(1.0,1e-14,0.0)"
   ]
  },
  {
   "cell_type": "code",
   "execution_count": null,
   "id": "672d5d3d",
   "metadata": {},
   "outputs": [],
   "source": [
    "v = [1.0,1e-14,0.0]\n",
    "v[abs(v) .< 1e-12] = 0.0"
   ]
  },
  {
   "cell_type": "code",
   "execution_count": null,
   "id": "2ffa8385",
   "metadata": {},
   "outputs": [],
   "source": [
    "sparsify(v, eps) = abs(v) < eps ? 0.0 : v\n",
    "\n",
    "function test(v)\n",
    "    v = sparsify.(v,1e-12)\n",
    "    v\n",
    "end"
   ]
  },
  {
   "cell_type": "code",
   "execution_count": null,
   "id": "ef79b0b2",
   "metadata": {},
   "outputs": [],
   "source": [
    "@btime test($v)"
   ]
  },
  {
   "cell_type": "code",
   "execution_count": null,
   "id": "0b76c88f",
   "metadata": {},
   "outputs": [],
   "source": []
  },
  {
   "cell_type": "code",
   "execution_count": 2,
   "id": "c6dd9b57",
   "metadata": {},
   "outputs": [],
   "source": [
    "using NLsolve"
   ]
  },
  {
   "cell_type": "code",
   "execution_count": null,
   "id": "6dc222e1",
   "metadata": {},
   "outputs": [],
   "source": [
    "function f!(F, x)\n",
    "    F[1] = (x[1]+3)*(x[2]^3-7)+18\n",
    "    F[2] = sin(x[2]*exp(x[1])-1)\n",
    "end"
   ]
  },
  {
   "cell_type": "code",
   "execution_count": null,
   "id": "d61233f0",
   "metadata": {},
   "outputs": [],
   "source": [
    "nlsolve(f!, [ 0.1; 1.2], autodiff = :forward)"
   ]
  },
  {
   "cell_type": "code",
   "execution_count": null,
   "id": "cc911e00",
   "metadata": {},
   "outputs": [],
   "source": [
    "@btime nlsolve($f!, $[0.1; 1.2], autodiff = :forward)"
   ]
  },
  {
   "cell_type": "code",
   "execution_count": null,
   "id": "c14f7e75",
   "metadata": {},
   "outputs": [],
   "source": [
    "function f!(F, x)\n",
    "    F[1] = (x[1]+3)*(x[2]^3-7)+18\n",
    "    F[2] = sin(x[2]*exp(x[1])-1)\n",
    "end\n",
    "\n",
    "function j!(J, x)\n",
    "    J[1, 1] = x[2]^3-7\n",
    "    J[1, 2] = 3*x[2]^2*(x[1]+3)\n",
    "    u = exp(x[1])*cos(x[2]*exp(x[1])-1)\n",
    "    J[2, 1] = x[2]*u\n",
    "    J[2, 2] = u\n",
    "end\n",
    "\n",
    "@btime  nlsolve($f!, $j!, $[ 0.1; 1.2])"
   ]
  },
  {
   "cell_type": "code",
   "execution_count": null,
   "id": "96d7e11d",
   "metadata": {},
   "outputs": [],
   "source": [
    "function func(F, w)\n",
    "    τ = [1.0,1.0,1.0]\n",
    "    II = [1.0,1.0,1.0]\n",
    "    dt = 0.01\n",
    "    F[1] = w[1] + (τ[1] + w[2]*w[3]*(II[2]-II[3]))*dt/II[1]\n",
    "    F[2] = w[2] + (τ[2] + w[3]*w[1]*(II[3]-II[1]))*dt/II[2]\n",
    "    F[3] = w[3] + (τ[3] + w[1]*w[2]*(II[1]-II[2]))*dt/II[3]\n",
    "end"
   ]
  },
  {
   "cell_type": "code",
   "execution_count": null,
   "id": "a60e9893",
   "metadata": {},
   "outputs": [],
   "source": [
    "sol = nlsolve(func, [ 0.1; 1.2; 1.3], autodiff = :forward)"
   ]
  },
  {
   "cell_type": "code",
   "execution_count": null,
   "id": "ac948901",
   "metadata": {},
   "outputs": [],
   "source": [
    "SVector{3}(sol.zero)"
   ]
  },
  {
   "cell_type": "code",
   "execution_count": 39,
   "id": "22f5aafa",
   "metadata": {},
   "outputs": [
    {
     "data": {
      "text/plain": [
       "Move_w (generic function with 2 methods)"
      ]
     },
     "execution_count": 39,
     "metadata": {},
     "output_type": "execute_result"
    }
   ],
   "source": [
    "function Move_w(w::SVector{3, Float64}, τ::SVector{3, Float64}, II::SVector{3, Float64}, dt::Float64, cte=1.0::Float64)\n",
    "    \n",
    "    function func(x, F)        \n",
    "        F[1] = -x[1] + w[1] + (τ[1] + 0.5*(w[2]*w[3] + x[2]*x[3])*(II[2]-II[3]))*dt*cte/II[1]\n",
    "        F[2] = -x[2] + w[2] + (τ[2] + 0.5*(w[3]*w[1] + x[3]*x[1])*(II[3]-II[1]))*dt*cte/II[2]\n",
    "        F[3] = -x[3] + w[3] + (τ[3] + 0.5*(w[1]*w[2] + x[1]*x[2])*(II[1]-II[2]))*dt*cte/II[3]\n",
    "    end\n",
    "    \n",
    "    df = OnceDifferentiable(func, [w[1]; w[2]; w[3]], similar([w[1]; w[2]; w[3]]))\n",
    "    SVector{3}(nlsolve(df, [w[1]; w[2]; w[3]]).zero)\n",
    "end"
   ]
  },
  {
   "cell_type": "code",
   "execution_count": 65,
   "id": "ad58eca6",
   "metadata": {},
   "outputs": [
    {
     "data": {
      "text/plain": [
       "3-element SVector{3, Float64} with indices SOneTo(3):\n",
       " 1.00105\n",
       " 1.0\n",
       " 0.99995"
      ]
     },
     "execution_count": 65,
     "metadata": {},
     "output_type": "execute_result"
    }
   ],
   "source": [
    "Move_w(SVector(1.0,1.0,1.0), SVector(1.0,0.0,0.0), SVector(1.0,1.1,1.0), 0.001)"
   ]
  },
  {
   "cell_type": "code",
   "execution_count": 92,
   "id": "d4b29c53",
   "metadata": {},
   "outputs": [
    {
     "data": {
      "text/plain": [
       "Move_w (generic function with 2 methods)"
      ]
     },
     "execution_count": 92,
     "metadata": {},
     "output_type": "execute_result"
    }
   ],
   "source": [
    "function Move_w(w::SVector{3, Float64}, τ::SVector{3, Float64}, II::SVector{3, Float64}, dt::Float64, cte=1.0::Float64)::SVector{3, Float64}\n",
    "    ww::SVector{3, Float64} = w\n",
    "    \n",
    "    for i in 1:30\n",
    "        ww = w + SVector(\n",
    "            τ[1] + 0.5*(w[2]*w[3]+ww[2]*ww[3])*(II[2]-II[3]),\n",
    "            τ[2] + 0.5*(w[3]*w[1]+ww[3]*ww[1])*(II[3]-II[1]),\n",
    "            τ[3] + 0.5*(w[1]*w[2]+ww[1]*ww[2])*(II[1]-II[2]))*dt*cte./II\n",
    "        \n",
    "        println(norm(ww-w))\n",
    "    end\n",
    "    ww\n",
    "end"
   ]
  },
  {
   "cell_type": "code",
   "execution_count": 103,
   "id": "a7386986",
   "metadata": {},
   "outputs": [
    {
     "name": "stdout",
     "output_type": "stream",
     "text": [
      "0.000768196501868215\n",
      "0.0007681952591023242\n",
      "0.0007681952577299909\n",
      "0.0007681952577299909\n",
      "0.0007681952577299909\n",
      "0.0007681952577299909\n",
      "0.0007681952577299909\n",
      "0.0007681952577299909\n",
      "0.0007681952577299909\n",
      "0.0007681952577299909\n",
      "0.0007681952577299909\n",
      "0.0007681952577299909\n",
      "0.0007681952577299909\n",
      "0.0007681952577299909\n",
      "0.0007681952577299909\n",
      "0.0007681952577299909\n",
      "0.0007681952577299909\n",
      "0.0007681952577299909\n",
      "0.0007681952577299909\n",
      "0.0007681952577299909\n",
      "0.0007681952577299909\n",
      "0.0007681952577299909\n",
      "0.0007681952577299909\n",
      "0.0007681952577299909\n",
      "0.0007681952577299909\n",
      "0.0007681952577299909\n",
      "0.0007681952577299909\n",
      "0.0007681952577299909\n",
      "0.0007681952577299909\n",
      "0.0007681952577299909\n"
     ]
    },
    {
     "data": {
      "text/plain": [
       "3-element SVector{3, Float64} with indices SOneTo(3):\n",
       " 1.0000391284528594\n",
       " 1.000749991637224\n",
       " 1.00016157184863"
      ]
     },
     "execution_count": 103,
     "metadata": {},
     "output_type": "execute_result"
    }
   ],
   "source": [
    "Move_w(SVector(1.0,1.0,1.0), SVector(1.0,10.0,1.0), SVector(2.3,1.2,1.3), 0.0001)"
   ]
  },
  {
   "cell_type": "code",
   "execution_count": 78,
   "id": "d6757acd",
   "metadata": {},
   "outputs": [
    {
     "name": "stdout",
     "output_type": "stream",
     "text": [
      "  165.565 ns (0 allocations: 0 bytes)\n"
     ]
    },
    {
     "data": {
      "text/plain": [
       "3-element SVector{3, Float64} with indices SOneTo(3):\n",
       " 1.00109999499725\n",
       " 1.0\n",
       " 0.9998999450002501"
      ]
     },
     "execution_count": 78,
     "metadata": {},
     "output_type": "execute_result"
    }
   ],
   "source": [
    "@btime Move_w(SVector(1.0,1.0,1.0), SVector(1.0,0.0,0.0), SVector(1.0,1.1,1.0), 0.001)"
   ]
  },
  {
   "cell_type": "code",
   "execution_count": null,
   "id": "78ea8572",
   "metadata": {},
   "outputs": [],
   "source": []
  }
 ],
 "metadata": {
  "kernelspec": {
   "display_name": "Julia 1.8.3",
   "language": "julia",
   "name": "julia-1.8"
  },
  "language_info": {
   "file_extension": ".jl",
   "mimetype": "application/julia",
   "name": "julia",
   "version": "1.8.3"
  }
 },
 "nbformat": 4,
 "nbformat_minor": 5
}
