{
 "cells": [
  {
   "cell_type": "code",
   "execution_count": 7,
   "id": "b079c97f",
   "metadata": {},
   "outputs": [],
   "source": [
    "%display latex"
   ]
  },
  {
   "cell_type": "code",
   "execution_count": 8,
   "id": "ec2df94c",
   "metadata": {},
   "outputs": [],
   "source": [
    "A, L, Iz, Iy, E, G, J = var('A L I_z I_y E G J')"
   ]
  },
  {
   "cell_type": "code",
   "execution_count": 14,
   "id": "64ae9a1a",
   "metadata": {},
   "outputs": [
    {
     "data": {
      "text/html": [
       "<html><script type=\"math/tex; mode=display\">\\newcommand{\\Bold}[1]{\\mathbf{#1}}\\left(\\begin{array}{rrrrrrrrrrrr}\n",
       "\\frac{A E}{L} & 0 & 0 & 0 & 0 & 0 & -\\frac{A E}{L} & 0 & 0 & 0 & 0 & 0 \\\\\n",
       "0 & \\frac{12 \\, E I_{z}}{L^{3}} & 0 & 0 & 0 & \\frac{6 \\, E I_{z}}{L^{2}} & 0 & -\\frac{12 \\, E I_{z}}{L^{3}} & 0 & 0 & 0 & \\frac{6 \\, E I_{z}}{L^{2}} \\\\\n",
       "0 & 0 & \\frac{12 \\, E I_{y}}{L^{3}} & 0 & -\\frac{6 \\, E I_{y}}{L^{2}} & 0 & 0 & 0 & -\\frac{12 \\, E I_{y}}{L^{3}} & 0 & -\\frac{6 \\, E I_{y}}{L^{2}} & 0 \\\\\n",
       "0 & 0 & 0 & \\frac{G J}{L} & 0 & 0 & 0 & 0 & 0 & -\\frac{G J}{L} & 0 & 0 \\\\\n",
       "0 & 0 & -\\frac{6 \\, E I_{y}}{L^{2}} & 0 & \\frac{4 \\, E I_{y}}{L} & 0 & 0 & 0 & \\frac{6 \\, E I_{y}}{L^{2}} & 0 & \\frac{2 \\, E I_{y}}{L} & 0 \\\\\n",
       "0 & \\frac{6 \\, E I_{z}}{L^{2}} & 0 & 0 & 0 & \\frac{4 \\, E I_{z}}{L} & 0 & -\\frac{6 \\, E I_{z}}{L^{2}} & 0 & 0 & 0 & \\frac{2 \\, E I_{z}}{L} \\\\\n",
       "-\\frac{A E}{L} & 0 & 0 & 0 & 0 & 0 & \\frac{A E}{L} & 0 & 0 & 0 & 0 & 0 \\\\\n",
       "0 & -\\frac{12 \\, E I_{z}}{L^{3}} & 0 & 0 & 0 & -\\frac{6 \\, E I_{z}}{L^{2}} & 0 & \\frac{12 \\, E I_{z}}{L^{3}} & 0 & 0 & 0 & -\\frac{6 \\, E I_{z}}{L^{2}} \\\\\n",
       "0 & 0 & -\\frac{12 \\, E I_{y}}{L^{3}} & 0 & \\frac{6 \\, E I_{y}}{L^{2}} & 0 & 0 & 0 & \\frac{12 \\, E I_{y}}{L^{3}} & 0 & \\frac{6 \\, E I_{y}}{L^{2}} & 0 \\\\\n",
       "0 & 0 & 0 & -\\frac{G J}{L} & 0 & 0 & 0 & 0 & 0 & \\frac{G J}{L} & 0 & 0 \\\\\n",
       "0 & 0 & -\\frac{6 \\, E I_{y}}{L^{2}} & 0 & \\frac{2 \\, E I_{y}}{L} & 0 & 0 & 0 & \\frac{6 \\, E I_{y}}{L^{2}} & 0 & \\frac{4 \\, E I_{y}}{L} & 0 \\\\\n",
       "0 & \\frac{6 \\, E I_{z}}{L^{2}} & 0 & 0 & 0 & \\frac{2 \\, E I_{z}}{L} & 0 & -\\frac{6 \\, E I_{z}}{L^{2}} & 0 & 0 & 0 & \\frac{4 \\, E I_{z}}{L}\n",
       "\\end{array}\\right)</script></html>"
      ],
      "text/latex": [
       "$$\\newcommand{\\Bold}[1]{\\mathbf{#1}}\\left(\\begin{array}{rrrrrrrrrrrr}\n",
       "\\frac{A E}{L} & 0 & 0 & 0 & 0 & 0 & -\\frac{A E}{L} & 0 & 0 & 0 & 0 & 0 \\\\\n",
       "0 & \\frac{12 \\, E I_{z}}{L^{3}} & 0 & 0 & 0 & \\frac{6 \\, E I_{z}}{L^{2}} & 0 & -\\frac{12 \\, E I_{z}}{L^{3}} & 0 & 0 & 0 & \\frac{6 \\, E I_{z}}{L^{2}} \\\\\n",
       "0 & 0 & \\frac{12 \\, E I_{y}}{L^{3}} & 0 & -\\frac{6 \\, E I_{y}}{L^{2}} & 0 & 0 & 0 & -\\frac{12 \\, E I_{y}}{L^{3}} & 0 & -\\frac{6 \\, E I_{y}}{L^{2}} & 0 \\\\\n",
       "0 & 0 & 0 & \\frac{G J}{L} & 0 & 0 & 0 & 0 & 0 & -\\frac{G J}{L} & 0 & 0 \\\\\n",
       "0 & 0 & -\\frac{6 \\, E I_{y}}{L^{2}} & 0 & \\frac{4 \\, E I_{y}}{L} & 0 & 0 & 0 & \\frac{6 \\, E I_{y}}{L^{2}} & 0 & \\frac{2 \\, E I_{y}}{L} & 0 \\\\\n",
       "0 & \\frac{6 \\, E I_{z}}{L^{2}} & 0 & 0 & 0 & \\frac{4 \\, E I_{z}}{L} & 0 & -\\frac{6 \\, E I_{z}}{L^{2}} & 0 & 0 & 0 & \\frac{2 \\, E I_{z}}{L} \\\\\n",
       "-\\frac{A E}{L} & 0 & 0 & 0 & 0 & 0 & \\frac{A E}{L} & 0 & 0 & 0 & 0 & 0 \\\\\n",
       "0 & -\\frac{12 \\, E I_{z}}{L^{3}} & 0 & 0 & 0 & -\\frac{6 \\, E I_{z}}{L^{2}} & 0 & \\frac{12 \\, E I_{z}}{L^{3}} & 0 & 0 & 0 & -\\frac{6 \\, E I_{z}}{L^{2}} \\\\\n",
       "0 & 0 & -\\frac{12 \\, E I_{y}}{L^{3}} & 0 & \\frac{6 \\, E I_{y}}{L^{2}} & 0 & 0 & 0 & \\frac{12 \\, E I_{y}}{L^{3}} & 0 & \\frac{6 \\, E I_{y}}{L^{2}} & 0 \\\\\n",
       "0 & 0 & 0 & -\\frac{G J}{L} & 0 & 0 & 0 & 0 & 0 & \\frac{G J}{L} & 0 & 0 \\\\\n",
       "0 & 0 & -\\frac{6 \\, E I_{y}}{L^{2}} & 0 & \\frac{2 \\, E I_{y}}{L} & 0 & 0 & 0 & \\frac{6 \\, E I_{y}}{L^{2}} & 0 & \\frac{4 \\, E I_{y}}{L} & 0 \\\\\n",
       "0 & \\frac{6 \\, E I_{z}}{L^{2}} & 0 & 0 & 0 & \\frac{2 \\, E I_{z}}{L} & 0 & -\\frac{6 \\, E I_{z}}{L^{2}} & 0 & 0 & 0 & \\frac{4 \\, E I_{z}}{L}\n",
       "\\end{array}\\right)$$"
      ],
      "text/plain": [
       "[        A*E/L             0             0             0             0             0        -A*E/L             0             0             0             0             0]\n",
       "[            0  12*E*I_z/L^3             0             0             0   6*E*I_z/L^2             0 -12*E*I_z/L^3             0             0             0   6*E*I_z/L^2]\n",
       "[            0             0  12*E*I_y/L^3             0  -6*E*I_y/L^2             0             0             0 -12*E*I_y/L^3             0  -6*E*I_y/L^2             0]\n",
       "[            0             0             0         G*J/L             0             0             0             0             0        -G*J/L             0             0]\n",
       "[            0             0  -6*E*I_y/L^2             0     4*E*I_y/L             0             0             0   6*E*I_y/L^2             0     2*E*I_y/L             0]\n",
       "[            0   6*E*I_z/L^2             0             0             0     4*E*I_z/L             0  -6*E*I_z/L^2             0             0             0     2*E*I_z/L]\n",
       "[       -A*E/L             0             0             0             0             0         A*E/L             0             0             0             0             0]\n",
       "[            0 -12*E*I_z/L^3             0             0             0  -6*E*I_z/L^2             0  12*E*I_z/L^3             0             0             0  -6*E*I_z/L^2]\n",
       "[            0             0 -12*E*I_y/L^3             0   6*E*I_y/L^2             0             0             0  12*E*I_y/L^3             0   6*E*I_y/L^2             0]\n",
       "[            0             0             0        -G*J/L             0             0             0             0             0         G*J/L             0             0]\n",
       "[            0             0  -6*E*I_y/L^2             0     2*E*I_y/L             0             0             0   6*E*I_y/L^2             0     4*E*I_y/L             0]\n",
       "[            0   6*E*I_z/L^2             0             0             0     2*E*I_z/L             0  -6*E*I_z/L^2             0             0             0     4*E*I_z/L]"
      ]
     },
     "execution_count": 14,
     "metadata": {},
     "output_type": "execute_result"
    }
   ],
   "source": [
    "K = (E/L**3)*matrix([[A*L*L, 0, 0, 0, 0, 0, -A*L*L, 0, 0, 0, 0, 0],\n",
    "        [0, 12*Iz, 0, 0, 0, 6*L*Iz, 0, -12*Iz, 0, 0, 0, 6*L*Iz],\n",
    "        [0, 0, 12*Iy, 0, -6*L*Iy, 0, 0, 0, -12*Iy, 0, -6*L*Iy, 0],\n",
    "        [0, 0, 0, G*J*L*L/E, 0, 0, 0, 0, 0, -G*J*L*L/E, 0, 0],\n",
    "        [0, 0, -6*L*Iy, 0, 4*L*L*Iy, 0, 0, 0, 6*L*Iy, 0, 2*L*L*Iy, 0],\n",
    "        [0, 6*L*Iz, 0, 0, 0, 4*L*L*Iz, 0, -6*L*Iz, 0, 0, 0, 2*L*L*Iz],\n",
    "        [-A*L*L, 0, 0, 0, 0, 0, A*L*L, 0, 0, 0, 0, 0],\n",
    "        [0, -12*Iz, 0, 0, 0, -6*L*Iz, 0, 12*Iz, 0, 0, 0, -6*L*Iz],\n",
    "        [0, 0, -12*Iy, 0, 6*L*Iy, 0, 0, 0, 12*Iy, 0, 6*L*Iy, 0],\n",
    "        [0, 0, 0, -G*J*L*L/E, 0, 0, 0, 0, 0, G*J*L*L/E, 0, 0],\n",
    "        [0, 0, -6*L*Iy, 0, 2*L*L*Iy, 0, 0, 0, 6*L*Iy, 0, 4*L*L*Iy, 0],\n",
    "        [0, 6*L*Iz, 0, 0, 0, 2*L*L*Iz, 0, -6*L*Iz, 0, 0, 0, 4*L*L*Iz]])\n",
    "K"
   ]
  },
  {
   "cell_type": "code",
   "execution_count": 10,
   "id": "67475b26",
   "metadata": {},
   "outputs": [],
   "source": [
    "dx, dy, dz, phi, theta, psi = var('Delta_x Delta_y Delta_z Delta_phi Delta_theta Delta_psi')"
   ]
  },
  {
   "cell_type": "code",
   "execution_count": 11,
   "id": "cfe4cca8",
   "metadata": {},
   "outputs": [
    {
     "data": {
      "text/html": [
       "<html><script type=\"math/tex; mode=display\">\\newcommand{\\Bold}[1]{\\mathbf{#1}}\\left(\\begin{array}{r}\n",
       "0 \\\\\n",
       "0 \\\\\n",
       "0 \\\\\n",
       "0 \\\\\n",
       "0 \\\\\n",
       "0 \\\\\n",
       "\\Delta_{x} \\\\\n",
       "\\Delta_{y} \\\\\n",
       "\\Delta_{z} \\\\\n",
       "\\Delta_{\\phi} \\\\\n",
       "\\Delta_{\\theta} \\\\\n",
       "\\Delta_{\\psi}\n",
       "\\end{array}\\right)</script></html>"
      ],
      "text/latex": [
       "$$\\newcommand{\\Bold}[1]{\\mathbf{#1}}\\left(\\begin{array}{r}\n",
       "0 \\\\\n",
       "0 \\\\\n",
       "0 \\\\\n",
       "0 \\\\\n",
       "0 \\\\\n",
       "0 \\\\\n",
       "\\Delta_{x} \\\\\n",
       "\\Delta_{y} \\\\\n",
       "\\Delta_{z} \\\\\n",
       "\\Delta_{\\phi} \\\\\n",
       "\\Delta_{\\theta} \\\\\n",
       "\\Delta_{\\psi}\n",
       "\\end{array}\\right)$$"
      ],
      "text/plain": [
       "[          0]\n",
       "[          0]\n",
       "[          0]\n",
       "[          0]\n",
       "[          0]\n",
       "[          0]\n",
       "[    Delta_x]\n",
       "[    Delta_y]\n",
       "[    Delta_z]\n",
       "[  Delta_phi]\n",
       "[Delta_theta]\n",
       "[  Delta_psi]"
      ]
     },
     "execution_count": 11,
     "metadata": {},
     "output_type": "execute_result"
    }
   ],
   "source": [
    "x = Matrix([[0,0,0,0,0,0,dx,dy,dz,phi,theta,psi]]).T\n",
    "x"
   ]
  },
  {
   "cell_type": "code",
   "execution_count": 13,
   "id": "0e15cf6b",
   "metadata": {},
   "outputs": [
    {
     "data": {
      "text/html": [
       "<html><script type=\"math/tex; mode=display\">\\newcommand{\\Bold}[1]{\\mathbf{#1}}\\left(\\begin{array}{r}\n",
       "-A \\Delta_{x} L^{2} \\\\\n",
       "6 \\, \\Delta_{\\psi} I_{z} L - 12 \\, \\Delta_{y} I_{z} \\\\\n",
       "-6 \\, \\Delta_{\\theta} I_{y} L - 12 \\, \\Delta_{z} I_{y} \\\\\n",
       "-\\frac{\\Delta_{\\phi} G J L^{2}}{E} \\\\\n",
       "2 \\, \\Delta_{\\theta} I_{y} L^{2} + 6 \\, \\Delta_{z} I_{y} L \\\\\n",
       "2 \\, \\Delta_{\\psi} I_{z} L^{2} - 6 \\, \\Delta_{y} I_{z} L \\\\\n",
       "A \\Delta_{x} L^{2} \\\\\n",
       "-6 \\, \\Delta_{\\psi} I_{z} L + 12 \\, \\Delta_{y} I_{z} \\\\\n",
       "6 \\, \\Delta_{\\theta} I_{y} L + 12 \\, \\Delta_{z} I_{y} \\\\\n",
       "\\frac{\\Delta_{\\phi} G J L^{2}}{E} \\\\\n",
       "4 \\, \\Delta_{\\theta} I_{y} L^{2} + 6 \\, \\Delta_{z} I_{y} L \\\\\n",
       "4 \\, \\Delta_{\\psi} I_{z} L^{2} - 6 \\, \\Delta_{y} I_{z} L\n",
       "\\end{array}\\right)</script></html>"
      ],
      "text/latex": [
       "$$\\newcommand{\\Bold}[1]{\\mathbf{#1}}\\left(\\begin{array}{r}\n",
       "-A \\Delta_{x} L^{2} \\\\\n",
       "6 \\, \\Delta_{\\psi} I_{z} L - 12 \\, \\Delta_{y} I_{z} \\\\\n",
       "-6 \\, \\Delta_{\\theta} I_{y} L - 12 \\, \\Delta_{z} I_{y} \\\\\n",
       "-\\frac{\\Delta_{\\phi} G J L^{2}}{E} \\\\\n",
       "2 \\, \\Delta_{\\theta} I_{y} L^{2} + 6 \\, \\Delta_{z} I_{y} L \\\\\n",
       "2 \\, \\Delta_{\\psi} I_{z} L^{2} - 6 \\, \\Delta_{y} I_{z} L \\\\\n",
       "A \\Delta_{x} L^{2} \\\\\n",
       "-6 \\, \\Delta_{\\psi} I_{z} L + 12 \\, \\Delta_{y} I_{z} \\\\\n",
       "6 \\, \\Delta_{\\theta} I_{y} L + 12 \\, \\Delta_{z} I_{y} \\\\\n",
       "\\frac{\\Delta_{\\phi} G J L^{2}}{E} \\\\\n",
       "4 \\, \\Delta_{\\theta} I_{y} L^{2} + 6 \\, \\Delta_{z} I_{y} L \\\\\n",
       "4 \\, \\Delta_{\\psi} I_{z} L^{2} - 6 \\, \\Delta_{y} I_{z} L\n",
       "\\end{array}\\right)$$"
      ],
      "text/plain": [
       "[                         -A*Delta_x*L^2]\n",
       "[     6*Delta_psi*I_z*L - 12*Delta_y*I_z]\n",
       "[  -6*Delta_theta*I_y*L - 12*Delta_z*I_y]\n",
       "[                   -Delta_phi*G*J*L^2/E]\n",
       "[2*Delta_theta*I_y*L^2 + 6*Delta_z*I_y*L]\n",
       "[  2*Delta_psi*I_z*L^2 - 6*Delta_y*I_z*L]\n",
       "[                          A*Delta_x*L^2]\n",
       "[    -6*Delta_psi*I_z*L + 12*Delta_y*I_z]\n",
       "[   6*Delta_theta*I_y*L + 12*Delta_z*I_y]\n",
       "[                    Delta_phi*G*J*L^2/E]\n",
       "[4*Delta_theta*I_y*L^2 + 6*Delta_z*I_y*L]\n",
       "[  4*Delta_psi*I_z*L^2 - 6*Delta_y*I_z*L]"
      ]
     },
     "execution_count": 13,
     "metadata": {},
     "output_type": "execute_result"
    }
   ],
   "source": [
    "v = (E/L**3)*K*x\n",
    "v"
   ]
  },
  {
   "cell_type": "code",
   "execution_count": null,
   "id": "c7322451",
   "metadata": {},
   "outputs": [],
   "source": [
    "v = v.substitute({Iy:Iz})\n",
    "v.simplify_full()"
   ]
  },
  {
   "cell_type": "code",
   "execution_count": null,
   "id": "20766335",
   "metadata": {},
   "outputs": [],
   "source": [
    "x = Matrix([[dx/2,dy/2,dz/2,phi/2,theta/2,psi/2,-dx/2,-dy/2,-dz/2,-phi/2,-theta/2,-psi/2]]).T\n",
    "K*x"
   ]
  },
  {
   "cell_type": "code",
   "execution_count": 4,
   "id": "125066b7",
   "metadata": {},
   "outputs": [],
   "source": [
    "x, y, z, a, b, c, d, e, f = var('x y z a b c d e f')"
   ]
  },
  {
   "cell_type": "code",
   "execution_count": 5,
   "id": "f2efb953",
   "metadata": {},
   "outputs": [],
   "source": [
    "eq1 = x == a*y*z + b \n",
    "eq2 = y == c*x*z + d\n",
    "eq3 = z == e*y*x + f"
   ]
  },
  {
   "cell_type": "code",
   "execution_count": 6,
   "id": "b47cd771",
   "metadata": {},
   "outputs": [
    {
     "data": {
      "text/plain": [
       "[x == a*y*z + b, y == c*x*z + d, z == e*x*y + f]"
      ]
     },
     "execution_count": 6,
     "metadata": {},
     "output_type": "execute_result"
    }
   ],
   "source": [
    "solve([eq1, eq2, eq3], x, y, z)"
   ]
  }
 ],
 "metadata": {
  "kernelspec": {
   "display_name": "SageMath 9.5",
   "language": "sage",
   "name": "sagemath"
  },
  "language_info": {
   "codemirror_mode": {
    "name": "ipython",
    "version": 3
   },
   "file_extension": ".py",
   "mimetype": "text/x-python",
   "name": "python",
   "nbconvert_exporter": "python",
   "pygments_lexer": "ipython3",
   "version": "3.10.6"
  }
 },
 "nbformat": 4,
 "nbformat_minor": 5
}
