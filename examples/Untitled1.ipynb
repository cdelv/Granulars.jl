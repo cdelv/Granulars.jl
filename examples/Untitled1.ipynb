{
 "cells": [
  {
   "cell_type": "code",
   "execution_count": 1,
   "id": "b079c97f",
   "metadata": {},
   "outputs": [],
   "source": [
    "%display latex"
   ]
  },
  {
   "cell_type": "code",
   "execution_count": null,
   "id": "ec2df94c",
   "metadata": {},
   "outputs": [],
   "source": [
    "A, L, Iz, Iy, E, G, J = var('A L I_z I_y E G J')"
   ]
  },
  {
   "cell_type": "code",
   "execution_count": null,
   "id": "64ae9a1a",
   "metadata": {},
   "outputs": [],
   "source": [
    "K = matrix([[A*L*L, 0, 0, 0, 0, 0, -A*L*L, 0, 0, 0, 0, 0],\n",
    "        [0, 12*Iz, 0, 0, 0, 6*L*Iz, 0, -12*Iz, 0, 0, 0, 6*L*Iz],\n",
    "        [0, 0, 12*Iy, 0, -6*L*Iy, 0, 0, 0, -12*Iy, 0, -6*L*Iy, 0],\n",
    "        [0, 0, 0, G*J*L*L/E, 0, 0, 0, 0, 0, -G*J*L*L/E, 0, 0],\n",
    "        [0, 0, -6*L*Iy, 0, 4*L*L*Iy, 0, 0, 0, 6*L*Iy, 0, 2*L*L*Iy, 0],\n",
    "        [0, 6*L*Iz, 0, 0, 0, 4*L*L*Iz, 0, -6*L*Iz, 0, 0, 0, 2*L*L*Iz],\n",
    "        [-A*L*L, 0, 0, 0, 0, 0, A*L*L, 0, 0, 0, 0, 0],\n",
    "        [0, -12*Iz, 0, 0, 0, -6*L*Iz, 0, 12*Iz, 0, 0, 0, -6*L*Iz],\n",
    "        [0, 0, -12*Iy, 0, 6*L*Iy, 0, 0, 0, 12*Iy, 0, 6*L*Iy, 0],\n",
    "        [0, 0, 0, -G*J*L*L/E, 0, 0, 0, 0, 0, G*J*L*L/E, 0, 0],\n",
    "        [0, 0, -6*L*Iy, 0, 2*L*L*Iy, 0, 0, 0, 6*L*Iy, 0, 4*L*L*Iy, 0],\n",
    "        [0, 6*L*Iz, 0, 0, 0, 2*L*L*Iz, 0, -6*L*Iz, 0, 0, 0, 4*L*L*Iz]])\n",
    "K"
   ]
  },
  {
   "cell_type": "code",
   "execution_count": null,
   "id": "67475b26",
   "metadata": {},
   "outputs": [],
   "source": [
    "dx, dy, dz, phi, theta, psi = var('Delta_x Delta_y Delta_z Delta_phi Delta_theta Delta_psi')"
   ]
  },
  {
   "cell_type": "code",
   "execution_count": null,
   "id": "cfe4cca8",
   "metadata": {},
   "outputs": [],
   "source": [
    "x = (1/2)*Matrix([[dx,dy,dz,phi,theta,psi,-dx,-dy,-dz,-phi,-theta,-psi]]).T\n",
    "x"
   ]
  },
  {
   "cell_type": "code",
   "execution_count": null,
   "id": "0e15cf6b",
   "metadata": {},
   "outputs": [],
   "source": [
    "v = K*x\n",
    "v.simplify()"
   ]
  },
  {
   "cell_type": "code",
   "execution_count": null,
   "id": "c7322451",
   "metadata": {},
   "outputs": [],
   "source": [
    "v = v.substitute({Iy:Iz})\n",
    "v.simplify_full()"
   ]
  },
  {
   "cell_type": "code",
   "execution_count": null,
   "id": "20766335",
   "metadata": {},
   "outputs": [],
   "source": [
    "x = Matrix([[dx/2,dy/2,dz/2,phi/2,theta/2,psi/2,-dx/2,-dy/2,-dz/2,-phi/2,-theta/2,-psi/2]]).T\n",
    "K*x"
   ]
  },
  {
   "cell_type": "code",
   "execution_count": null,
   "id": "125066b7",
   "metadata": {},
   "outputs": [],
   "source": [
    "x, y, z, a, b, c, d, e, f = var('x y z a b c d e f')"
   ]
  },
  {
   "cell_type": "code",
   "execution_count": null,
   "id": "f2efb953",
   "metadata": {},
   "outputs": [],
   "source": [
    "eq1 = x == a*y*z + b \n",
    "eq2 = y == c*x*z + d\n",
    "eq3 = z == e*y*x + f"
   ]
  },
  {
   "cell_type": "code",
   "execution_count": null,
   "id": "b47cd771",
   "metadata": {},
   "outputs": [],
   "source": [
    "solve([eq1, eq2, eq3], x, y, z)"
   ]
  },
  {
   "cell_type": "code",
   "execution_count": 1,
   "id": "671abe39",
   "metadata": {},
   "outputs": [],
   "source": [
    "%display latex\n",
    "wx, wy, wz, dt = var('omega_x omega_y omega_z dt')"
   ]
  },
  {
   "cell_type": "code",
   "execution_count": 2,
   "id": "bdd10c3c",
   "metadata": {},
   "outputs": [
    {
     "data": {
      "text/html": [
       "<html><script type=\"math/tex; mode=display\">\\newcommand{\\Bold}[1]{\\mathbf{#1}}\\left(\\begin{array}{rrrr}\n",
       "0 & \\frac{1}{2} \\, \\omega_{z} & -\\frac{1}{2} \\, \\omega_{x} & -\\frac{1}{2} \\, \\omega_{y} \\\\\n",
       "-\\frac{1}{2} \\, \\omega_{z} & 0 & -\\frac{1}{2} \\, \\omega_{y} & \\frac{1}{2} \\, \\omega_{x} \\\\\n",
       "\\frac{1}{2} \\, \\omega_{x} & \\frac{1}{2} \\, \\omega_{y} & 0 & \\frac{1}{2} \\, \\omega_{z} \\\\\n",
       "\\frac{1}{2} \\, \\omega_{y} & -\\frac{1}{2} \\, \\omega_{x} & -\\frac{1}{2} \\, \\omega_{z} & 0\n",
       "\\end{array}\\right)</script></html>"
      ],
      "text/latex": [
       "$$\\newcommand{\\Bold}[1]{\\mathbf{#1}}\\left(\\begin{array}{rrrr}\n",
       "0 & \\frac{1}{2} \\, \\omega_{z} & -\\frac{1}{2} \\, \\omega_{x} & -\\frac{1}{2} \\, \\omega_{y} \\\\\n",
       "-\\frac{1}{2} \\, \\omega_{z} & 0 & -\\frac{1}{2} \\, \\omega_{y} & \\frac{1}{2} \\, \\omega_{x} \\\\\n",
       "\\frac{1}{2} \\, \\omega_{x} & \\frac{1}{2} \\, \\omega_{y} & 0 & \\frac{1}{2} \\, \\omega_{z} \\\\\n",
       "\\frac{1}{2} \\, \\omega_{y} & -\\frac{1}{2} \\, \\omega_{x} & -\\frac{1}{2} \\, \\omega_{z} & 0\n",
       "\\end{array}\\right)$$"
      ],
      "text/plain": [
       "[           0  1/2*omega_z -1/2*omega_x -1/2*omega_y]\n",
       "[-1/2*omega_z            0 -1/2*omega_y  1/2*omega_x]\n",
       "[ 1/2*omega_x  1/2*omega_y            0  1/2*omega_z]\n",
       "[ 1/2*omega_y -1/2*omega_x -1/2*omega_z            0]"
      ]
     },
     "execution_count": 2,
     "metadata": {},
     "output_type": "execute_result"
    }
   ],
   "source": [
    "Q = (1/2)*matrix([[0, wz, -wx, -wy],\n",
    "            [-wz, 0, -wy, wx],\n",
    "            [wx, wy, 0, wz],\n",
    "            [wy, -wx, -wz, 0]])\n",
    "Q"
   ]
  },
  {
   "cell_type": "code",
   "execution_count": 3,
   "id": "b2fc6cc5",
   "metadata": {},
   "outputs": [
    {
     "data": {
      "text/html": [
       "<html><script type=\"math/tex; mode=display\">\\newcommand{\\Bold}[1]{\\mathbf{#1}}\\left(\\begin{array}{rrrr}\n",
       "1 & 0 & 0 & 0 \\\\\n",
       "0 & 1 & 0 & 0 \\\\\n",
       "0 & 0 & 1 & 0 \\\\\n",
       "0 & 0 & 0 & 1\n",
       "\\end{array}\\right)</script></html>"
      ],
      "text/latex": [
       "$$\\newcommand{\\Bold}[1]{\\mathbf{#1}}\\left(\\begin{array}{rrrr}\n",
       "1 & 0 & 0 & 0 \\\\\n",
       "0 & 1 & 0 & 0 \\\\\n",
       "0 & 0 & 1 & 0 \\\\\n",
       "0 & 0 & 0 & 1\n",
       "\\end{array}\\right)$$"
      ],
      "text/plain": [
       "[1 0 0 0]\n",
       "[0 1 0 0]\n",
       "[0 0 1 0]\n",
       "[0 0 0 1]"
      ]
     },
     "execution_count": 3,
     "metadata": {},
     "output_type": "execute_result"
    }
   ],
   "source": [
    "I = matrix.identity(4)\n",
    "I"
   ]
  },
  {
   "cell_type": "code",
   "execution_count": 4,
   "id": "b1d39ce1",
   "metadata": {},
   "outputs": [
    {
     "data": {
      "text/html": [
       "<html><script type=\"math/tex; mode=display\">\\newcommand{\\Bold}[1]{\\mathbf{#1}}\\left(\\begin{array}{rrrr}\n",
       "\\frac{16}{\\mathit{dt}^{2} \\omega_{x}^{2} + \\mathit{dt}^{2} \\omega_{y}^{2} + \\mathit{dt}^{2} \\omega_{z}^{2} + 16} & \\frac{4 \\, \\mathit{dt} \\omega_{z}}{\\mathit{dt}^{2} \\omega_{x}^{2} + \\mathit{dt}^{2} \\omega_{y}^{2} + \\mathit{dt}^{2} \\omega_{z}^{2} + 16} & -\\frac{4 \\, \\mathit{dt} \\omega_{x}}{\\mathit{dt}^{2} \\omega_{x}^{2} + \\mathit{dt}^{2} \\omega_{y}^{2} + \\mathit{dt}^{2} \\omega_{z}^{2} + 16} & -\\frac{4 \\, \\mathit{dt} \\omega_{y}}{\\mathit{dt}^{2} \\omega_{x}^{2} + \\mathit{dt}^{2} \\omega_{y}^{2} + \\mathit{dt}^{2} \\omega_{z}^{2} + 16} \\\\\n",
       "-\\frac{4 \\, \\mathit{dt} \\omega_{z}}{\\mathit{dt}^{2} \\omega_{x}^{2} + \\mathit{dt}^{2} \\omega_{y}^{2} + \\mathit{dt}^{2} \\omega_{z}^{2} + 16} & \\frac{16}{\\mathit{dt}^{2} \\omega_{x}^{2} + \\mathit{dt}^{2} \\omega_{y}^{2} + \\mathit{dt}^{2} \\omega_{z}^{2} + 16} & -\\frac{4 \\, \\mathit{dt} \\omega_{y}}{\\mathit{dt}^{2} \\omega_{x}^{2} + \\mathit{dt}^{2} \\omega_{y}^{2} + \\mathit{dt}^{2} \\omega_{z}^{2} + 16} & \\frac{4 \\, \\mathit{dt} \\omega_{x}}{\\mathit{dt}^{2} \\omega_{x}^{2} + \\mathit{dt}^{2} \\omega_{y}^{2} + \\mathit{dt}^{2} \\omega_{z}^{2} + 16} \\\\\n",
       "\\frac{4 \\, \\mathit{dt} \\omega_{x}}{\\mathit{dt}^{2} \\omega_{x}^{2} + \\mathit{dt}^{2} \\omega_{y}^{2} + \\mathit{dt}^{2} \\omega_{z}^{2} + 16} & \\frac{4 \\, \\mathit{dt} \\omega_{y}}{\\mathit{dt}^{2} \\omega_{x}^{2} + \\mathit{dt}^{2} \\omega_{y}^{2} + \\mathit{dt}^{2} \\omega_{z}^{2} + 16} & \\frac{16}{\\mathit{dt}^{2} \\omega_{x}^{2} + \\mathit{dt}^{2} \\omega_{y}^{2} + \\mathit{dt}^{2} \\omega_{z}^{2} + 16} & \\frac{4 \\, \\mathit{dt} \\omega_{z}}{\\mathit{dt}^{2} \\omega_{x}^{2} + \\mathit{dt}^{2} \\omega_{y}^{2} + \\mathit{dt}^{2} \\omega_{z}^{2} + 16} \\\\\n",
       "\\frac{4 \\, \\mathit{dt} \\omega_{y}}{\\mathit{dt}^{2} \\omega_{x}^{2} + \\mathit{dt}^{2} \\omega_{y}^{2} + \\mathit{dt}^{2} \\omega_{z}^{2} + 16} & -\\frac{4 \\, \\mathit{dt} \\omega_{x}}{\\mathit{dt}^{2} \\omega_{x}^{2} + \\mathit{dt}^{2} \\omega_{y}^{2} + \\mathit{dt}^{2} \\omega_{z}^{2} + 16} & -\\frac{4 \\, \\mathit{dt} \\omega_{z}}{\\mathit{dt}^{2} \\omega_{x}^{2} + \\mathit{dt}^{2} \\omega_{y}^{2} + \\mathit{dt}^{2} \\omega_{z}^{2} + 16} & \\frac{16}{\\mathit{dt}^{2} \\omega_{x}^{2} + \\mathit{dt}^{2} \\omega_{y}^{2} + \\mathit{dt}^{2} \\omega_{z}^{2} + 16}\n",
       "\\end{array}\\right)</script></html>"
      ],
      "text/latex": [
       "$$\\newcommand{\\Bold}[1]{\\mathbf{#1}}\\left(\\begin{array}{rrrr}\n",
       "\\frac{16}{\\mathit{dt}^{2} \\omega_{x}^{2} + \\mathit{dt}^{2} \\omega_{y}^{2} + \\mathit{dt}^{2} \\omega_{z}^{2} + 16} & \\frac{4 \\, \\mathit{dt} \\omega_{z}}{\\mathit{dt}^{2} \\omega_{x}^{2} + \\mathit{dt}^{2} \\omega_{y}^{2} + \\mathit{dt}^{2} \\omega_{z}^{2} + 16} & -\\frac{4 \\, \\mathit{dt} \\omega_{x}}{\\mathit{dt}^{2} \\omega_{x}^{2} + \\mathit{dt}^{2} \\omega_{y}^{2} + \\mathit{dt}^{2} \\omega_{z}^{2} + 16} & -\\frac{4 \\, \\mathit{dt} \\omega_{y}}{\\mathit{dt}^{2} \\omega_{x}^{2} + \\mathit{dt}^{2} \\omega_{y}^{2} + \\mathit{dt}^{2} \\omega_{z}^{2} + 16} \\\\\n",
       "-\\frac{4 \\, \\mathit{dt} \\omega_{z}}{\\mathit{dt}^{2} \\omega_{x}^{2} + \\mathit{dt}^{2} \\omega_{y}^{2} + \\mathit{dt}^{2} \\omega_{z}^{2} + 16} & \\frac{16}{\\mathit{dt}^{2} \\omega_{x}^{2} + \\mathit{dt}^{2} \\omega_{y}^{2} + \\mathit{dt}^{2} \\omega_{z}^{2} + 16} & -\\frac{4 \\, \\mathit{dt} \\omega_{y}}{\\mathit{dt}^{2} \\omega_{x}^{2} + \\mathit{dt}^{2} \\omega_{y}^{2} + \\mathit{dt}^{2} \\omega_{z}^{2} + 16} & \\frac{4 \\, \\mathit{dt} \\omega_{x}}{\\mathit{dt}^{2} \\omega_{x}^{2} + \\mathit{dt}^{2} \\omega_{y}^{2} + \\mathit{dt}^{2} \\omega_{z}^{2} + 16} \\\\\n",
       "\\frac{4 \\, \\mathit{dt} \\omega_{x}}{\\mathit{dt}^{2} \\omega_{x}^{2} + \\mathit{dt}^{2} \\omega_{y}^{2} + \\mathit{dt}^{2} \\omega_{z}^{2} + 16} & \\frac{4 \\, \\mathit{dt} \\omega_{y}}{\\mathit{dt}^{2} \\omega_{x}^{2} + \\mathit{dt}^{2} \\omega_{y}^{2} + \\mathit{dt}^{2} \\omega_{z}^{2} + 16} & \\frac{16}{\\mathit{dt}^{2} \\omega_{x}^{2} + \\mathit{dt}^{2} \\omega_{y}^{2} + \\mathit{dt}^{2} \\omega_{z}^{2} + 16} & \\frac{4 \\, \\mathit{dt} \\omega_{z}}{\\mathit{dt}^{2} \\omega_{x}^{2} + \\mathit{dt}^{2} \\omega_{y}^{2} + \\mathit{dt}^{2} \\omega_{z}^{2} + 16} \\\\\n",
       "\\frac{4 \\, \\mathit{dt} \\omega_{y}}{\\mathit{dt}^{2} \\omega_{x}^{2} + \\mathit{dt}^{2} \\omega_{y}^{2} + \\mathit{dt}^{2} \\omega_{z}^{2} + 16} & -\\frac{4 \\, \\mathit{dt} \\omega_{x}}{\\mathit{dt}^{2} \\omega_{x}^{2} + \\mathit{dt}^{2} \\omega_{y}^{2} + \\mathit{dt}^{2} \\omega_{z}^{2} + 16} & -\\frac{4 \\, \\mathit{dt} \\omega_{z}}{\\mathit{dt}^{2} \\omega_{x}^{2} + \\mathit{dt}^{2} \\omega_{y}^{2} + \\mathit{dt}^{2} \\omega_{z}^{2} + 16} & \\frac{16}{\\mathit{dt}^{2} \\omega_{x}^{2} + \\mathit{dt}^{2} \\omega_{y}^{2} + \\mathit{dt}^{2} \\omega_{z}^{2} + 16}\n",
       "\\end{array}\\right)$$"
      ],
      "text/plain": [
       "[           16/(dt^2*omega_x^2 + dt^2*omega_y^2 + dt^2*omega_z^2 + 16)  4*dt*omega_z/(dt^2*omega_x^2 + dt^2*omega_y^2 + dt^2*omega_z^2 + 16) -4*dt*omega_x/(dt^2*omega_x^2 + dt^2*omega_y^2 + dt^2*omega_z^2 + 16) -4*dt*omega_y/(dt^2*omega_x^2 + dt^2*omega_y^2 + dt^2*omega_z^2 + 16)]\n",
       "[-4*dt*omega_z/(dt^2*omega_x^2 + dt^2*omega_y^2 + dt^2*omega_z^2 + 16)            16/(dt^2*omega_x^2 + dt^2*omega_y^2 + dt^2*omega_z^2 + 16) -4*dt*omega_y/(dt^2*omega_x^2 + dt^2*omega_y^2 + dt^2*omega_z^2 + 16)  4*dt*omega_x/(dt^2*omega_x^2 + dt^2*omega_y^2 + dt^2*omega_z^2 + 16)]\n",
       "[ 4*dt*omega_x/(dt^2*omega_x^2 + dt^2*omega_y^2 + dt^2*omega_z^2 + 16)  4*dt*omega_y/(dt^2*omega_x^2 + dt^2*omega_y^2 + dt^2*omega_z^2 + 16)            16/(dt^2*omega_x^2 + dt^2*omega_y^2 + dt^2*omega_z^2 + 16)  4*dt*omega_z/(dt^2*omega_x^2 + dt^2*omega_y^2 + dt^2*omega_z^2 + 16)]\n",
       "[ 4*dt*omega_y/(dt^2*omega_x^2 + dt^2*omega_y^2 + dt^2*omega_z^2 + 16) -4*dt*omega_x/(dt^2*omega_x^2 + dt^2*omega_y^2 + dt^2*omega_z^2 + 16) -4*dt*omega_z/(dt^2*omega_x^2 + dt^2*omega_y^2 + dt^2*omega_z^2 + 16)            16/(dt^2*omega_x^2 + dt^2*omega_y^2 + dt^2*omega_z^2 + 16)]"
      ]
     },
     "execution_count": 4,
     "metadata": {},
     "output_type": "execute_result"
    }
   ],
   "source": [
    "H1 = (I-(dt/2)*Q).inverse()\n",
    "H1 = H1.simplify_full()\n",
    "H1"
   ]
  },
  {
   "cell_type": "code",
   "execution_count": 5,
   "id": "af51d342",
   "metadata": {},
   "outputs": [
    {
     "data": {
      "text/html": [
       "<html><script type=\"math/tex; mode=display\">\\newcommand{\\Bold}[1]{\\mathbf{#1}}\\left(\\begin{array}{rrrr}\n",
       "1 & \\frac{1}{4} \\, \\mathit{dt} \\omega_{z} & -\\frac{1}{4} \\, \\mathit{dt} \\omega_{x} & -\\frac{1}{4} \\, \\mathit{dt} \\omega_{y} \\\\\n",
       "-\\frac{1}{4} \\, \\mathit{dt} \\omega_{z} & 1 & -\\frac{1}{4} \\, \\mathit{dt} \\omega_{y} & \\frac{1}{4} \\, \\mathit{dt} \\omega_{x} \\\\\n",
       "\\frac{1}{4} \\, \\mathit{dt} \\omega_{x} & \\frac{1}{4} \\, \\mathit{dt} \\omega_{y} & 1 & \\frac{1}{4} \\, \\mathit{dt} \\omega_{z} \\\\\n",
       "\\frac{1}{4} \\, \\mathit{dt} \\omega_{y} & -\\frac{1}{4} \\, \\mathit{dt} \\omega_{x} & -\\frac{1}{4} \\, \\mathit{dt} \\omega_{z} & 1\n",
       "\\end{array}\\right)</script></html>"
      ],
      "text/latex": [
       "$$\\newcommand{\\Bold}[1]{\\mathbf{#1}}\\left(\\begin{array}{rrrr}\n",
       "1 & \\frac{1}{4} \\, \\mathit{dt} \\omega_{z} & -\\frac{1}{4} \\, \\mathit{dt} \\omega_{x} & -\\frac{1}{4} \\, \\mathit{dt} \\omega_{y} \\\\\n",
       "-\\frac{1}{4} \\, \\mathit{dt} \\omega_{z} & 1 & -\\frac{1}{4} \\, \\mathit{dt} \\omega_{y} & \\frac{1}{4} \\, \\mathit{dt} \\omega_{x} \\\\\n",
       "\\frac{1}{4} \\, \\mathit{dt} \\omega_{x} & \\frac{1}{4} \\, \\mathit{dt} \\omega_{y} & 1 & \\frac{1}{4} \\, \\mathit{dt} \\omega_{z} \\\\\n",
       "\\frac{1}{4} \\, \\mathit{dt} \\omega_{y} & -\\frac{1}{4} \\, \\mathit{dt} \\omega_{x} & -\\frac{1}{4} \\, \\mathit{dt} \\omega_{z} & 1\n",
       "\\end{array}\\right)$$"
      ],
      "text/plain": [
       "[              1  1/4*dt*omega_z -1/4*dt*omega_x -1/4*dt*omega_y]\n",
       "[-1/4*dt*omega_z               1 -1/4*dt*omega_y  1/4*dt*omega_x]\n",
       "[ 1/4*dt*omega_x  1/4*dt*omega_y               1  1/4*dt*omega_z]\n",
       "[ 1/4*dt*omega_y -1/4*dt*omega_x -1/4*dt*omega_z               1]"
      ]
     },
     "execution_count": 5,
     "metadata": {},
     "output_type": "execute_result"
    }
   ],
   "source": [
    "H2 = (I+(dt/2)*Q)\n",
    "H2 = H2.simplify_full()\n",
    "H2"
   ]
  },
  {
   "cell_type": "code",
   "execution_count": 6,
   "id": "3b0582fa",
   "metadata": {},
   "outputs": [
    {
     "data": {
      "text/html": [
       "<html><script type=\"math/tex; mode=display\">\\newcommand{\\Bold}[1]{\\mathbf{#1}}\\left(\\begin{array}{rrrr}\n",
       "-\\frac{\\mathit{dt}^{2} \\omega_{x}^{2} + \\mathit{dt}^{2} \\omega_{y}^{2} + \\mathit{dt}^{2} \\omega_{z}^{2} - 16}{\\mathit{dt}^{2} \\omega_{x}^{2} + \\mathit{dt}^{2} \\omega_{y}^{2} + \\mathit{dt}^{2} \\omega_{z}^{2} + 16} & \\frac{8 \\, \\mathit{dt} \\omega_{z}}{\\mathit{dt}^{2} \\omega_{x}^{2} + \\mathit{dt}^{2} \\omega_{y}^{2} + \\mathit{dt}^{2} \\omega_{z}^{2} + 16} & -\\frac{8 \\, \\mathit{dt} \\omega_{x}}{\\mathit{dt}^{2} \\omega_{x}^{2} + \\mathit{dt}^{2} \\omega_{y}^{2} + \\mathit{dt}^{2} \\omega_{z}^{2} + 16} & -\\frac{8 \\, \\mathit{dt} \\omega_{y}}{\\mathit{dt}^{2} \\omega_{x}^{2} + \\mathit{dt}^{2} \\omega_{y}^{2} + \\mathit{dt}^{2} \\omega_{z}^{2} + 16} \\\\\n",
       "-\\frac{8 \\, \\mathit{dt} \\omega_{z}}{\\mathit{dt}^{2} \\omega_{x}^{2} + \\mathit{dt}^{2} \\omega_{y}^{2} + \\mathit{dt}^{2} \\omega_{z}^{2} + 16} & -\\frac{\\mathit{dt}^{2} \\omega_{x}^{2} + \\mathit{dt}^{2} \\omega_{y}^{2} + \\mathit{dt}^{2} \\omega_{z}^{2} - 16}{\\mathit{dt}^{2} \\omega_{x}^{2} + \\mathit{dt}^{2} \\omega_{y}^{2} + \\mathit{dt}^{2} \\omega_{z}^{2} + 16} & -\\frac{8 \\, \\mathit{dt} \\omega_{y}}{\\mathit{dt}^{2} \\omega_{x}^{2} + \\mathit{dt}^{2} \\omega_{y}^{2} + \\mathit{dt}^{2} \\omega_{z}^{2} + 16} & \\frac{8 \\, \\mathit{dt} \\omega_{x}}{\\mathit{dt}^{2} \\omega_{x}^{2} + \\mathit{dt}^{2} \\omega_{y}^{2} + \\mathit{dt}^{2} \\omega_{z}^{2} + 16} \\\\\n",
       "\\frac{8 \\, \\mathit{dt} \\omega_{x}}{\\mathit{dt}^{2} \\omega_{x}^{2} + \\mathit{dt}^{2} \\omega_{y}^{2} + \\mathit{dt}^{2} \\omega_{z}^{2} + 16} & \\frac{8 \\, \\mathit{dt} \\omega_{y}}{\\mathit{dt}^{2} \\omega_{x}^{2} + \\mathit{dt}^{2} \\omega_{y}^{2} + \\mathit{dt}^{2} \\omega_{z}^{2} + 16} & -\\frac{\\mathit{dt}^{2} \\omega_{x}^{2} + \\mathit{dt}^{2} \\omega_{y}^{2} + \\mathit{dt}^{2} \\omega_{z}^{2} - 16}{\\mathit{dt}^{2} \\omega_{x}^{2} + \\mathit{dt}^{2} \\omega_{y}^{2} + \\mathit{dt}^{2} \\omega_{z}^{2} + 16} & \\frac{8 \\, \\mathit{dt} \\omega_{z}}{\\mathit{dt}^{2} \\omega_{x}^{2} + \\mathit{dt}^{2} \\omega_{y}^{2} + \\mathit{dt}^{2} \\omega_{z}^{2} + 16} \\\\\n",
       "\\frac{8 \\, \\mathit{dt} \\omega_{y}}{\\mathit{dt}^{2} \\omega_{x}^{2} + \\mathit{dt}^{2} \\omega_{y}^{2} + \\mathit{dt}^{2} \\omega_{z}^{2} + 16} & -\\frac{8 \\, \\mathit{dt} \\omega_{x}}{\\mathit{dt}^{2} \\omega_{x}^{2} + \\mathit{dt}^{2} \\omega_{y}^{2} + \\mathit{dt}^{2} \\omega_{z}^{2} + 16} & -\\frac{8 \\, \\mathit{dt} \\omega_{z}}{\\mathit{dt}^{2} \\omega_{x}^{2} + \\mathit{dt}^{2} \\omega_{y}^{2} + \\mathit{dt}^{2} \\omega_{z}^{2} + 16} & -\\frac{\\mathit{dt}^{2} \\omega_{x}^{2} + \\mathit{dt}^{2} \\omega_{y}^{2} + \\mathit{dt}^{2} \\omega_{z}^{2} - 16}{\\mathit{dt}^{2} \\omega_{x}^{2} + \\mathit{dt}^{2} \\omega_{y}^{2} + \\mathit{dt}^{2} \\omega_{z}^{2} + 16}\n",
       "\\end{array}\\right)</script></html>"
      ],
      "text/latex": [
       "$$\\newcommand{\\Bold}[1]{\\mathbf{#1}}\\left(\\begin{array}{rrrr}\n",
       "-\\frac{\\mathit{dt}^{2} \\omega_{x}^{2} + \\mathit{dt}^{2} \\omega_{y}^{2} + \\mathit{dt}^{2} \\omega_{z}^{2} - 16}{\\mathit{dt}^{2} \\omega_{x}^{2} + \\mathit{dt}^{2} \\omega_{y}^{2} + \\mathit{dt}^{2} \\omega_{z}^{2} + 16} & \\frac{8 \\, \\mathit{dt} \\omega_{z}}{\\mathit{dt}^{2} \\omega_{x}^{2} + \\mathit{dt}^{2} \\omega_{y}^{2} + \\mathit{dt}^{2} \\omega_{z}^{2} + 16} & -\\frac{8 \\, \\mathit{dt} \\omega_{x}}{\\mathit{dt}^{2} \\omega_{x}^{2} + \\mathit{dt}^{2} \\omega_{y}^{2} + \\mathit{dt}^{2} \\omega_{z}^{2} + 16} & -\\frac{8 \\, \\mathit{dt} \\omega_{y}}{\\mathit{dt}^{2} \\omega_{x}^{2} + \\mathit{dt}^{2} \\omega_{y}^{2} + \\mathit{dt}^{2} \\omega_{z}^{2} + 16} \\\\\n",
       "-\\frac{8 \\, \\mathit{dt} \\omega_{z}}{\\mathit{dt}^{2} \\omega_{x}^{2} + \\mathit{dt}^{2} \\omega_{y}^{2} + \\mathit{dt}^{2} \\omega_{z}^{2} + 16} & -\\frac{\\mathit{dt}^{2} \\omega_{x}^{2} + \\mathit{dt}^{2} \\omega_{y}^{2} + \\mathit{dt}^{2} \\omega_{z}^{2} - 16}{\\mathit{dt}^{2} \\omega_{x}^{2} + \\mathit{dt}^{2} \\omega_{y}^{2} + \\mathit{dt}^{2} \\omega_{z}^{2} + 16} & -\\frac{8 \\, \\mathit{dt} \\omega_{y}}{\\mathit{dt}^{2} \\omega_{x}^{2} + \\mathit{dt}^{2} \\omega_{y}^{2} + \\mathit{dt}^{2} \\omega_{z}^{2} + 16} & \\frac{8 \\, \\mathit{dt} \\omega_{x}}{\\mathit{dt}^{2} \\omega_{x}^{2} + \\mathit{dt}^{2} \\omega_{y}^{2} + \\mathit{dt}^{2} \\omega_{z}^{2} + 16} \\\\\n",
       "\\frac{8 \\, \\mathit{dt} \\omega_{x}}{\\mathit{dt}^{2} \\omega_{x}^{2} + \\mathit{dt}^{2} \\omega_{y}^{2} + \\mathit{dt}^{2} \\omega_{z}^{2} + 16} & \\frac{8 \\, \\mathit{dt} \\omega_{y}}{\\mathit{dt}^{2} \\omega_{x}^{2} + \\mathit{dt}^{2} \\omega_{y}^{2} + \\mathit{dt}^{2} \\omega_{z}^{2} + 16} & -\\frac{\\mathit{dt}^{2} \\omega_{x}^{2} + \\mathit{dt}^{2} \\omega_{y}^{2} + \\mathit{dt}^{2} \\omega_{z}^{2} - 16}{\\mathit{dt}^{2} \\omega_{x}^{2} + \\mathit{dt}^{2} \\omega_{y}^{2} + \\mathit{dt}^{2} \\omega_{z}^{2} + 16} & \\frac{8 \\, \\mathit{dt} \\omega_{z}}{\\mathit{dt}^{2} \\omega_{x}^{2} + \\mathit{dt}^{2} \\omega_{y}^{2} + \\mathit{dt}^{2} \\omega_{z}^{2} + 16} \\\\\n",
       "\\frac{8 \\, \\mathit{dt} \\omega_{y}}{\\mathit{dt}^{2} \\omega_{x}^{2} + \\mathit{dt}^{2} \\omega_{y}^{2} + \\mathit{dt}^{2} \\omega_{z}^{2} + 16} & -\\frac{8 \\, \\mathit{dt} \\omega_{x}}{\\mathit{dt}^{2} \\omega_{x}^{2} + \\mathit{dt}^{2} \\omega_{y}^{2} + \\mathit{dt}^{2} \\omega_{z}^{2} + 16} & -\\frac{8 \\, \\mathit{dt} \\omega_{z}}{\\mathit{dt}^{2} \\omega_{x}^{2} + \\mathit{dt}^{2} \\omega_{y}^{2} + \\mathit{dt}^{2} \\omega_{z}^{2} + 16} & -\\frac{\\mathit{dt}^{2} \\omega_{x}^{2} + \\mathit{dt}^{2} \\omega_{y}^{2} + \\mathit{dt}^{2} \\omega_{z}^{2} - 16}{\\mathit{dt}^{2} \\omega_{x}^{2} + \\mathit{dt}^{2} \\omega_{y}^{2} + \\mathit{dt}^{2} \\omega_{z}^{2} + 16}\n",
       "\\end{array}\\right)$$"
      ],
      "text/plain": [
       "[-(dt^2*omega_x^2 + dt^2*omega_y^2 + dt^2*omega_z^2 - 16)/(dt^2*omega_x^2 + dt^2*omega_y^2 + dt^2*omega_z^2 + 16)                                             8*dt*omega_z/(dt^2*omega_x^2 + dt^2*omega_y^2 + dt^2*omega_z^2 + 16)                                            -8*dt*omega_x/(dt^2*omega_x^2 + dt^2*omega_y^2 + dt^2*omega_z^2 + 16)                                            -8*dt*omega_y/(dt^2*omega_x^2 + dt^2*omega_y^2 + dt^2*omega_z^2 + 16)]\n",
       "[                                           -8*dt*omega_z/(dt^2*omega_x^2 + dt^2*omega_y^2 + dt^2*omega_z^2 + 16) -(dt^2*omega_x^2 + dt^2*omega_y^2 + dt^2*omega_z^2 - 16)/(dt^2*omega_x^2 + dt^2*omega_y^2 + dt^2*omega_z^2 + 16)                                            -8*dt*omega_y/(dt^2*omega_x^2 + dt^2*omega_y^2 + dt^2*omega_z^2 + 16)                                             8*dt*omega_x/(dt^2*omega_x^2 + dt^2*omega_y^2 + dt^2*omega_z^2 + 16)]\n",
       "[                                            8*dt*omega_x/(dt^2*omega_x^2 + dt^2*omega_y^2 + dt^2*omega_z^2 + 16)                                             8*dt*omega_y/(dt^2*omega_x^2 + dt^2*omega_y^2 + dt^2*omega_z^2 + 16) -(dt^2*omega_x^2 + dt^2*omega_y^2 + dt^2*omega_z^2 - 16)/(dt^2*omega_x^2 + dt^2*omega_y^2 + dt^2*omega_z^2 + 16)                                             8*dt*omega_z/(dt^2*omega_x^2 + dt^2*omega_y^2 + dt^2*omega_z^2 + 16)]\n",
       "[                                            8*dt*omega_y/(dt^2*omega_x^2 + dt^2*omega_y^2 + dt^2*omega_z^2 + 16)                                            -8*dt*omega_x/(dt^2*omega_x^2 + dt^2*omega_y^2 + dt^2*omega_z^2 + 16)                                            -8*dt*omega_z/(dt^2*omega_x^2 + dt^2*omega_y^2 + dt^2*omega_z^2 + 16) -(dt^2*omega_x^2 + dt^2*omega_y^2 + dt^2*omega_z^2 - 16)/(dt^2*omega_x^2 + dt^2*omega_y^2 + dt^2*omega_z^2 + 16)]"
      ]
     },
     "execution_count": 6,
     "metadata": {},
     "output_type": "execute_result"
    }
   ],
   "source": [
    "w = var('omega')\n",
    "H = H1*H2\n",
    "H = H.simplify_full()\n",
    "H"
   ]
  },
  {
   "cell_type": "code",
   "execution_count": 7,
   "id": "655feae3",
   "metadata": {},
   "outputs": [
    {
     "data": {
      "text/html": [
       "<html><script type=\"math/tex; mode=display\">\\newcommand{\\Bold}[1]{\\mathbf{#1}}\\left(\\begin{array}{rrrr}\n",
       "-\\frac{\\mathit{dt}^{2} \\omega^{2} - 16}{\\mathit{dt}^{2} \\omega^{2} + 16} & \\frac{8 \\, \\mathit{dt} \\omega_{z}}{\\mathit{dt}^{2} \\omega^{2} + 16} & -\\frac{8 \\, \\mathit{dt} \\omega_{x}}{\\mathit{dt}^{2} \\omega^{2} + 16} & -\\frac{8 \\, \\mathit{dt} \\omega_{y}}{\\mathit{dt}^{2} \\omega^{2} + 16} \\\\\n",
       "-\\frac{8 \\, \\mathit{dt} \\omega_{z}}{\\mathit{dt}^{2} \\omega^{2} + 16} & -\\frac{\\mathit{dt}^{2} \\omega^{2} - 16}{\\mathit{dt}^{2} \\omega^{2} + 16} & -\\frac{8 \\, \\mathit{dt} \\omega_{y}}{\\mathit{dt}^{2} \\omega^{2} + 16} & \\frac{8 \\, \\mathit{dt} \\omega_{x}}{\\mathit{dt}^{2} \\omega^{2} + 16} \\\\\n",
       "\\frac{8 \\, \\mathit{dt} \\omega_{x}}{\\mathit{dt}^{2} \\omega^{2} + 16} & \\frac{8 \\, \\mathit{dt} \\omega_{y}}{\\mathit{dt}^{2} \\omega^{2} + 16} & -\\frac{\\mathit{dt}^{2} \\omega^{2} - 16}{\\mathit{dt}^{2} \\omega^{2} + 16} & \\frac{8 \\, \\mathit{dt} \\omega_{z}}{\\mathit{dt}^{2} \\omega^{2} + 16} \\\\\n",
       "\\frac{8 \\, \\mathit{dt} \\omega_{y}}{\\mathit{dt}^{2} \\omega^{2} + 16} & -\\frac{8 \\, \\mathit{dt} \\omega_{x}}{\\mathit{dt}^{2} \\omega^{2} + 16} & -\\frac{8 \\, \\mathit{dt} \\omega_{z}}{\\mathit{dt}^{2} \\omega^{2} + 16} & -\\frac{\\mathit{dt}^{2} \\omega^{2} - 16}{\\mathit{dt}^{2} \\omega^{2} + 16}\n",
       "\\end{array}\\right)</script></html>"
      ],
      "text/latex": [
       "$$\\newcommand{\\Bold}[1]{\\mathbf{#1}}\\left(\\begin{array}{rrrr}\n",
       "-\\frac{\\mathit{dt}^{2} \\omega^{2} - 16}{\\mathit{dt}^{2} \\omega^{2} + 16} & \\frac{8 \\, \\mathit{dt} \\omega_{z}}{\\mathit{dt}^{2} \\omega^{2} + 16} & -\\frac{8 \\, \\mathit{dt} \\omega_{x}}{\\mathit{dt}^{2} \\omega^{2} + 16} & -\\frac{8 \\, \\mathit{dt} \\omega_{y}}{\\mathit{dt}^{2} \\omega^{2} + 16} \\\\\n",
       "-\\frac{8 \\, \\mathit{dt} \\omega_{z}}{\\mathit{dt}^{2} \\omega^{2} + 16} & -\\frac{\\mathit{dt}^{2} \\omega^{2} - 16}{\\mathit{dt}^{2} \\omega^{2} + 16} & -\\frac{8 \\, \\mathit{dt} \\omega_{y}}{\\mathit{dt}^{2} \\omega^{2} + 16} & \\frac{8 \\, \\mathit{dt} \\omega_{x}}{\\mathit{dt}^{2} \\omega^{2} + 16} \\\\\n",
       "\\frac{8 \\, \\mathit{dt} \\omega_{x}}{\\mathit{dt}^{2} \\omega^{2} + 16} & \\frac{8 \\, \\mathit{dt} \\omega_{y}}{\\mathit{dt}^{2} \\omega^{2} + 16} & -\\frac{\\mathit{dt}^{2} \\omega^{2} - 16}{\\mathit{dt}^{2} \\omega^{2} + 16} & \\frac{8 \\, \\mathit{dt} \\omega_{z}}{\\mathit{dt}^{2} \\omega^{2} + 16} \\\\\n",
       "\\frac{8 \\, \\mathit{dt} \\omega_{y}}{\\mathit{dt}^{2} \\omega^{2} + 16} & -\\frac{8 \\, \\mathit{dt} \\omega_{x}}{\\mathit{dt}^{2} \\omega^{2} + 16} & -\\frac{8 \\, \\mathit{dt} \\omega_{z}}{\\mathit{dt}^{2} \\omega^{2} + 16} & -\\frac{\\mathit{dt}^{2} \\omega^{2} - 16}{\\mathit{dt}^{2} \\omega^{2} + 16}\n",
       "\\end{array}\\right)$$"
      ],
      "text/plain": [
       "[-(dt^2*omega^2 - 16)/(dt^2*omega^2 + 16)         8*dt*omega_z/(dt^2*omega^2 + 16)        -8*dt*omega_x/(dt^2*omega^2 + 16)        -8*dt*omega_y/(dt^2*omega^2 + 16)]\n",
       "[       -8*dt*omega_z/(dt^2*omega^2 + 16) -(dt^2*omega^2 - 16)/(dt^2*omega^2 + 16)        -8*dt*omega_y/(dt^2*omega^2 + 16)         8*dt*omega_x/(dt^2*omega^2 + 16)]\n",
       "[        8*dt*omega_x/(dt^2*omega^2 + 16)         8*dt*omega_y/(dt^2*omega^2 + 16) -(dt^2*omega^2 - 16)/(dt^2*omega^2 + 16)         8*dt*omega_z/(dt^2*omega^2 + 16)]\n",
       "[        8*dt*omega_y/(dt^2*omega^2 + 16)        -8*dt*omega_x/(dt^2*omega^2 + 16)        -8*dt*omega_z/(dt^2*omega^2 + 16) -(dt^2*omega^2 - 16)/(dt^2*omega^2 + 16)]"
      ]
     },
     "execution_count": 7,
     "metadata": {},
     "output_type": "execute_result"
    }
   ],
   "source": [
    "import sympy\n",
    "H = sympy.sympify(H)\n",
    "H = SR(H.subs(dt**2*wx**2+dt**2*wy**2+dt**2*wz**2, dt**2*w**2))\n",
    "H"
   ]
  },
  {
   "cell_type": "code",
   "execution_count": 8,
   "id": "c5bbb2e0",
   "metadata": {},
   "outputs": [
    {
     "data": {
      "text/html": [
       "<html><script type=\"math/tex; mode=display\">\\newcommand{\\Bold}[1]{\\mathbf{#1}}\\left(\\begin{array}{rrrr}\n",
       "-\\frac{\\mathit{dt}^{2} \\omega^{2} - 16}{\\mathit{dt}^{2} \\omega^{2} + 16} & \\frac{8 \\, \\mathit{dt} \\omega_{z}}{\\mathit{dt}^{2} \\omega^{2} + 16} & -\\frac{8 \\, \\mathit{dt} \\omega_{x}}{\\mathit{dt}^{2} \\omega^{2} + 16} & -\\frac{8 \\, \\mathit{dt} \\omega_{y}}{\\mathit{dt}^{2} \\omega^{2} + 16} \\\\\n",
       "-\\frac{8 \\, \\mathit{dt} \\omega_{z}}{\\mathit{dt}^{2} \\omega^{2} + 16} & -\\frac{\\mathit{dt}^{2} \\omega^{2} - 16}{\\mathit{dt}^{2} \\omega^{2} + 16} & -\\frac{8 \\, \\mathit{dt} \\omega_{y}}{\\mathit{dt}^{2} \\omega^{2} + 16} & \\frac{8 \\, \\mathit{dt} \\omega_{x}}{\\mathit{dt}^{2} \\omega^{2} + 16} \\\\\n",
       "\\frac{8 \\, \\mathit{dt} \\omega_{x}}{\\mathit{dt}^{2} \\omega^{2} + 16} & \\frac{8 \\, \\mathit{dt} \\omega_{y}}{\\mathit{dt}^{2} \\omega^{2} + 16} & -\\frac{\\mathit{dt}^{2} \\omega^{2} - 16}{\\mathit{dt}^{2} \\omega^{2} + 16} & \\frac{8 \\, \\mathit{dt} \\omega_{z}}{\\mathit{dt}^{2} \\omega^{2} + 16} \\\\\n",
       "\\frac{8 \\, \\mathit{dt} \\omega_{y}}{\\mathit{dt}^{2} \\omega^{2} + 16} & -\\frac{8 \\, \\mathit{dt} \\omega_{x}}{\\mathit{dt}^{2} \\omega^{2} + 16} & -\\frac{8 \\, \\mathit{dt} \\omega_{z}}{\\mathit{dt}^{2} \\omega^{2} + 16} & -\\frac{\\mathit{dt}^{2} \\omega^{2} - 16}{\\mathit{dt}^{2} \\omega^{2} + 16}\n",
       "\\end{array}\\right)</script></html>"
      ],
      "text/latex": [
       "$$\\newcommand{\\Bold}[1]{\\mathbf{#1}}\\left(\\begin{array}{rrrr}\n",
       "-\\frac{\\mathit{dt}^{2} \\omega^{2} - 16}{\\mathit{dt}^{2} \\omega^{2} + 16} & \\frac{8 \\, \\mathit{dt} \\omega_{z}}{\\mathit{dt}^{2} \\omega^{2} + 16} & -\\frac{8 \\, \\mathit{dt} \\omega_{x}}{\\mathit{dt}^{2} \\omega^{2} + 16} & -\\frac{8 \\, \\mathit{dt} \\omega_{y}}{\\mathit{dt}^{2} \\omega^{2} + 16} \\\\\n",
       "-\\frac{8 \\, \\mathit{dt} \\omega_{z}}{\\mathit{dt}^{2} \\omega^{2} + 16} & -\\frac{\\mathit{dt}^{2} \\omega^{2} - 16}{\\mathit{dt}^{2} \\omega^{2} + 16} & -\\frac{8 \\, \\mathit{dt} \\omega_{y}}{\\mathit{dt}^{2} \\omega^{2} + 16} & \\frac{8 \\, \\mathit{dt} \\omega_{x}}{\\mathit{dt}^{2} \\omega^{2} + 16} \\\\\n",
       "\\frac{8 \\, \\mathit{dt} \\omega_{x}}{\\mathit{dt}^{2} \\omega^{2} + 16} & \\frac{8 \\, \\mathit{dt} \\omega_{y}}{\\mathit{dt}^{2} \\omega^{2} + 16} & -\\frac{\\mathit{dt}^{2} \\omega^{2} - 16}{\\mathit{dt}^{2} \\omega^{2} + 16} & \\frac{8 \\, \\mathit{dt} \\omega_{z}}{\\mathit{dt}^{2} \\omega^{2} + 16} \\\\\n",
       "\\frac{8 \\, \\mathit{dt} \\omega_{y}}{\\mathit{dt}^{2} \\omega^{2} + 16} & -\\frac{8 \\, \\mathit{dt} \\omega_{x}}{\\mathit{dt}^{2} \\omega^{2} + 16} & -\\frac{8 \\, \\mathit{dt} \\omega_{z}}{\\mathit{dt}^{2} \\omega^{2} + 16} & -\\frac{\\mathit{dt}^{2} \\omega^{2} - 16}{\\mathit{dt}^{2} \\omega^{2} + 16}\n",
       "\\end{array}\\right)$$"
      ],
      "text/plain": [
       "[-(dt^2*omega^2 - 16)/(dt^2*omega^2 + 16)         8*dt*omega_z/(dt^2*omega^2 + 16)        -8*dt*omega_x/(dt^2*omega^2 + 16)        -8*dt*omega_y/(dt^2*omega^2 + 16)]\n",
       "[       -8*dt*omega_z/(dt^2*omega^2 + 16) -(dt^2*omega^2 - 16)/(dt^2*omega^2 + 16)        -8*dt*omega_y/(dt^2*omega^2 + 16)         8*dt*omega_x/(dt^2*omega^2 + 16)]\n",
       "[        8*dt*omega_x/(dt^2*omega^2 + 16)         8*dt*omega_y/(dt^2*omega^2 + 16) -(dt^2*omega^2 - 16)/(dt^2*omega^2 + 16)         8*dt*omega_z/(dt^2*omega^2 + 16)]\n",
       "[        8*dt*omega_y/(dt^2*omega^2 + 16)        -8*dt*omega_x/(dt^2*omega^2 + 16)        -8*dt*omega_z/(dt^2*omega^2 + 16) -(dt^2*omega^2 - 16)/(dt^2*omega^2 + 16)]"
      ]
     },
     "execution_count": 8,
     "metadata": {},
     "output_type": "execute_result"
    }
   ],
   "source": [
    "G = Q*(dt/(1+dt**2*w**2/16))+((1-dt**2*w**2/16)/(1+dt**2*w**2/16))\n",
    "G"
   ]
  },
  {
   "cell_type": "code",
   "execution_count": 2,
   "id": "31112756",
   "metadata": {},
   "outputs": [],
   "source": [
    "%display latex\n",
    "rho, A, a, rx = var('rho A a r_x')"
   ]
  },
  {
   "cell_type": "code",
   "execution_count": 26,
   "id": "168c9ba4",
   "metadata": {},
   "outputs": [
    {
     "data": {
      "text/html": [
       "<html><script type=\"math/tex; mode=display\">\\newcommand{\\Bold}[1]{\\mathbf{#1}}\\left(\\begin{array}{rrrrrrrrrrrr}\n",
       "70 & 0 & 0 & 0 & 0 & 0 & 35 & 0 & 0 & 0 & 0 & 0 \\\\\n",
       "0 & 78 & 0 & 0 & 0 & 22 \\, a & 0 & 27 & 0 & 0 & 0 & -13 \\, a \\\\\n",
       "0 & 0 & 78 & 0 & -22 \\, a & 0 & 0 & 0 & 27 & 0 & 13 \\, a & 0 \\\\\n",
       "0 & 0 & 0 & 70 \\, r_{x}^{2} & 0 & 0 & 0 & 0 & 0 & -35 \\, r_{x}^{2} & 0 & 0 \\\\\n",
       "0 & 0 & -22 \\, a & 0 & 8 \\, a^{2} & 0 & 0 & 0 & -13 \\, a & 0 & -6 \\, a^{2} & 0 \\\\\n",
       "0 & 22 \\, a & 0 & 0 & 0 & 8 \\, a^{2} & 0 & 13 \\, a & 0 & 0 & 0 & -6 \\, a^{2} \\\\\n",
       "35 & 0 & 0 & 0 & 0 & 0 & 70 & 0 & 0 & 0 & 0 & 0 \\\\\n",
       "0 & 27 & 0 & 0 & 0 & 13 \\, a & 0 & 78 & 0 & 0 & 0 & -22 \\, a \\\\\n",
       "0 & 0 & 27 & 0 & -13 \\, a & 0 & 0 & 0 & 78 & 0 & 22 \\, a & 0 \\\\\n",
       "0 & 0 & 0 & -35 \\, r_{x}^{2} & 0 & 0 & 0 & 0 & 0 & 70 \\, r_{x}^{2} & 0 & 0 \\\\\n",
       "0 & 0 & 13 \\, a & 0 & -6 \\, a^{2} & 0 & 0 & 0 & 22 \\, a & 0 & 8 \\, a^{2} & 0 \\\\\n",
       "0 & -13 \\, a & 0 & 0 & 0 & -6 \\, a^{2} & 0 & -22 \\, a & 0 & 0 & 0 & 8 \\, a^{2}\n",
       "\\end{array}\\right)</script></html>"
      ],
      "text/latex": [
       "$$\\newcommand{\\Bold}[1]{\\mathbf{#1}}\\left(\\begin{array}{rrrrrrrrrrrr}\n",
       "70 & 0 & 0 & 0 & 0 & 0 & 35 & 0 & 0 & 0 & 0 & 0 \\\\\n",
       "0 & 78 & 0 & 0 & 0 & 22 \\, a & 0 & 27 & 0 & 0 & 0 & -13 \\, a \\\\\n",
       "0 & 0 & 78 & 0 & -22 \\, a & 0 & 0 & 0 & 27 & 0 & 13 \\, a & 0 \\\\\n",
       "0 & 0 & 0 & 70 \\, r_{x}^{2} & 0 & 0 & 0 & 0 & 0 & -35 \\, r_{x}^{2} & 0 & 0 \\\\\n",
       "0 & 0 & -22 \\, a & 0 & 8 \\, a^{2} & 0 & 0 & 0 & -13 \\, a & 0 & -6 \\, a^{2} & 0 \\\\\n",
       "0 & 22 \\, a & 0 & 0 & 0 & 8 \\, a^{2} & 0 & 13 \\, a & 0 & 0 & 0 & -6 \\, a^{2} \\\\\n",
       "35 & 0 & 0 & 0 & 0 & 0 & 70 & 0 & 0 & 0 & 0 & 0 \\\\\n",
       "0 & 27 & 0 & 0 & 0 & 13 \\, a & 0 & 78 & 0 & 0 & 0 & -22 \\, a \\\\\n",
       "0 & 0 & 27 & 0 & -13 \\, a & 0 & 0 & 0 & 78 & 0 & 22 \\, a & 0 \\\\\n",
       "0 & 0 & 0 & -35 \\, r_{x}^{2} & 0 & 0 & 0 & 0 & 0 & 70 \\, r_{x}^{2} & 0 & 0 \\\\\n",
       "0 & 0 & 13 \\, a & 0 & -6 \\, a^{2} & 0 & 0 & 0 & 22 \\, a & 0 & 8 \\, a^{2} & 0 \\\\\n",
       "0 & -13 \\, a & 0 & 0 & 0 & -6 \\, a^{2} & 0 & -22 \\, a & 0 & 0 & 0 & 8 \\, a^{2}\n",
       "\\end{array}\\right)$$"
      ],
      "text/plain": [
       "[       70         0         0         0         0         0        35         0         0         0         0         0]\n",
       "[        0        78         0         0         0      22*a         0        27         0         0         0     -13*a]\n",
       "[        0         0        78         0     -22*a         0         0         0        27         0      13*a         0]\n",
       "[        0         0         0  70*r_x^2         0         0         0         0         0 -35*r_x^2         0         0]\n",
       "[        0         0     -22*a         0     8*a^2         0         0         0     -13*a         0    -6*a^2         0]\n",
       "[        0      22*a         0         0         0     8*a^2         0      13*a         0         0         0    -6*a^2]\n",
       "[       35         0         0         0         0         0        70         0         0         0         0         0]\n",
       "[        0        27         0         0         0      13*a         0        78         0         0         0     -22*a]\n",
       "[        0         0        27         0     -13*a         0         0         0        78         0      22*a         0]\n",
       "[        0         0         0 -35*r_x^2         0         0         0         0         0  70*r_x^2         0         0]\n",
       "[        0         0      13*a         0    -6*a^2         0         0         0      22*a         0     8*a^2         0]\n",
       "[        0     -13*a         0         0         0    -6*a^2         0     -22*a         0         0         0     8*a^2]"
      ]
     },
     "execution_count": 26,
     "metadata": {},
     "output_type": "execute_result"
    }
   ],
   "source": [
    "M = matrix([\n",
    "    [70, 0, 0, 0, 0, 0, 35, 0, 0, 0, 0, 0],\n",
    "    [0, 78, 0, 0, 0, 22*a, 0, 27, 0, 0, 0, -13*a],\n",
    "    [0, 0, 78, 0, -22*a, 0, 0, 0, 27, 0, 13*a, 0],\n",
    "    [0, 0, 0, 70*rx*rx, 0, 0, 0, 0, 0, -35*rx*rx, 0, 0],\n",
    "    [0, 0, -22*a, 0, 8*a*a, 0, 0, 0, -13*a, 0, -6*a*a, 0],\n",
    "    [0, 22*a, 0, 0, 0, 8*a*a, 0, 13*a, 0, 0, 0, -6*a*a],\n",
    "    [35, 0, 0, 0, 0, 0, 70, 0, 0, 0, 0, 0],\n",
    "    [0, 27, 0, 0, 0, 13*a, 0, 78, 0, 0, 0, -22*a],\n",
    "    [0, 0, 27, 0, -13*a, 0, 0, 0, 78, 0, 22*a, 0],\n",
    "    [0, 0, 0, -35*rx*rx, 0, 0, 0, 0, 0, 70*rx*rx, 0, 0],\n",
    "    [0, 0, 13*a, 0, -6*a*a, 0, 0, 0, 22*a, 0, 8*a*a, 0],\n",
    "    [0, -13*a, 0, 0, 0, -6*a*a, 0, -22*a, 0, 0, 0, 8*a*a]])\n",
    "M"
   ]
  },
  {
   "cell_type": "code",
   "execution_count": 27,
   "id": "e4f50e92",
   "metadata": {},
   "outputs": [
    {
     "data": {
      "text/html": [
       "<html><script type=\"math/tex; mode=display\">\\newcommand{\\Bold}[1]{\\mathbf{#1}}\\left(\\begin{array}{rrrrrrrrrrrr}\n",
       "0 & 0 & 0 & 0 & 0 & 0 & 0 & 0 & 0 & 0 & 0 & 0 \\\\\n",
       "0 & 0 & 0 & 0 & 0 & 0 & 0 & 0 & 0 & 0 & 0 & 0 \\\\\n",
       "0 & 0 & 0 & 0 & 0 & 0 & 0 & 0 & 0 & 0 & 0 & 0 \\\\\n",
       "0 & 0 & 0 & 0 & 0 & 0 & 0 & 0 & 0 & 0 & 0 & 0 \\\\\n",
       "0 & 0 & 0 & 0 & 0 & 0 & 0 & 0 & 0 & 0 & 0 & 0 \\\\\n",
       "0 & 0 & 0 & 0 & 0 & 0 & 0 & 0 & 0 & 0 & 0 & 0 \\\\\n",
       "0 & 0 & 0 & 0 & 0 & 0 & 0 & 0 & 0 & 0 & 0 & 0 \\\\\n",
       "0 & 0 & 0 & 0 & 0 & 0 & 0 & 0 & 0 & 0 & 0 & 0 \\\\\n",
       "0 & 0 & 0 & 0 & 0 & 0 & 0 & 0 & 0 & 0 & 0 & 0 \\\\\n",
       "0 & 0 & 0 & 0 & 0 & 0 & 0 & 0 & 0 & 0 & 0 & 0 \\\\\n",
       "0 & 0 & 0 & 0 & 0 & 0 & 0 & 0 & 0 & 0 & 0 & 0 \\\\\n",
       "0 & 0 & 0 & 0 & 0 & 0 & 0 & 0 & 0 & 0 & 0 & 0\n",
       "\\end{array}\\right)</script></html>"
      ],
      "text/latex": [
       "$$\\newcommand{\\Bold}[1]{\\mathbf{#1}}\\left(\\begin{array}{rrrrrrrrrrrr}\n",
       "0 & 0 & 0 & 0 & 0 & 0 & 0 & 0 & 0 & 0 & 0 & 0 \\\\\n",
       "0 & 0 & 0 & 0 & 0 & 0 & 0 & 0 & 0 & 0 & 0 & 0 \\\\\n",
       "0 & 0 & 0 & 0 & 0 & 0 & 0 & 0 & 0 & 0 & 0 & 0 \\\\\n",
       "0 & 0 & 0 & 0 & 0 & 0 & 0 & 0 & 0 & 0 & 0 & 0 \\\\\n",
       "0 & 0 & 0 & 0 & 0 & 0 & 0 & 0 & 0 & 0 & 0 & 0 \\\\\n",
       "0 & 0 & 0 & 0 & 0 & 0 & 0 & 0 & 0 & 0 & 0 & 0 \\\\\n",
       "0 & 0 & 0 & 0 & 0 & 0 & 0 & 0 & 0 & 0 & 0 & 0 \\\\\n",
       "0 & 0 & 0 & 0 & 0 & 0 & 0 & 0 & 0 & 0 & 0 & 0 \\\\\n",
       "0 & 0 & 0 & 0 & 0 & 0 & 0 & 0 & 0 & 0 & 0 & 0 \\\\\n",
       "0 & 0 & 0 & 0 & 0 & 0 & 0 & 0 & 0 & 0 & 0 & 0 \\\\\n",
       "0 & 0 & 0 & 0 & 0 & 0 & 0 & 0 & 0 & 0 & 0 & 0 \\\\\n",
       "0 & 0 & 0 & 0 & 0 & 0 & 0 & 0 & 0 & 0 & 0 & 0\n",
       "\\end{array}\\right)$$"
      ],
      "text/plain": [
       "[0 0 0 0 0 0 0 0 0 0 0 0]\n",
       "[0 0 0 0 0 0 0 0 0 0 0 0]\n",
       "[0 0 0 0 0 0 0 0 0 0 0 0]\n",
       "[0 0 0 0 0 0 0 0 0 0 0 0]\n",
       "[0 0 0 0 0 0 0 0 0 0 0 0]\n",
       "[0 0 0 0 0 0 0 0 0 0 0 0]\n",
       "[0 0 0 0 0 0 0 0 0 0 0 0]\n",
       "[0 0 0 0 0 0 0 0 0 0 0 0]\n",
       "[0 0 0 0 0 0 0 0 0 0 0 0]\n",
       "[0 0 0 0 0 0 0 0 0 0 0 0]\n",
       "[0 0 0 0 0 0 0 0 0 0 0 0]\n",
       "[0 0 0 0 0 0 0 0 0 0 0 0]"
      ]
     },
     "execution_count": 27,
     "metadata": {},
     "output_type": "execute_result"
    }
   ],
   "source": []
  }
 ],
 "metadata": {
  "kernelspec": {
   "display_name": "SageMath 9.5",
   "language": "sage",
   "name": "sagemath"
  },
  "language_info": {
   "codemirror_mode": {
    "name": "ipython",
    "version": 3
   },
   "file_extension": ".py",
   "mimetype": "text/x-python",
   "name": "python",
   "nbconvert_exporter": "python",
   "pygments_lexer": "ipython3",
   "version": "3.10.6"
  }
 },
 "nbformat": 4,
 "nbformat_minor": 5
}
