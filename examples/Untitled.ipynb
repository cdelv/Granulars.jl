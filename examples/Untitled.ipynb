{
 "cells": [
  {
   "cell_type": "code",
   "execution_count": null,
   "id": "b81468ea",
   "metadata": {},
   "outputs": [],
   "source": [
    "using Roots\n",
    "using StaticArrays\n",
    "using BenchmarkTools\n",
    "using ReferenceFrameRotations\n",
    "using LinearAlgebra"
   ]
  },
  {
   "cell_type": "code",
   "execution_count": null,
   "id": "f4477068",
   "metadata": {},
   "outputs": [],
   "source": [
    "v = SVector(1.0, 0.0, 0.0)\n",
    "w = SVector(1.0, 1.0, 0.0)"
   ]
  },
  {
   "cell_type": "code",
   "execution_count": 1,
   "id": "d86e8fe4",
   "metadata": {},
   "outputs": [],
   "source": [
    "include(\"../src/Granulars.jl\")"
   ]
  },
  {
   "cell_type": "code",
   "execution_count": 2,
   "id": "bc4e254b",
   "metadata": {},
   "outputs": [
    {
     "name": "stdout",
     "output_type": "stream",
     "text": [
      "UNIT CELL CHECK FAILED: distance between cell planes too small relative to cutoff.\n"
     ]
    },
    {
     "ename": "LoadError",
     "evalue": "ArgumentError:  Unit cell matrix does not satisfy required conditions.",
     "output_type": "error",
     "traceback": [
      "ArgumentError:  Unit cell matrix does not satisfy required conditions.",
      "",
      "Stacktrace:",
      " [1] _construct_box(input_unit_cell::CellListMap.UnitCell{NonPeriodicCell, 3, Float64, 9}, lcell::Int64, cutoff::Float64)",
      "   @ CellListMap ~/.julia/packages/CellListMap/y47N4/src/Box.jl:215",
      " [2] update_box(box::Box{NonPeriodicCell, 3, Float64, Float64, 9, Float64}; unitcell::CellListMap.Limits{3, Float64}, cutoff::Nothing, lcell::Nothing)",
      "   @ CellListMap ~/.julia/packages/CellListMap/y47N4/src/Box.jl:411",
      " [3] update!(system::InPlaceNeighborList{Box{NonPeriodicCell, 3, Float64, Float64, 9, Float64}, CellList{3, Float64}, CellListMap.AuxThreaded{3, Float64}, CellListMap.NeighborList{Float64}}, x::Vector{Vector{Float64}}; cutoff::Nothing, unitcell::Nothing)",
      "   @ CellListMap ~/.julia/packages/CellListMap/y47N4/src/neighborlists.jl:257",
      " [4] update!(system::InPlaceNeighborList{Box{NonPeriodicCell, 3, Float64, Float64, 9, Float64}, CellList{3, Float64}, CellListMap.AuxThreaded{3, Float64}, CellListMap.NeighborList{Float64}}, x::Vector{Vector{Float64}})",
      "   @ CellListMap ~/.julia/packages/CellListMap/y47N4/src/neighborlists.jl:250",
      " [5] top-level scope",
      "   @ In[2]:8"
     ]
    }
   ],
   "source": [
    "r = [[7,10,10], [18,10,10]]\n",
    "system = InPlaceNeighborList(x=r, cutoff=3.0, parallel=false)\n",
    "list = neighborlist!(system)\n",
    "#r = [[10.896122729195861, 3.7089502878506746, 10.0], [13.894644759151461, 11.054332535414801, 10.0]]\n",
    "#update!(system, r)\n",
    "#list = neighborlist!(system)\n",
    "r = [[10.89658911843461, 3.709237933444153, 10.0], [13.894156281793144, 11.054172259416013, 10.0]]\n",
    "update!(system, r)"
   ]
  },
  {
   "cell_type": "code",
   "execution_count": null,
   "id": "92da707a",
   "metadata": {},
   "outputs": [],
   "source": []
  }
 ],
 "metadata": {
  "kernelspec": {
   "display_name": "Julia 1.8.5",
   "language": "julia",
   "name": "julia-1.8"
  },
  "language_info": {
   "file_extension": ".jl",
   "mimetype": "application/julia",
   "name": "julia",
   "version": "1.8.5"
  }
 },
 "nbformat": 4,
 "nbformat_minor": 5
}
