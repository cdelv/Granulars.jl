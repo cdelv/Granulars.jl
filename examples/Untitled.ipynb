{
 "cells": [
  {
   "cell_type": "code",
   "execution_count": 3,
   "id": "b81468ea",
   "metadata": {},
   "outputs": [],
   "source": [
    "using Roots\n",
    "using StaticArrays\n",
    "using BenchmarkTools\n",
    "using ReferenceFrameRotations\n",
    "using LinearAlgebra"
   ]
  },
  {
   "cell_type": "code",
   "execution_count": 14,
   "id": "7eb17264",
   "metadata": {},
   "outputs": [
    {
     "data": {
      "text/plain": [
       "3-element SVector{3, Float64} with indices SOneTo(3):\n",
       " 1.0\n",
       " 1.0\n",
       " 0.0"
      ]
     },
     "execution_count": 14,
     "metadata": {},
     "output_type": "execute_result"
    }
   ],
   "source": [
    "v = SVector(1.0, 0.0, 0.0)\n",
    "w = SVector(1.0, 1.0, 0.0)"
   ]
  },
  {
   "cell_type": "code",
   "execution_count": 15,
   "id": "27565776",
   "metadata": {},
   "outputs": [],
   "source": [
    "include(\"../src/Granulars.jl\")"
   ]
  },
  {
   "cell_type": "code",
   "execution_count": 16,
   "id": "7e949b6a",
   "metadata": {},
   "outputs": [
    {
     "data": {
      "text/plain": [
       "3-element SVector{3, Float64} with indices SOneTo(3):\n",
       " 0.0\n",
       " 0.0\n",
       " 1.0"
      ]
     },
     "execution_count": 16,
     "metadata": {},
     "output_type": "execute_result"
    }
   ],
   "source": [
    "a = angle(v,w)\n",
    "axis = cross(v,w)"
   ]
  },
  {
   "cell_type": "code",
   "execution_count": 28,
   "id": "d75c8f7e",
   "metadata": {},
   "outputs": [
    {
     "data": {
      "text/plain": [
       "Quaternion{Float64}:\n",
       "  + 0.92388 + 0.0⋅\u001b[1mi\u001b[0m + 0.0⋅\u001b[1mj\u001b[0m + 0.382683⋅\u001b[1mk\u001b[0m"
      ]
     },
     "execution_count": 28,
     "metadata": {},
     "output_type": "execute_result"
    }
   ],
   "source": [
    "R = EulerAngleAxis(a, unitary(axis))\n",
    "q = angleaxis_to_quat(R)"
   ]
  },
  {
   "cell_type": "code",
   "execution_count": 29,
   "id": "0e3f93a1",
   "metadata": {},
   "outputs": [
    {
     "data": {
      "text/plain": [
       "1.0"
      ]
     },
     "execution_count": 29,
     "metadata": {},
     "output_type": "execute_result"
    }
   ],
   "source": [
    "norm(q)"
   ]
  },
  {
   "cell_type": "code",
   "execution_count": 22,
   "id": "90b26f44",
   "metadata": {},
   "outputs": [
    {
     "data": {
      "text/plain": [
       "3-element SVector{3, Float64} with indices SOneTo(3):\n",
       " 1.0\n",
       " 0.0\n",
       " 0.0"
      ]
     },
     "execution_count": 22,
     "metadata": {},
     "output_type": "execute_result"
    }
   ],
   "source": [
    "Body_to_lab(v,q)"
   ]
  },
  {
   "cell_type": "code",
   "execution_count": 23,
   "id": "f88d6909",
   "metadata": {},
   "outputs": [
    {
     "data": {
      "text/plain": [
       "3-element SVector{3, Float64} with indices SOneTo(3):\n",
       " 1.0\n",
       " 0.0\n",
       " 0.0"
      ]
     },
     "execution_count": 23,
     "metadata": {},
     "output_type": "execute_result"
    }
   ],
   "source": [
    "Lab_to_body(v,q)"
   ]
  },
  {
   "cell_type": "code",
   "execution_count": 30,
   "id": "73d4db72",
   "metadata": {},
   "outputs": [
    {
     "data": {
      "text/plain": [
       "2-element Vector{Vector{Float64}}:\n",
       " [1.0, 1.0]\n",
       " [2.0, 2.0]"
      ]
     },
     "execution_count": 30,
     "metadata": {},
     "output_type": "execute_result"
    }
   ],
   "source": [
    "[[1.0,1.0],[2.0,2.0]]"
   ]
  }
 ],
 "metadata": {
  "kernelspec": {
   "display_name": "Julia 1.8.5",
   "language": "julia",
   "name": "julia-1.8"
  },
  "language_info": {
   "file_extension": ".jl",
   "mimetype": "application/julia",
   "name": "julia",
   "version": "1.8.5"
  }
 },
 "nbformat": 4,
 "nbformat_minor": 5
}
