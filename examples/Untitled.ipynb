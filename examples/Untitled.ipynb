{
 "cells": [
  {
   "cell_type": "code",
   "execution_count": 3,
   "id": "c1bc4b5d",
   "metadata": {},
   "outputs": [],
   "source": [
    "include(\"../src/Granulars.jl\")"
   ]
  },
  {
   "cell_type": "code",
   "execution_count": 79,
   "id": "6a623059",
   "metadata": {},
   "outputs": [
    {
     "name": "stdout",
     "output_type": "stream",
     "text": [
      "Normalizing quaternion of particle 1\n"
     ]
    },
    {
     "data": {
      "text/plain": [
       "1-element StructArray(::Vector{SVector{3, Float64}}, ::Vector{SVector{3, Float64}}, ::Vector{SVector{3, Float64}}, ::Vector{Quaternion{Float64}}, ::Vector{SVector{3, Float64}}, ::Vector{SVector{3, Float64}}, ::Vector{Float64}, ::Vector{SVector{3, Float64}}, ::Vector{Float64}) with eltype Particle:\n",
       " Particle([23.975330394498847, 0.9978743877196873, 10.0], [-0.00029128482912575655, -4.489956566603977e-14, 0.0], [8.22808488010196e-13, -6.856737400084967e-13, 0.0], Quaternion{Float64}: - 0.364041 + 0.812157⋅i + 0.0840736⋅j + 0.448115⋅k, [0.0, 0.0, -7.501536726942244], [0.0, 0.0, 8.219340020969661e-13], 1.0, [1.0, 1.0, 1.0], 1.0)"
      ]
     },
     "execution_count": 79,
     "metadata": {},
     "output_type": "execute_result"
    }
   ],
   "source": [
    "include(\"../src/Granulars.jl\")\n",
    "\n",
    "Lx = 25\n",
    "Ly = 25\n",
    "Lz = 25\n",
    "\n",
    "dt = 0.001\n",
    "\n",
    "# X coordinate walls\n",
    "W1 = Wall([1,0,0],[0,0,0])\n",
    "W2 = Wall([-1,0,0],[Lx,0,0])\n",
    "    \n",
    "# Y coordinate walls\n",
    "W3 = Wall([0,1,0],[0,0,0])\n",
    "W4 = Wall([0,-1,0],[0,Ly,0])\n",
    "    \n",
    "# Z coordinate walls\n",
    "W5 = Wall([0,0,1],[0,0,0])\n",
    "W6 = Wall([0,0,-1],[0,0,Lz])\n",
    "\n",
    "walls = [W1,W2,W3,W4,W5,W6]\n",
    "# \n",
    "conf = Config(100,dt,walls)\n",
    "\n",
    "p = Particle(r=[3,1,10], v=[50,0,0], w=[0,0,-20])\n",
    "p = Set_I(p,SVector(1.0,1.0,1.0))\n",
    "\n",
    "Propagate([p], conf, vis_steps=65, file=\"Paraview/data\", save=true)"
   ]
  },
  {
   "cell_type": "code",
   "execution_count": 64,
   "id": "628386ae",
   "metadata": {},
   "outputs": [
    {
     "data": {
      "text/plain": [
       "BenchmarkTools.Trial: 10000 samples with 1000 evaluations.\n",
       " Range \u001b[90m(\u001b[39m\u001b[36m\u001b[1mmin\u001b[22m\u001b[39m … \u001b[35mmax\u001b[39m\u001b[90m):  \u001b[39m\u001b[36m\u001b[1m2.164 ns\u001b[22m\u001b[39m … \u001b[35m61.001 ns\u001b[39m  \u001b[90m┊\u001b[39m GC \u001b[90m(\u001b[39mmin … max\u001b[90m): \u001b[39m0.00% … 0.00%\n",
       " Time  \u001b[90m(\u001b[39m\u001b[34m\u001b[1mmedian\u001b[22m\u001b[39m\u001b[90m):     \u001b[39m\u001b[34m\u001b[1m2.400 ns              \u001b[22m\u001b[39m\u001b[90m┊\u001b[39m GC \u001b[90m(\u001b[39mmedian\u001b[90m):    \u001b[39m0.00%\n",
       " Time  \u001b[90m(\u001b[39m\u001b[32m\u001b[1mmean\u001b[22m\u001b[39m ± \u001b[32mσ\u001b[39m\u001b[90m):   \u001b[39m\u001b[32m\u001b[1m2.429 ns\u001b[22m\u001b[39m ± \u001b[32m 0.697 ns\u001b[39m  \u001b[90m┊\u001b[39m GC \u001b[90m(\u001b[39mmean ± σ\u001b[90m):  \u001b[39m0.00% ± 0.00%\n",
       "\n",
       "  \u001b[39m▆\u001b[39m \u001b[39m \u001b[39m \u001b[39m \u001b[39m \u001b[39m \u001b[39m \u001b[39m \u001b[39m▇\u001b[34m█\u001b[39m\u001b[32m \u001b[39m\u001b[39m \u001b[39m \u001b[39m \u001b[39m \u001b[39m \u001b[39m \u001b[39m \u001b[39m \u001b[39m \u001b[39m \u001b[39m \u001b[39m \u001b[39m \u001b[39m \u001b[39m \u001b[39m \u001b[39m \u001b[39m \u001b[39m \u001b[39m \u001b[39m \u001b[39m \u001b[39m \u001b[39m \u001b[39m \u001b[39m \u001b[39m \u001b[39m \u001b[39m \u001b[39m \u001b[39m \u001b[39m \u001b[39m \u001b[39m \u001b[39m \u001b[39m \u001b[39m \u001b[39m \u001b[39m \u001b[39m \u001b[39m \u001b[39m \u001b[39m \u001b[39m \u001b[39m \u001b[39m \u001b[39m \u001b[39m▂\n",
       "  \u001b[39m█\u001b[39m▁\u001b[39m▁\u001b[39m▁\u001b[39m▁\u001b[39m▁\u001b[39m▁\u001b[39m▁\u001b[39m▁\u001b[39m█\u001b[34m█\u001b[39m\u001b[32m▆\u001b[39m\u001b[39m▆\u001b[39m▄\u001b[39m▃\u001b[39m▃\u001b[39m▅\u001b[39m▃\u001b[39m▁\u001b[39m▃\u001b[39m▃\u001b[39m▄\u001b[39m▄\u001b[39m▃\u001b[39m▃\u001b[39m▄\u001b[39m▁\u001b[39m▁\u001b[39m▄\u001b[39m▁\u001b[39m▁\u001b[39m▁\u001b[39m▁\u001b[39m▁\u001b[39m▃\u001b[39m▃\u001b[39m▁\u001b[39m▃\u001b[39m▁\u001b[39m▁\u001b[39m▁\u001b[39m▃\u001b[39m▄\u001b[39m▃\u001b[39m▆\u001b[39m▆\u001b[39m▇\u001b[39m▇\u001b[39m▇\u001b[39m█\u001b[39m█\u001b[39m█\u001b[39m█\u001b[39m█\u001b[39m▇\u001b[39m█\u001b[39m█\u001b[39m▇\u001b[39m \u001b[39m█\n",
       "  2.16 ns\u001b[90m      \u001b[39m\u001b[90mHistogram: \u001b[39m\u001b[90m\u001b[1mlog(\u001b[22m\u001b[39m\u001b[90mfrequency\u001b[39m\u001b[90m\u001b[1m)\u001b[22m\u001b[39m\u001b[90m by time\u001b[39m     3.53 ns \u001b[0m\u001b[1m<\u001b[22m\n",
       "\n",
       " Memory estimate\u001b[90m: \u001b[39m\u001b[33m0 bytes\u001b[39m, allocs estimate\u001b[90m: \u001b[39m\u001b[33m0\u001b[39m."
      ]
     },
     "execution_count": 64,
     "metadata": {},
     "output_type": "execute_result"
    }
   ],
   "source": [
    "using BenchmarkTools\n",
    "v = SVector(1.3,1.2,1.3)\n",
    "@benchmark all($>(0), $v)"
   ]
  },
  {
   "cell_type": "code",
   "execution_count": 66,
   "id": "89c215cc",
   "metadata": {},
   "outputs": [
    {
     "ename": "LoadError",
     "evalue": "AssertionError: norm(p.q) ≈ 1",
     "output_type": "error",
     "traceback": [
      "AssertionError: norm(p.q) ≈ 1",
      "",
      "Stacktrace:",
      " [1] top-level scope",
      "   @ In[66]:1"
     ]
    }
   ],
   "source": [
    "@assert norm(p.q) ≈ 1"
   ]
  },
  {
   "cell_type": "code",
   "execution_count": 76,
   "id": "03a0a198",
   "metadata": {},
   "outputs": [
    {
     "data": {
      "text/plain": [
       "Quaternion{Float64}:\n",
       "  + 0.0 + 0.57735⋅\u001b[1mi\u001b[0m + 0.57735⋅\u001b[1mj\u001b[0m + 0.57735⋅\u001b[1mk\u001b[0m"
      ]
     },
     "execution_count": 76,
     "metadata": {},
     "output_type": "execute_result"
    }
   ],
   "source": [
    "if !(norm(p.q) ≈ 1)\n",
    "    p.q/norm(p.q)\n",
    "end"
   ]
  }
 ],
 "metadata": {
  "kernelspec": {
   "display_name": "Julia 1.8.3",
   "language": "julia",
   "name": "julia-1.8"
  },
  "language_info": {
   "file_extension": ".jl",
   "mimetype": "application/julia",
   "name": "julia",
   "version": "1.8.3"
  }
 },
 "nbformat": 4,
 "nbformat_minor": 5
}
