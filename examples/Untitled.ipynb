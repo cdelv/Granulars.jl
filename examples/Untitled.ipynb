{
 "cells": [
  {
   "cell_type": "code",
   "execution_count": 2,
   "id": "1a6c8c14",
   "metadata": {},
   "outputs": [],
   "source": [
    "using StaticArrays\n",
    "using BenchmarkTools\n",
    "include(\"../src/Granulars.jl\")"
   ]
  },
  {
   "cell_type": "code",
   "execution_count": 3,
   "id": "d6ee9702",
   "metadata": {},
   "outputs": [
    {
     "data": {
      "text/plain": [
       "Quaternion{Float64}:\n",
       "  + 0.835531 + 0.103842⋅\u001b[1mi\u001b[0m + 0.16937⋅\u001b[1mj\u001b[0m + 0.512268⋅\u001b[1mk\u001b[0m"
      ]
     },
     "execution_count": 3,
     "metadata": {},
     "output_type": "execute_result"
    }
   ],
   "source": [
    "qi = angle_to_quat(EulerAngles(0.0,0.1,1.0, :XYZ))\n",
    "qj = angle_to_quat(EulerAngles(0.0,0.2,1.0, :XYZ))\n",
    "\n",
    "qii = angle_to_quat(EulerAngles(0.0,0.2,1.0, :XYZ))\n",
    "qjj = angle_to_quat(EulerAngles(0.0,0.4,1.1, :XYZ))"
   ]
  },
  {
   "cell_type": "code",
   "execution_count": 4,
   "id": "258bab7c",
   "metadata": {},
   "outputs": [
    {
     "data": {
      "text/plain": [
       "EulerAngles{Float64}:\n",
       "\u001b[32;1m  R(X) : \u001b[0m 0.084229   rad  ( 4.82596°)\n",
       "\u001b[33;1m  R(Y) : \u001b[0m 0.0539664  rad  ( 3.09205°)\n",
       "\u001b[34;1m  R(Z) : \u001b[0m-0.00227466 rad  (-0.130329°)"
      ]
     },
     "execution_count": 4,
     "metadata": {},
     "output_type": "execute_result"
    }
   ],
   "source": [
    "Δq = qj ∘ inv(qi)\n",
    "quat_to_angle(Δq, :XYZ)"
   ]
  },
  {
   "cell_type": "code",
   "execution_count": 5,
   "id": "3f0f7258",
   "metadata": {},
   "outputs": [
    {
     "data": {
      "text/plain": [
       "EulerAngles{Float64}:\n",
       "\u001b[32;1m  R(X) : \u001b[0m 0.168949  rad  ( 9.68004°)\n",
       "\u001b[33;1m  R(Y) : \u001b[0m 0.107549  rad  ( 6.16209°)\n",
       "\u001b[34;1m  R(Z) : \u001b[0m 0.0908845 rad  ( 5.2073°)"
      ]
     },
     "execution_count": 5,
     "metadata": {},
     "output_type": "execute_result"
    }
   ],
   "source": [
    "Δqq = qjj ∘ inv(qii)\n",
    "quat_to_angle(Δqq, :XYZ)"
   ]
  },
  {
   "cell_type": "code",
   "execution_count": 6,
   "id": "20db310d",
   "metadata": {},
   "outputs": [
    {
     "data": {
      "text/plain": [
       "EulerAngles{Float64}:\n",
       "\u001b[32;1m  R(X) : \u001b[0m 0.084229  rad  ( 4.82596°)\n",
       "\u001b[33;1m  R(Y) : \u001b[0m 0.0539664 rad  ( 3.09205°)\n",
       "\u001b[34;1m  R(Z) : \u001b[0m 0.0977253 rad  ( 5.59925°)"
      ]
     },
     "execution_count": 6,
     "metadata": {},
     "output_type": "execute_result"
    }
   ],
   "source": [
    "q = Δqq ∘ inv(Δq)\n",
    "quat_to_angle(q, :XYZ)"
   ]
  },
  {
   "cell_type": "code",
   "execution_count": 12,
   "id": "b629a785",
   "metadata": {},
   "outputs": [
    {
     "data": {
      "text/plain": [
       "4×4 Matrix{Float64}:\n",
       " 0.0  0.0  0.0  0.0\n",
       " 0.0  0.0  0.0  0.0\n",
       " 0.0  0.0  0.0  0.0\n",
       " 0.0  0.0  0.0  0.0"
      ]
     },
     "execution_count": 12,
     "metadata": {},
     "output_type": "execute_result"
    }
   ],
   "source": [
    "zeros(4,4)"
   ]
  },
  {
   "cell_type": "code",
   "execution_count": null,
   "id": "2e7bdbdb",
   "metadata": {},
   "outputs": [],
   "source": []
  }
 ],
 "metadata": {
  "kernelspec": {
   "display_name": "Julia 1.8.3",
   "language": "julia",
   "name": "julia-1.8"
  },
  "language_info": {
   "file_extension": ".jl",
   "mimetype": "application/julia",
   "name": "julia",
   "version": "1.8.3"
  }
 },
 "nbformat": 4,
 "nbformat_minor": 5
}
