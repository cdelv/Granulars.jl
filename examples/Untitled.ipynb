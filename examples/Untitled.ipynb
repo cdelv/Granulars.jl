{
 "cells": [
  {
   "cell_type": "markdown",
   "id": "fbcc0bd1",
   "metadata": {},
   "source": [
    "### using StaticArrays\n",
    "using BenchmarkTools\n",
    "using Distributions\n",
    "include(\"../src/Granulars.jl\")"
   ]
  },
  {
   "cell_type": "code",
   "execution_count": 4,
   "id": "03f1c207",
   "metadata": {},
   "outputs": [
    {
     "data": {
      "text/plain": [
       "3-element SVector{3, Float64} with indices SOneTo(3):\n",
       "  0.9730677304835222\n",
       "  0.44412066021903196\n",
       " -0.3196408536780777"
      ]
     },
     "execution_count": 4,
     "metadata": {},
     "output_type": "execute_result"
    }
   ],
   "source": [
    "SVector{3}(rand(Uniform(-1, 1), 3))"
   ]
  },
  {
   "cell_type": "code",
   "execution_count": 23,
   "id": "5d44c88c",
   "metadata": {},
   "outputs": [
    {
     "data": {
      "text/plain": [
       "Proces_Particles (generic function with 4 methods)"
      ]
     },
     "execution_count": 23,
     "metadata": {},
     "output_type": "execute_result"
    }
   ],
   "source": [
    "function Proces_Particles(i::Int64, t::Float64, p::Particle)::Vector{Float64}\n",
    "    ϕ::EulerAngles{Float64} = quat_to_angle(p.q, :XYZ)\n",
    "    w::SVector{3, Float64} = Body_to_lab(p.w,p.q)\n",
    "    τ::SVector{3, Float64} = Body_to_lab(p.w,p.q)\n",
    "    @inbounds [\n",
    "        i, t, p.r[1],p.r[2],p.r[3],p.v[1],p.v[2],p.v[3],p.a[1],p.a[2],p.a[3],\n",
    "        ϕ.a1,ϕ.a2,ϕ.a3,w[1],w[2],w[3],τ[1],τ[2],τ[3],\n",
    "        p.m, p.I[1], p.I[2], p.I[3], p.rad]\n",
    "end"
   ]
  },
  {
   "cell_type": "code",
   "execution_count": 24,
   "id": "c3376bfe",
   "metadata": {},
   "outputs": [
    {
     "data": {
      "text/plain": [
       "10-element Vector{Vector{Float64}}:\n",
       " [1.0, 10.0, 0.0, 0.0, 0.0, 0.0, 0.0, 0.0, 0.0, 0.0  …  0.0, 0.0, 0.0, 0.0, 0.0, 1.0, 1.0, 1.0, 1.0, 1.0]\n",
       " [2.0, 10.0, 0.0, 0.0, 0.0, 0.0, 0.0, 0.0, 0.0, 0.0  …  0.0, 0.0, 0.0, 0.0, 0.0, 1.0, 1.0, 1.0, 1.0, 1.0]\n",
       " [3.0, 10.0, 0.0, 0.0, 0.0, 0.0, 0.0, 0.0, 0.0, 0.0  …  0.0, 0.0, 0.0, 0.0, 0.0, 1.0, 1.0, 1.0, 1.0, 1.0]\n",
       " [4.0, 10.0, 0.0, 0.0, 0.0, 0.0, 0.0, 0.0, 0.0, 0.0  …  0.0, 0.0, 0.0, 0.0, 0.0, 1.0, 1.0, 1.0, 1.0, 1.0]\n",
       " [5.0, 10.0, 0.0, 0.0, 0.0, 0.0, 0.0, 0.0, 0.0, 0.0  …  0.0, 0.0, 0.0, 0.0, 0.0, 1.0, 1.0, 1.0, 1.0, 1.0]\n",
       " [6.0, 10.0, 0.0, 0.0, 0.0, 0.0, 0.0, 0.0, 0.0, 0.0  …  0.0, 0.0, 0.0, 0.0, 0.0, 1.0, 1.0, 1.0, 1.0, 1.0]\n",
       " [7.0, 10.0, 0.0, 0.0, 0.0, 0.0, 0.0, 0.0, 0.0, 0.0  …  0.0, 0.0, 0.0, 0.0, 0.0, 1.0, 1.0, 1.0, 1.0, 1.0]\n",
       " [8.0, 10.0, 0.0, 0.0, 0.0, 0.0, 0.0, 0.0, 0.0, 0.0  …  0.0, 0.0, 0.0, 0.0, 0.0, 1.0, 1.0, 1.0, 1.0, 1.0]\n",
       " [9.0, 10.0, 0.0, 0.0, 0.0, 0.0, 0.0, 0.0, 0.0, 0.0  …  0.0, 0.0, 0.0, 0.0, 0.0, 1.0, 1.0, 1.0, 1.0, 1.0]\n",
       " [10.0, 10.0, 0.0, 0.0, 0.0, 0.0, 0.0, 0.0, 0.0, 0.0  …  0.0, 0.0, 0.0, 0.0, 0.0, 1.0, 1.0, 1.0, 1.0, 1.0]"
      ]
     },
     "execution_count": 24,
     "metadata": {},
     "output_type": "execute_result"
    }
   ],
   "source": [
    "d = Proces_Particles.(1:10, 10.0, particles)"
   ]
  },
  {
   "cell_type": "code",
   "execution_count": 8,
   "id": "ef125d66",
   "metadata": {},
   "outputs": [
    {
     "data": {
      "text/plain": [
       "10-element StructArray(::Vector{SVector{3, Float64}}, ::Vector{SVector{3, Float64}}, ::Vector{SVector{3, Float64}}, ::Vector{Quaternion{Float64}}, ::Vector{SVector{3, Float64}}, ::Vector{SVector{3, Float64}}, ::Vector{Float64}, ::Vector{SVector{3, Float64}}, ::Vector{Float64}) with eltype Particle:\n",
       " Particle([0.0, 0.0, 0.0], [0.0, 0.0, 0.0], [0.0, 0.0, 0.0], Quaternion{Float64}: + 0.0 + 1.0⋅i + 1.0⋅j + 1.0⋅k, [0.0, 0.0, 0.0], [0.0, 0.0, 0.0], 1.0, [1.0, 1.0, 1.0], 1.0)\n",
       " Particle([0.0, 0.0, 0.0], [0.0, 0.0, 0.0], [0.0, 0.0, 0.0], Quaternion{Float64}: + 0.0 + 1.0⋅i + 1.0⋅j + 1.0⋅k, [0.0, 0.0, 0.0], [0.0, 0.0, 0.0], 1.0, [1.0, 1.0, 1.0], 1.0)\n",
       " Particle([0.0, 0.0, 0.0], [0.0, 0.0, 0.0], [0.0, 0.0, 0.0], Quaternion{Float64}: + 0.0 + 1.0⋅i + 1.0⋅j + 1.0⋅k, [0.0, 0.0, 0.0], [0.0, 0.0, 0.0], 1.0, [1.0, 1.0, 1.0], 1.0)\n",
       " Particle([0.0, 0.0, 0.0], [0.0, 0.0, 0.0], [0.0, 0.0, 0.0], Quaternion{Float64}: + 0.0 + 1.0⋅i + 1.0⋅j + 1.0⋅k, [0.0, 0.0, 0.0], [0.0, 0.0, 0.0], 1.0, [1.0, 1.0, 1.0], 1.0)\n",
       " Particle([0.0, 0.0, 0.0], [0.0, 0.0, 0.0], [0.0, 0.0, 0.0], Quaternion{Float64}: + 0.0 + 1.0⋅i + 1.0⋅j + 1.0⋅k, [0.0, 0.0, 0.0], [0.0, 0.0, 0.0], 1.0, [1.0, 1.0, 1.0], 1.0)\n",
       " Particle([0.0, 0.0, 0.0], [0.0, 0.0, 0.0], [0.0, 0.0, 0.0], Quaternion{Float64}: + 0.0 + 1.0⋅i + 1.0⋅j + 1.0⋅k, [0.0, 0.0, 0.0], [0.0, 0.0, 0.0], 1.0, [1.0, 1.0, 1.0], 1.0)\n",
       " Particle([0.0, 0.0, 0.0], [0.0, 0.0, 0.0], [0.0, 0.0, 0.0], Quaternion{Float64}: + 0.0 + 1.0⋅i + 1.0⋅j + 1.0⋅k, [0.0, 0.0, 0.0], [0.0, 0.0, 0.0], 1.0, [1.0, 1.0, 1.0], 1.0)\n",
       " Particle([0.0, 0.0, 0.0], [0.0, 0.0, 0.0], [0.0, 0.0, 0.0], Quaternion{Float64}: + 0.0 + 1.0⋅i + 1.0⋅j + 1.0⋅k, [0.0, 0.0, 0.0], [0.0, 0.0, 0.0], 1.0, [1.0, 1.0, 1.0], 1.0)\n",
       " Particle([0.0, 0.0, 0.0], [0.0, 0.0, 0.0], [0.0, 0.0, 0.0], Quaternion{Float64}: + 0.0 + 1.0⋅i + 1.0⋅j + 1.0⋅k, [0.0, 0.0, 0.0], [0.0, 0.0, 0.0], 1.0, [1.0, 1.0, 1.0], 1.0)\n",
       " Particle([0.0, 0.0, 0.0], [0.0, 0.0, 0.0], [0.0, 0.0, 0.0], Quaternion{Float64}: + 0.0 + 1.0⋅i + 1.0⋅j + 1.0⋅k, [0.0, 0.0, 0.0], [0.0, 0.0, 0.0], 1.0, [1.0, 1.0, 1.0], 1.0)"
      ]
     },
     "execution_count": 8,
     "metadata": {},
     "output_type": "execute_result"
    }
   ],
   "source": [
    "data = Particle[]\n",
    "\n",
    "for i in 1:10\n",
    "    push!(data, Particle())\n",
    "end\n",
    "\n",
    "particles = StructArray(data)"
   ]
  },
  {
   "cell_type": "code",
   "execution_count": 9,
   "id": "33fc9cfc",
   "metadata": {},
   "outputs": [
    {
     "data": {
      "text/plain": [
       "10-element Vector{Vector{Float64}}:\n",
       " [0.0, 0.0, 0.0, 0.0, 0.0, 0.0, 0.0, 0.0, 0.0, 2.0344439357957027  …  0.0, 0.0, 0.0, 0.0, 0.0, 1.0, 1.0, 1.0, 1.0, 1.0]\n",
       " [0.0, 0.0, 0.0, 0.0, 0.0, 0.0, 0.0, 0.0, 0.0, 2.0344439357957027  …  0.0, 0.0, 0.0, 0.0, 0.0, 1.0, 1.0, 1.0, 1.0, 1.0]\n",
       " [0.0, 0.0, 0.0, 0.0, 0.0, 0.0, 0.0, 0.0, 0.0, 2.0344439357957027  …  0.0, 0.0, 0.0, 0.0, 0.0, 1.0, 1.0, 1.0, 1.0, 1.0]\n",
       " [0.0, 0.0, 0.0, 0.0, 0.0, 0.0, 0.0, 0.0, 0.0, 2.0344439357957027  …  0.0, 0.0, 0.0, 0.0, 0.0, 1.0, 1.0, 1.0, 1.0, 1.0]\n",
       " [0.0, 0.0, 0.0, 0.0, 0.0, 0.0, 0.0, 0.0, 0.0, 2.0344439357957027  …  0.0, 0.0, 0.0, 0.0, 0.0, 1.0, 1.0, 1.0, 1.0, 1.0]\n",
       " [0.0, 0.0, 0.0, 0.0, 0.0, 0.0, 0.0, 0.0, 0.0, 2.0344439357957027  …  0.0, 0.0, 0.0, 0.0, 0.0, 1.0, 1.0, 1.0, 1.0, 1.0]\n",
       " [0.0, 0.0, 0.0, 0.0, 0.0, 0.0, 0.0, 0.0, 0.0, 2.0344439357957027  …  0.0, 0.0, 0.0, 0.0, 0.0, 1.0, 1.0, 1.0, 1.0, 1.0]\n",
       " [0.0, 0.0, 0.0, 0.0, 0.0, 0.0, 0.0, 0.0, 0.0, 2.0344439357957027  …  0.0, 0.0, 0.0, 0.0, 0.0, 1.0, 1.0, 1.0, 1.0, 1.0]\n",
       " [0.0, 0.0, 0.0, 0.0, 0.0, 0.0, 0.0, 0.0, 0.0, 2.0344439357957027  …  0.0, 0.0, 0.0, 0.0, 0.0, 1.0, 1.0, 1.0, 1.0, 1.0]\n",
       " [0.0, 0.0, 0.0, 0.0, 0.0, 0.0, 0.0, 0.0, 0.0, 2.0344439357957027  …  0.0, 0.0, 0.0, 0.0, 0.0, 1.0, 1.0, 1.0, 1.0, 1.0]"
      ]
     },
     "execution_count": 9,
     "metadata": {},
     "output_type": "execute_result"
    }
   ],
   "source": [
    "d = Proces_Particles.(particles)"
   ]
  },
  {
   "cell_type": "code",
   "execution_count": 14,
   "id": "7116bd5d",
   "metadata": {},
   "outputs": [
    {
     "name": "stdout",
     "output_type": "stream",
     "text": [
      "  313.650 ns (2 allocations: 2.00 KiB)\n"
     ]
    },
    {
     "data": {
      "text/plain": [
       "10×23 adjoint(::Matrix{Float64}) with eltype Float64:\n",
       " 0.0  0.0  0.0  0.0  0.0  0.0  0.0  0.0  …  0.0  0.0  1.0  1.0  1.0  1.0  1.0\n",
       " 0.0  0.0  0.0  0.0  0.0  0.0  0.0  0.0     0.0  0.0  1.0  1.0  1.0  1.0  1.0\n",
       " 0.0  0.0  0.0  0.0  0.0  0.0  0.0  0.0     0.0  0.0  1.0  1.0  1.0  1.0  1.0\n",
       " 0.0  0.0  0.0  0.0  0.0  0.0  0.0  0.0     0.0  0.0  1.0  1.0  1.0  1.0  1.0\n",
       " 0.0  0.0  0.0  0.0  0.0  0.0  0.0  0.0     0.0  0.0  1.0  1.0  1.0  1.0  1.0\n",
       " 0.0  0.0  0.0  0.0  0.0  0.0  0.0  0.0  …  0.0  0.0  1.0  1.0  1.0  1.0  1.0\n",
       " 0.0  0.0  0.0  0.0  0.0  0.0  0.0  0.0     0.0  0.0  1.0  1.0  1.0  1.0  1.0\n",
       " 0.0  0.0  0.0  0.0  0.0  0.0  0.0  0.0     0.0  0.0  1.0  1.0  1.0  1.0  1.0\n",
       " 0.0  0.0  0.0  0.0  0.0  0.0  0.0  0.0     0.0  0.0  1.0  1.0  1.0  1.0  1.0\n",
       " 0.0  0.0  0.0  0.0  0.0  0.0  0.0  0.0     0.0  0.0  1.0  1.0  1.0  1.0  1.0"
      ]
     },
     "execution_count": 14,
     "metadata": {},
     "output_type": "execute_result"
    }
   ],
   "source": [
    "@btime reduce(hcat, d)'"
   ]
  },
  {
   "cell_type": "code",
   "execution_count": 12,
   "id": "621f6ec9",
   "metadata": {},
   "outputs": [
    {
     "data": {
      "text/plain": [
       "Tables.MatrixTable{Adjoint{Float64, Matrix{Float64}}} with 10 rows, 23 columns, and schema:\n",
       " :Column1   Float64\n",
       " :Column2   Float64\n",
       " :Column3   Float64\n",
       " :Column4   Float64\n",
       " :Column5   Float64\n",
       " :Column6   Float64\n",
       " :Column7   Float64\n",
       " :Column8   Float64\n",
       " :Column9   Float64\n",
       " :Column10  Float64\n",
       " :Column11  Float64\n",
       " :Column12  Float64\n",
       " :Column13  Float64\n",
       " :Column14  Float64\n",
       " :Column15  Float64\n",
       " :Column16  Float64\n",
       " :Column17  Float64\n",
       " :Column18  Float64\n",
       " :Column19  Float64\n",
       " :Column20  Float64\n",
       " :Column21  Float64\n",
       " :Column22  Float64\n",
       " :Column23  Float64"
      ]
     },
     "execution_count": 12,
     "metadata": {},
     "output_type": "execute_result"
    }
   ],
   "source": [
    "table = CSV.Tables.table(reduce(hcat, d)')"
   ]
  },
  {
   "cell_type": "code",
   "execution_count": 13,
   "id": "5dc75843",
   "metadata": {},
   "outputs": [
    {
     "data": {
      "text/plain": [
       "\"test.csv\""
      ]
     },
     "execution_count": 13,
     "metadata": {},
     "output_type": "execute_result"
    }
   ],
   "source": [
    "CSV.write(\"test.csv\",table) "
   ]
  },
  {
   "cell_type": "code",
   "execution_count": null,
   "id": "77833ece",
   "metadata": {},
   "outputs": [],
   "source": [
    "@btime Proces_Particles.($particles)"
   ]
  },
  {
   "cell_type": "code",
   "execution_count": 1,
   "id": "9805379f",
   "metadata": {},
   "outputs": [
    {
     "ename": "LoadError",
     "evalue": "ArgumentError: cannot reinterpret `Vector{Float64}` as `Float64`, type `Vector{Float64}` is not a bits type",
     "output_type": "error",
     "traceback": [
      "ArgumentError: cannot reinterpret `Vector{Float64}` as `Float64`, type `Vector{Float64}` is not a bits type",
      "",
      "Stacktrace:",
      " [1] (::Base.var\"#throwbits#294\")(S::Type, T::Type, U::Type)",
      "   @ Base ./reinterpretarray.jl:16",
      " [2] reinterpret(#unused#::Type{Float64}, a::Vector{Vector{Float64}})",
      "   @ Base ./reinterpretarray.jl:41",
      " [3] top-level scope",
      "   @ In[1]:2"
     ]
    }
   ],
   "source": [
    "d = [[1.0,1.0],[2.0,2.0]]\n",
    "reinterpret(Float64,d)"
   ]
  }
 ],
 "metadata": {
  "kernelspec": {
   "display_name": "Julia 1.8.3",
   "language": "julia",
   "name": "julia-1.8"
  },
  "language_info": {
   "file_extension": ".jl",
   "mimetype": "application/julia",
   "name": "julia",
   "version": "1.8.3"
  }
 },
 "nbformat": 4,
 "nbformat_minor": 5
}
