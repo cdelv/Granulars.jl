{
 "cells": [
  {
   "cell_type": "code",
   "execution_count": 1,
   "id": "1c1285d4",
   "metadata": {},
   "outputs": [],
   "source": [
    "using StaticArrays\n",
    "using BenchmarkTools\n",
    "include(\"../src/Granulars.jl\")"
   ]
  },
  {
   "cell_type": "code",
   "execution_count": 2,
   "id": "7c77b397",
   "metadata": {},
   "outputs": [
    {
     "data": {
      "text/plain": [
       "Beam_Orientation (generic function with 1 method)"
      ]
     },
     "execution_count": 2,
     "metadata": {},
     "output_type": "execute_result"
    }
   ],
   "source": [
    "function Beam_Orientation(n::SVector{3, Float64})::Quaternion{Float64}\n",
    "    ex::SVector{3} = SVector(1.0,0.0,0.0) # x axis\n",
    "    Angle::Float64 = angle(ex,n) # rotation angle\n",
    "    u::SVector{3} = cross(ex,n)/(sin(Angle)+1e-9) # rotation axis\n",
    "    angleaxis_to_quat(EulerAngleAxis(Angle, u))\n",
    "end"
   ]
  },
  {
   "cell_type": "code",
   "execution_count": 3,
   "id": "ab13c34e",
   "metadata": {},
   "outputs": [
    {
     "data": {
      "text/plain": [
       "Quaternion{Float64}:\n",
       "  + 0.973339 + 0.187222⋅\u001b[1mi\u001b[0m + 0.113645⋅\u001b[1mj\u001b[0m + 0.0681422⋅\u001b[1mk\u001b[0m"
      ]
     },
     "execution_count": 3,
     "metadata": {},
     "output_type": "execute_result"
    }
   ],
   "source": [
    "qs = Quaternion(0.973339 , 0.187222 , 0.113645 , 0.0681422)"
   ]
  },
  {
   "cell_type": "code",
   "execution_count": 4,
   "id": "afc7cd9b",
   "metadata": {},
   "outputs": [
    {
     "data": {
      "text/plain": [
       "Quaternion{Float64}:\n",
       "  + 0.973249 + 0.0⋅\u001b[1mi\u001b[0m + 0.0⋅\u001b[1mj\u001b[0m + 0.229753⋅\u001b[1mk\u001b[0m"
      ]
     },
     "execution_count": 4,
     "metadata": {},
     "output_type": "execute_result"
    }
   ],
   "source": [
    "w = SVector(1.0, 0.5, 0.0)\n",
    "qb = Beam_Orientation(unitary(w))"
   ]
  },
  {
   "cell_type": "code",
   "execution_count": 5,
   "id": "5c398962",
   "metadata": {},
   "outputs": [
    {
     "data": {
      "text/plain": [
       "Quaternion{Float64}:\n",
       "  - 0.962957 - 0.156103⋅\u001b[1mi\u001b[0m - 0.15362⋅\u001b[1mj\u001b[0m + 0.157308⋅\u001b[1mk\u001b[0m"
      ]
     },
     "execution_count": 5,
     "metadata": {},
     "output_type": "execute_result"
    }
   ],
   "source": [
    "Δq = qs * (-conj(qb))"
   ]
  },
  {
   "cell_type": "code",
   "execution_count": 6,
   "id": "02be09c6",
   "metadata": {},
   "outputs": [
    {
     "data": {
      "text/plain": [
       "Quaternion{Float64}:\n",
       "  + 0.973248 - 1.38778e-17⋅\u001b[1mi\u001b[0m - 6.93889e-18⋅\u001b[1mj\u001b[0m + 0.229753⋅\u001b[1mk\u001b[0m"
      ]
     },
     "execution_count": 6,
     "metadata": {},
     "output_type": "execute_result"
    }
   ],
   "source": [
    "-conj(Δq) * qs"
   ]
  },
  {
   "cell_type": "code",
   "execution_count": 10,
   "id": "ee28a9bf",
   "metadata": {},
   "outputs": [
    {
     "name": "stdout",
     "output_type": "stream",
     "text": [
      "  2.175 ns (0 allocations: 0 bytes)\n"
     ]
    },
    {
     "data": {
      "text/plain": [
       "Quaternion{Float64}:\n",
       "  + 0.97334 - 0.187222⋅\u001b[1mi\u001b[0m - 0.113645⋅\u001b[1mj\u001b[0m - 0.0681422⋅\u001b[1mk\u001b[0m"
      ]
     },
     "execution_count": 10,
     "metadata": {},
     "output_type": "execute_result"
    }
   ],
   "source": [
    "@btime inv($qs)"
   ]
  },
  {
   "cell_type": "code",
   "execution_count": 11,
   "id": "c109bd7d",
   "metadata": {},
   "outputs": [
    {
     "name": "stdout",
     "output_type": "stream",
     "text": [
      "  1.684 ns (0 allocations: 0 bytes)\n"
     ]
    },
    {
     "data": {
      "text/plain": [
       "Quaternion{Float64}:\n",
       "  + 0.973339 - 0.187222⋅\u001b[1mi\u001b[0m - 0.113645⋅\u001b[1mj\u001b[0m - 0.0681422⋅\u001b[1mk\u001b[0m"
      ]
     },
     "execution_count": 11,
     "metadata": {},
     "output_type": "execute_result"
    }
   ],
   "source": [
    "@btime conj($qs)"
   ]
  },
  {
   "cell_type": "code",
   "execution_count": null,
   "id": "981c1b74",
   "metadata": {},
   "outputs": [],
   "source": []
  }
 ],
 "metadata": {
  "kernelspec": {
   "display_name": "Julia 1.8.3",
   "language": "julia",
   "name": "julia-1.8"
  },
  "language_info": {
   "file_extension": ".jl",
   "mimetype": "application/julia",
   "name": "julia",
   "version": "1.8.3"
  }
 },
 "nbformat": 4,
 "nbformat_minor": 5
}
